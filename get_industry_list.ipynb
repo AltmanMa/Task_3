{
 "cells": [
  {
   "cell_type": "code",
   "execution_count": 4,
   "metadata": {},
   "outputs": [
    {
     "name": "stdout",
     "output_type": "stream",
     "text": [
      "{'Basic Materials': ['Agricultural Chemicals', 'Agricultural Inputs', 'Aluminum', 'Building Materials', 'Chemicals', 'Chemicals - Major Diversified', 'Coal', 'Coking Coal', 'Copper', 'Gold', 'Independent Oil & Gas', 'Industrial Metals & Minerals', 'Lumber & Wood Production', 'Major Integrated Oil & Gas', 'Nonmetallic Mineral Mining', 'Oil & Gas Drilling & Exploration', 'Oil & Gas Equipment & Services', 'Oil & Gas Pipelines', 'Oil & Gas Refining & Marketing', 'Other Industrial Metals & Mining', 'Other Precious Metals & Mining', 'Paper & Paper Products', 'Silver', 'Specialty Chemicals', 'Steel', 'Steel & Iron', 'Synthetics'], 'Communication Services': ['Advertising Agencies', 'Broadcasting', 'Electronic Gaming & Multimedia', 'Entertainment', 'Internet Content & Information', 'Pay TV', 'Publishing', 'Telecom Services'], 'Conglomerates': ['Conglomerates'], 'Consumer Cyclical': ['Advertising Agencies', 'Apparel Manufacturing', 'Apparel Retail', 'Apparel Stores', 'Auto & Truck Dealerships', 'Auto Manufacturers', 'Auto Parts', 'Broadcasting - Radio', 'Broadcasting - TV', 'Department Stores', 'Footwear & Accessories', 'Furnishings, Fixtures & Appliances', 'Gambling', 'Home Furnishings & Fixtures', 'Home Improvement Retail', 'Home Improvement Stores', 'Internet Retail', 'Leisure', 'Lodging', 'Luxury Goods', 'Marketing Services', 'Media - Diversified', 'Packaging & Containers', 'Personal Services', 'Publishing', 'Recreational Vehicles', 'Residential Construction', 'Resorts & Casinos', 'Restaurants', 'Rubber & Plastics', 'Specialty Retail', 'Textile Manufacturing', 'Travel Services'], 'Consumer Defensive': ['Beverages - Brewers', 'Beverages - Soft Drinks', 'Beverages - Wineries & Distilleries', 'Beverages-Brewers', 'Beverages-Non-Alcoholic', 'Beverages-Wineries & Distilleries', 'Confectioners', 'Discount Stores', 'Education & Training Services', 'Farm Products', 'Food Distribution', 'Grocery Stores', 'Household & Personal Products', 'Packaged Foods', 'Pharmaceutical Retailers', 'Tobacco'], 'Consumer Goods': ['Appliances', 'Auto Manufacturers - Major', 'Auto Parts', 'Beverages - Brewers', 'Beverages - Soft Drinks', 'Beverages - Wineries & Distillers', 'Business Equipment', 'Cigarettes', 'Cleaning Products', 'Confectioners', 'Dairy Products', 'Electronic Equipment', 'Farm Products', 'Food - Major Diversified', 'Home Furnishings & Fixtures', 'Housewares & Accessories', 'Meat Products', 'Office Supplies', 'Packaging & Containers', 'Paper & Paper Products', 'Personal Products', 'Photographic Equipment & Supplies', 'Processed & Packaged Goods', 'Recreational Goods, Other', 'Recreational Vehicles', 'REIT - Retail', 'Rubber & Plastics', 'Sporting Goods', 'Textile - Apparel Clothing', 'Textile - Apparel Footwear & Accessories', 'Tobacco Products, Other', 'Toys & Games', 'Trucks & Other Vehicles'], 'Energy': ['Oil & Gas Drilling', 'Oil & Gas E&P', 'Oil & Gas Equipment & Services', 'Oil & Gas Integrated', 'Oil & Gas Midstream', 'Oil & Gas Refining & Marketing', 'Thermal Coal', 'Uranium'], 'Financial': ['Accident & Health Insurance', 'Asset Management', 'Closed-End Fund - Debt', 'Closed-End Fund - Equity', 'Closed-End Fund - Foreign', 'Credit Services', 'Diversified Investments', 'Foreign Money Center Banks', 'Foreign Regional Banks', 'Insurance Brokers', 'Investment Brokerage - National', 'Investment Brokerage - Regional', 'Life Insurance', 'Money Center Banks', 'Mortgage Investment', 'Property & Casualty Insurance', 'Property Management', 'Real Estate Development', 'Regional - Mid-Atlantic Banks', 'Regional - Midwest Banks', 'Regional - Northeast Banks', 'Regional - Pacific Banks', 'Regional - Southeast Banks', 'Regional - Southwest  Banks', 'REIT - Diversified', 'REIT - Healthcare Facilities', 'REIT - Hotel/Motel', 'REIT - Industrial', 'REIT - Office', 'REIT - Residential', 'REIT - Retail', 'Savings & Loans', 'Surety & Title Insurance'], 'Financial Services': ['Asset Management', 'Banks - Global', 'Banks - Regional - Africa', 'Banks - Regional - Asia', 'Banks - Regional - Australia', 'Banks - Regional - Canada', 'Banks - Regional - Europe', 'Banks - Regional - Latin America', 'Banks - Regional - US', 'Banks-Diversified', 'Banks-Regional', 'Capital Markets', 'Credit Services', 'Financial Conglomerates', 'Financial Data & Stock Exchanges', 'Financial Exchanges', 'Insurance - Diversified', 'Insurance - Life', 'Insurance - Property & Casualty', 'Insurance - Reinsurance', 'Insurance - Specialty', 'Insurance Brokers', 'Insurance-Diversified', 'Insurance-Life', 'Insurance-Property & Casualty', 'Insurance-Reinsurance', 'Insurance-Specialty', 'Mortgage Finance', 'Savings & Cooperative Banks', 'Shell Companies', 'Specialty Finance'], 'Healthcare': ['Biotechnology', 'Diagnostic Substances', 'Diagnostics & Research', 'Drug Delivery', 'Drug Manufacturers - Major', 'Drug Manufacturers - Other', 'Drug Manufacturers - Specialty & Generic', 'Drug Manufacturers-General', 'Drug Manufacturers-Specialty & Generic', 'Drug Related Products', 'Drugs - Generic', 'Health Care Plans', 'Health Information Services', 'Healthcare Plans', 'Home Health Care', 'Hospitals', 'Long-Term Care Facilities', 'Medical Appliances & Equipment', 'Medical Care', 'Medical Care Facilities', 'Medical Devices', 'Medical Distribution', 'Medical Instruments & Supplies', 'Medical Laboratories & Research', 'Medical Practitioners', 'Pharmaceutical Retailers', 'Specialized Health Services'], 'Industrial Goods': ['Aerospace/Defense - Major Diversified', 'Aerospace/Defense Products & Services', 'Cement', 'Diversified Machinery', 'Farm & Construction Machinery', 'General Building Materials', 'General Contractors', 'Heavy Construction', 'Industrial Electrical Equipment', 'Industrial Equipment & Components', 'Lumber, Wood Production', 'Machine Tools & Accessories', 'Manufactured Housing', 'Metal Fabrication', 'Pollution & Treatment Controls', 'Residential Construction', 'Small Tools & Accessories', 'Textile Industrial', 'Waste Management'], 'Industrials': ['Aerospace & Defense', 'Airlines', 'Airports & Air Services', 'Building Products & Equipment', 'Business Equipment', 'Business Equipment & Supplies', 'Business Services', 'Conglomerates', 'Consulting Services', 'Diversified Industrials', 'Electrical Equipment & Parts', 'Engineering & Construction', 'Farm & Construction Equipment', 'Farm & Heavy Construction Machinery', 'Industrial Distribution', 'Infrastructure Operations', 'Integrated Freight & Logistics', 'Integrated Shipping & Logistics', 'Marine Shipping', 'Metal Fabrication', 'Pollution & Treatment Controls', 'Railroads', 'Rental & Leasing Services', 'Security & Protection Services', 'Shipping & Ports', 'Specialty Business Services', 'Specialty Industrial Machinery', 'Staffing & Employment Services', 'Staffing & Outsourcing Services', 'Tools & Accessories', 'Truck Manufacturing', 'Trucking', 'Waste Management'], 'Other': ['Other'], 'Real Estate': ['Real Estate - General', 'Real Estate Services', 'Real Estate-Development', 'Real Estate-Diversified', 'REIT - Diversified', 'REIT - Healthcare Facilities', 'REIT - Hotel & Motel', 'REIT - Industrial', 'REIT - Office', 'REIT - Residential', 'REIT - Retail', 'REIT-Diversified', 'REIT-Healthcare Facilities', 'REIT-Hotel & Motel', 'REIT-Industrial', 'REIT-Mortgage', 'REIT-Office', 'REIT-Residential', 'REIT-Retail', 'REIT-Specialty'], 'Services': ['Advertising Agencies', 'Air Delivery & Freight Services', 'Air Services, Other', 'Apparel Stores', 'Auto Dealerships', 'Auto Parts Stores', 'Auto Parts Wholesale', 'Basic Materials Wholesale', 'Broadcasting - Radio', 'Broadcasting - TV', 'Building Materials Wholesale', 'Business Services', 'Catalog & Mail Order Houses', 'CATV Systems', 'Computers Wholesale', 'Consumer Services', 'Department Stores', 'Discount, Variety Stores', 'Drug Stores', 'Drugs Wholesale', 'Education & Training Services', 'Electronics Stores', 'Electronics Wholesale', 'Entertainment - Diversified', 'Food Wholesale', 'Gaming Activities', 'General Entertainment', 'Grocery Stores', 'Home Furnishing Stores', 'Home Improvement Stores', 'Industrial Equipment Wholesale', 'Information Technology Services', 'Jewelry Stores', 'Lodging', 'Major Airlines', 'Management Services', 'Marketing Services', 'Medical Equipment Wholesale', 'Movie Production, Theaters', 'Music & Video Stores', 'Personal Services', 'Publishing - Books', 'Publishing - Newspapers', 'Publishing - Periodicals', 'Railroads', 'Regional Airlines', 'Rental & Leasing Services', 'Research Services', 'Resorts & Casinos', 'Restaurants', 'Security & Protection Services', 'Shipping', 'Specialty Eateries', 'Specialty Retail, Other', 'Sporting Activities', 'Sporting Goods Stores', 'Staffing & Outsourcing Services', 'Technical Services', 'Toy & Hobby Stores', 'Trucking', 'Wholesale, Other'], 'Technology': ['Application Software', 'Business Software & Services', 'Communication Equipment', 'Computer Based Systems', 'Computer Distribution', 'Computer Hardware', 'Computer Peripherals', 'Computer Systems', 'Consumer Electronics', 'Contract Manufacturers', 'Data Storage', 'Data Storage Devices', 'Diversified Communication Services', 'Diversified Computer Systems', 'Diversified Electronics', 'Electronic Components', 'Electronic Gaming & Multimedia', 'Electronics & Computer Distribution', 'Electronics Distribution', 'Health Information Services', 'Healthcare Information Services', 'Information & Delivery Services', 'Information Technology Services', 'Internet Content & Information', 'Internet Information Providers', 'Internet Service Providers', 'Internet Software & Services', 'Long Distance Carriers', 'Multimedia & Graphics Software', 'Networking & Communication Devices', 'Personal Computers', 'Printed Circuit Boards', 'Processing Systems & Products', 'Scientific & Technical Instruments', 'Security Software & Services', 'Semiconductor - Broad Line', 'Semiconductor - Integrated Circuits', 'Semiconductor - Specialized', 'Semiconductor Equipment & Materials', 'Semiconductor Memory', 'Semiconductor- Memory Chips', 'Semiconductors', 'Software - Application', 'Software - Infrastructure', 'Software-Application', 'Software-Infrastructure', 'Solar', 'Technical & System Software', 'Telecom Services - Domestic', 'Telecom Services - Foreign', 'Wireless Communications'], 'Utilities': ['Diversified Utilities', 'Electric Utilities', 'Foreign Utilities', 'Gas Utilities', 'Utilities - Diversified', 'Utilities - Independent Power Producers', 'Utilities - Regulated Electric', 'Utilities - Regulated Gas', 'Utilities - Regulated Water', 'Utilities-Diversified', 'Utilities-Independent Power Producers', 'Utilities-Regulated Electric', 'Utilities-Regulated Gas', 'Utilities-Regulated Water', 'Utilities-Renewable', 'Water Utilities']}\n"
     ]
    }
   ],
   "source": [
    "filename = 'SectorIndustries.csv'\n",
    "import pandas as pd\n",
    "\n",
    "\n",
    "df = pd.read_csv(filename)\n",
    "\n",
    "# 创建一个空字典来存储数据\n",
    "sector_to_industries = {}\n",
    "\n",
    "# 遍历DataFrame，构建字典\n",
    "for index, row in df.iterrows():\n",
    "    sector = row['sector']\n",
    "    sector = sector.rstrip()\n",
    "    industry = row['Industry']\n",
    "    if sector in sector_to_industries:\n",
    "        # 如果sector已经在字典中，添加industry到对应的list\n",
    "        sector_to_industries[sector].append(industry)\n",
    "    else:\n",
    "        # 如果sector不在字典中，创建一个新的list\n",
    "        sector_to_industries[sector] = [industry]\n",
    "\n",
    "# 打印结果\n",
    "print(sector_to_industries)\n"
   ]
  },
  {
   "cell_type": "code",
   "execution_count": 5,
   "metadata": {},
   "outputs": [],
   "source": [
    "import json\n",
    "with open('industries.json', 'w') as json_file:\n",
    "    json.dump(sector_to_industries, json_file, indent=4)"
   ]
  }
 ],
 "metadata": {
  "kernelspec": {
   "display_name": "tensorflow_env",
   "language": "python",
   "name": "python3"
  },
  "language_info": {
   "codemirror_mode": {
    "name": "ipython",
    "version": 3
   },
   "file_extension": ".py",
   "mimetype": "text/x-python",
   "name": "python",
   "nbconvert_exporter": "python",
   "pygments_lexer": "ipython3",
   "version": "3.10.13"
  }
 },
 "nbformat": 4,
 "nbformat_minor": 2
}
