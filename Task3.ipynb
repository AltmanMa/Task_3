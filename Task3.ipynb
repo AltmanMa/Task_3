{
 "cells": [
  {
   "cell_type": "code",
   "execution_count": 1,
   "metadata": {},
   "outputs": [
    {
     "name": "stderr",
     "output_type": "stream",
     "text": [
      "/Users/altmanmarx/anaconda3/envs/ee559/lib/python3.11/site-packages/pandas/core/arrays/masked.py:60: UserWarning: Pandas requires version '1.3.6' or newer of 'bottleneck' (version '1.3.5' currently installed).\n",
      "  from pandas.core import (\n"
     ]
    }
   ],
   "source": [
    "from eodhd import APIClient\n",
    "import pandas as pd"
   ]
  },
  {
   "cell_type": "code",
   "execution_count": 2,
   "metadata": {},
   "outputs": [],
   "source": [
    "api_key = \"5cb671b0b4a790.35526238\"\n",
    "api = APIClient(api_key)"
   ]
  },
  {
   "cell_type": "code",
   "execution_count": 3,
   "metadata": {},
   "outputs": [],
   "source": [
    "BM = api.stock_market_screener(filters=[['sector', 'match', 'Basic Materials'],['CurrencyCode','match','USD']],)\n"
   ]
  },
  {
   "cell_type": "code",
   "execution_count": 4,
   "metadata": {},
   "outputs": [
    {
     "name": "stdout",
     "output_type": "stream",
     "text": [
      "VMC\n",
      "50\n"
     ]
    }
   ],
   "source": [
    "import json\n",
    "bmpb = pd.DataFrame(BM) \n",
    "print(bmpb.loc[1]['data']['code'])\n",
    "print(bmpb.size)"
   ]
  },
  {
   "cell_type": "code",
   "execution_count": 3,
   "metadata": {},
   "outputs": [],
   "source": [
    "ET = api.get_fundamentals_data('ET')\n",
    "print(ET)"
   ]
  },
  {
   "cell_type": "code",
   "execution_count": 11,
   "metadata": {},
   "outputs": [],
   "source": [
    "bmpb.to_csv('data.csv')"
   ]
  },
  {
   "cell_type": "code",
   "execution_count": 10,
   "metadata": {},
   "outputs": [
    {
     "name": "stdout",
     "output_type": "stream",
     "text": [
      "MLM\n",
      "VMC\n",
      "MMX\n"
     ]
    },
    {
     "data": {
      "text/html": [
       "<pre style=\"white-space:pre;overflow-x:auto;line-height:normal;font-family:Menlo,'DejaVu Sans Mono',consolas,'Courier New',monospace\"><span style=\"color: #7fbfbf; text-decoration-color: #7fbfbf\">[12:03:32] </span>Expecting value: line <span style=\"color: #008080; text-decoration-color: #008080; font-weight: bold\">1</span> column <span style=\"color: #008080; text-decoration-color: #008080; font-weight: bold\">1</span> <span style=\"font-weight: bold\">(</span>char <span style=\"color: #008080; text-decoration-color: #008080; font-weight: bold\">0</span><span style=\"font-weight: bold\">)</span>                                                  <a href=\"file:///Users/altmanmarx/anaconda3/envs/ee559/lib/python3.11/site-packages/eodhd/APIs/BaseAPI.py\" target=\"_blank\"><span style=\"color: #7f7f7f; text-decoration-color: #7f7f7f\">BaseAPI.py</span></a><span style=\"color: #7f7f7f; text-decoration-color: #7f7f7f\">:</span><a href=\"file:///Users/altmanmarx/anaconda3/envs/ee559/lib/python3.11/site-packages/eodhd/APIs/BaseAPI.py#39\" target=\"_blank\"><span style=\"color: #7f7f7f; text-decoration-color: #7f7f7f\">39</span></a>\n",
       "</pre>\n"
      ],
      "text/plain": [
       "\u001b[2;36m[12:03:32]\u001b[0m\u001b[2;36m \u001b[0mExpecting value: line \u001b[1;36m1\u001b[0m column \u001b[1;36m1\u001b[0m \u001b[1m(\u001b[0mchar \u001b[1;36m0\u001b[0m\u001b[1m)\u001b[0m                                                  \u001b]8;id=814001;file:///Users/altmanmarx/anaconda3/envs/ee559/lib/python3.11/site-packages/eodhd/APIs/BaseAPI.py\u001b\\\u001b[2mBaseAPI.py\u001b[0m\u001b]8;;\u001b\\\u001b[2m:\u001b[0m\u001b]8;id=173243;file:///Users/altmanmarx/anaconda3/envs/ee559/lib/python3.11/site-packages/eodhd/APIs/BaseAPI.py#39\u001b\\\u001b[2m39\u001b[0m\u001b]8;;\u001b\\\n"
      ]
     },
     "metadata": {},
     "output_type": "display_data"
    },
    {
     "data": {
      "text/html": [
       "<pre style=\"white-space:pre;overflow-x:auto;line-height:normal;font-family:Menlo,'DejaVu Sans Mono',consolas,'Courier New',monospace\"><span style=\"color: #7fbfbf; text-decoration-color: #7fbfbf\">           </span><span style=\"color: #008080; text-decoration-color: #008080; font-weight: bold\">404</span> Client Error: Not Found for url:                                                       <a href=\"file:///Users/altmanmarx/anaconda3/envs/ee559/lib/python3.11/site-packages/eodhd/APIs/BaseAPI.py\" target=\"_blank\"><span style=\"color: #7f7f7f; text-decoration-color: #7f7f7f\">BaseAPI.py</span></a><span style=\"color: #7f7f7f; text-decoration-color: #7f7f7f\">:</span><a href=\"file:///Users/altmanmarx/anaconda3/envs/ee559/lib/python3.11/site-packages/eodhd/APIs/BaseAPI.py#52\" target=\"_blank\"><span style=\"color: #7f7f7f; text-decoration-color: #7f7f7f\">52</span></a>\n",
       "<span style=\"color: #7fbfbf; text-decoration-color: #7fbfbf\">           </span><span style=\"color: #0000ff; text-decoration-color: #0000ff; text-decoration: underline\">https://eodhd.com/api/fundamentals/002066?api_token=5cb671b0b4a790.35526238&amp;fmt=json</span>       <span style=\"color: #7f7f7f; text-decoration-color: #7f7f7f\">             </span>\n",
       "</pre>\n"
      ],
      "text/plain": [
       "\u001b[2;36m          \u001b[0m\u001b[2;36m \u001b[0m\u001b[1;36m404\u001b[0m Client Error: Not Found for url:                                                       \u001b]8;id=247679;file:///Users/altmanmarx/anaconda3/envs/ee559/lib/python3.11/site-packages/eodhd/APIs/BaseAPI.py\u001b\\\u001b[2mBaseAPI.py\u001b[0m\u001b]8;;\u001b\\\u001b[2m:\u001b[0m\u001b]8;id=990183;file:///Users/altmanmarx/anaconda3/envs/ee559/lib/python3.11/site-packages/eodhd/APIs/BaseAPI.py#52\u001b\\\u001b[2m52\u001b[0m\u001b]8;;\u001b\\\n",
       "\u001b[2;36m           \u001b[0m\u001b[4;94mhttps://eodhd.com/api/fundamentals/002066?\u001b[0m\u001b[4;94mapi_token\u001b[0m\u001b[4;94m=\u001b[0m\u001b[4;94m5cb671b0b4a790\u001b[0m\u001b[4;94m.35526238&\u001b[0m\u001b[4;94mfmt\u001b[0m\u001b[4;94m=\u001b[0m\u001b[4;94mjson\u001b[0m       \u001b[2m             \u001b[0m\n"
      ]
     },
     "metadata": {},
     "output_type": "display_data"
    },
    {
     "name": "stdout",
     "output_type": "stream",
     "text": [
      "002066\n"
     ]
    },
    {
     "data": {
      "text/html": [
       "<pre style=\"white-space:pre;overflow-x:auto;line-height:normal;font-family:Menlo,'DejaVu Sans Mono',consolas,'Courier New',monospace\"><span style=\"color: #7fbfbf; text-decoration-color: #7fbfbf\">[12:03:32] </span>Expecting value: line <span style=\"color: #008080; text-decoration-color: #008080; font-weight: bold\">1</span> column <span style=\"color: #008080; text-decoration-color: #008080; font-weight: bold\">1</span> <span style=\"font-weight: bold\">(</span>char <span style=\"color: #008080; text-decoration-color: #008080; font-weight: bold\">0</span><span style=\"font-weight: bold\">)</span>                                                  <a href=\"file:///Users/altmanmarx/anaconda3/envs/ee559/lib/python3.11/site-packages/eodhd/APIs/BaseAPI.py\" target=\"_blank\"><span style=\"color: #7f7f7f; text-decoration-color: #7f7f7f\">BaseAPI.py</span></a><span style=\"color: #7f7f7f; text-decoration-color: #7f7f7f\">:</span><a href=\"file:///Users/altmanmarx/anaconda3/envs/ee559/lib/python3.11/site-packages/eodhd/APIs/BaseAPI.py#39\" target=\"_blank\"><span style=\"color: #7f7f7f; text-decoration-color: #7f7f7f\">39</span></a>\n",
       "</pre>\n"
      ],
      "text/plain": [
       "\u001b[2;36m[12:03:32]\u001b[0m\u001b[2;36m \u001b[0mExpecting value: line \u001b[1;36m1\u001b[0m column \u001b[1;36m1\u001b[0m \u001b[1m(\u001b[0mchar \u001b[1;36m0\u001b[0m\u001b[1m)\u001b[0m                                                  \u001b]8;id=770082;file:///Users/altmanmarx/anaconda3/envs/ee559/lib/python3.11/site-packages/eodhd/APIs/BaseAPI.py\u001b\\\u001b[2mBaseAPI.py\u001b[0m\u001b]8;;\u001b\\\u001b[2m:\u001b[0m\u001b]8;id=212416;file:///Users/altmanmarx/anaconda3/envs/ee559/lib/python3.11/site-packages/eodhd/APIs/BaseAPI.py#39\u001b\\\u001b[2m39\u001b[0m\u001b]8;;\u001b\\\n"
      ]
     },
     "metadata": {},
     "output_type": "display_data"
    },
    {
     "data": {
      "text/html": [
       "<pre style=\"white-space:pre;overflow-x:auto;line-height:normal;font-family:Menlo,'DejaVu Sans Mono',consolas,'Courier New',monospace\"><span style=\"color: #7fbfbf; text-decoration-color: #7fbfbf\">           </span><span style=\"color: #008080; text-decoration-color: #008080; font-weight: bold\">404</span> Client Error: Not Found for url:                                                       <a href=\"file:///Users/altmanmarx/anaconda3/envs/ee559/lib/python3.11/site-packages/eodhd/APIs/BaseAPI.py\" target=\"_blank\"><span style=\"color: #7f7f7f; text-decoration-color: #7f7f7f\">BaseAPI.py</span></a><span style=\"color: #7f7f7f; text-decoration-color: #7f7f7f\">:</span><a href=\"file:///Users/altmanmarx/anaconda3/envs/ee559/lib/python3.11/site-packages/eodhd/APIs/BaseAPI.py#52\" target=\"_blank\"><span style=\"color: #7f7f7f; text-decoration-color: #7f7f7f\">52</span></a>\n",
       "<span style=\"color: #7fbfbf; text-decoration-color: #7fbfbf\">           </span><span style=\"color: #0000ff; text-decoration-color: #0000ff; text-decoration: underline\">https://eodhd.com/api/fundamentals/600293?api_token=5cb671b0b4a790.35526238&amp;fmt=json</span>       <span style=\"color: #7f7f7f; text-decoration-color: #7f7f7f\">             </span>\n",
       "</pre>\n"
      ],
      "text/plain": [
       "\u001b[2;36m          \u001b[0m\u001b[2;36m \u001b[0m\u001b[1;36m404\u001b[0m Client Error: Not Found for url:                                                       \u001b]8;id=722880;file:///Users/altmanmarx/anaconda3/envs/ee559/lib/python3.11/site-packages/eodhd/APIs/BaseAPI.py\u001b\\\u001b[2mBaseAPI.py\u001b[0m\u001b]8;;\u001b\\\u001b[2m:\u001b[0m\u001b]8;id=981265;file:///Users/altmanmarx/anaconda3/envs/ee559/lib/python3.11/site-packages/eodhd/APIs/BaseAPI.py#52\u001b\\\u001b[2m52\u001b[0m\u001b]8;;\u001b\\\n",
       "\u001b[2;36m           \u001b[0m\u001b[4;94mhttps://eodhd.com/api/fundamentals/600293?\u001b[0m\u001b[4;94mapi_token\u001b[0m\u001b[4;94m=\u001b[0m\u001b[4;94m5cb671b0b4a790\u001b[0m\u001b[4;94m.35526238&\u001b[0m\u001b[4;94mfmt\u001b[0m\u001b[4;94m=\u001b[0m\u001b[4;94mjson\u001b[0m       \u001b[2m             \u001b[0m\n"
      ]
     },
     "metadata": {},
     "output_type": "display_data"
    },
    {
     "name": "stdout",
     "output_type": "stream",
     "text": [
      "600293\n",
      "VMC\n"
     ]
    },
    {
     "data": {
      "text/html": [
       "<pre style=\"white-space:pre;overflow-x:auto;line-height:normal;font-family:Menlo,'DejaVu Sans Mono',consolas,'Courier New',monospace\"><span style=\"color: #7fbfbf; text-decoration-color: #7fbfbf\">[12:03:33] </span>Expecting value: line <span style=\"color: #008080; text-decoration-color: #008080; font-weight: bold\">1</span> column <span style=\"color: #008080; text-decoration-color: #008080; font-weight: bold\">1</span> <span style=\"font-weight: bold\">(</span>char <span style=\"color: #008080; text-decoration-color: #008080; font-weight: bold\">0</span><span style=\"font-weight: bold\">)</span>                                                  <a href=\"file:///Users/altmanmarx/anaconda3/envs/ee559/lib/python3.11/site-packages/eodhd/APIs/BaseAPI.py\" target=\"_blank\"><span style=\"color: #7f7f7f; text-decoration-color: #7f7f7f\">BaseAPI.py</span></a><span style=\"color: #7f7f7f; text-decoration-color: #7f7f7f\">:</span><a href=\"file:///Users/altmanmarx/anaconda3/envs/ee559/lib/python3.11/site-packages/eodhd/APIs/BaseAPI.py#39\" target=\"_blank\"><span style=\"color: #7f7f7f; text-decoration-color: #7f7f7f\">39</span></a>\n",
       "</pre>\n"
      ],
      "text/plain": [
       "\u001b[2;36m[12:03:33]\u001b[0m\u001b[2;36m \u001b[0mExpecting value: line \u001b[1;36m1\u001b[0m column \u001b[1;36m1\u001b[0m \u001b[1m(\u001b[0mchar \u001b[1;36m0\u001b[0m\u001b[1m)\u001b[0m                                                  \u001b]8;id=881119;file:///Users/altmanmarx/anaconda3/envs/ee559/lib/python3.11/site-packages/eodhd/APIs/BaseAPI.py\u001b\\\u001b[2mBaseAPI.py\u001b[0m\u001b]8;;\u001b\\\u001b[2m:\u001b[0m\u001b]8;id=413386;file:///Users/altmanmarx/anaconda3/envs/ee559/lib/python3.11/site-packages/eodhd/APIs/BaseAPI.py#39\u001b\\\u001b[2m39\u001b[0m\u001b]8;;\u001b\\\n"
      ]
     },
     "metadata": {},
     "output_type": "display_data"
    },
    {
     "data": {
      "text/html": [
       "<pre style=\"white-space:pre;overflow-x:auto;line-height:normal;font-family:Menlo,'DejaVu Sans Mono',consolas,'Courier New',monospace\"><span style=\"color: #7fbfbf; text-decoration-color: #7fbfbf\">           </span><span style=\"color: #008080; text-decoration-color: #008080; font-weight: bold\">404</span> Client Error: Not Found for url:                                                       <a href=\"file:///Users/altmanmarx/anaconda3/envs/ee559/lib/python3.11/site-packages/eodhd/APIs/BaseAPI.py\" target=\"_blank\"><span style=\"color: #7f7f7f; text-decoration-color: #7f7f7f\">BaseAPI.py</span></a><span style=\"color: #7f7f7f; text-decoration-color: #7f7f7f\">:</span><a href=\"file:///Users/altmanmarx/anaconda3/envs/ee559/lib/python3.11/site-packages/eodhd/APIs/BaseAPI.py#52\" target=\"_blank\"><span style=\"color: #7f7f7f; text-decoration-color: #7f7f7f\">52</span></a>\n",
       "<span style=\"color: #7fbfbf; text-decoration-color: #7fbfbf\">           </span><span style=\"color: #0000ff; text-decoration-color: #0000ff; text-decoration: underline\">https://eodhd.com/api/fundamentals/002377?api_token=5cb671b0b4a790.35526238&amp;fmt=json</span>       <span style=\"color: #7f7f7f; text-decoration-color: #7f7f7f\">             </span>\n",
       "</pre>\n"
      ],
      "text/plain": [
       "\u001b[2;36m          \u001b[0m\u001b[2;36m \u001b[0m\u001b[1;36m404\u001b[0m Client Error: Not Found for url:                                                       \u001b]8;id=860829;file:///Users/altmanmarx/anaconda3/envs/ee559/lib/python3.11/site-packages/eodhd/APIs/BaseAPI.py\u001b\\\u001b[2mBaseAPI.py\u001b[0m\u001b]8;;\u001b\\\u001b[2m:\u001b[0m\u001b]8;id=462470;file:///Users/altmanmarx/anaconda3/envs/ee559/lib/python3.11/site-packages/eodhd/APIs/BaseAPI.py#52\u001b\\\u001b[2m52\u001b[0m\u001b]8;;\u001b\\\n",
       "\u001b[2;36m           \u001b[0m\u001b[4;94mhttps://eodhd.com/api/fundamentals/002377?\u001b[0m\u001b[4;94mapi_token\u001b[0m\u001b[4;94m=\u001b[0m\u001b[4;94m5cb671b0b4a790\u001b[0m\u001b[4;94m.35526238&\u001b[0m\u001b[4;94mfmt\u001b[0m\u001b[4;94m=\u001b[0m\u001b[4;94mjson\u001b[0m       \u001b[2m             \u001b[0m\n"
      ]
     },
     "metadata": {},
     "output_type": "display_data"
    },
    {
     "name": "stdout",
     "output_type": "stream",
     "text": [
      "002377\n",
      "EXP\n"
     ]
    },
    {
     "data": {
      "text/html": [
       "<pre style=\"white-space:pre;overflow-x:auto;line-height:normal;font-family:Menlo,'DejaVu Sans Mono',consolas,'Courier New',monospace\"><span style=\"color: #7fbfbf; text-decoration-color: #7fbfbf\">[12:03:34] </span>Expecting value: line <span style=\"color: #008080; text-decoration-color: #008080; font-weight: bold\">1</span> column <span style=\"color: #008080; text-decoration-color: #008080; font-weight: bold\">1</span> <span style=\"font-weight: bold\">(</span>char <span style=\"color: #008080; text-decoration-color: #008080; font-weight: bold\">0</span><span style=\"font-weight: bold\">)</span>                                                  <a href=\"file:///Users/altmanmarx/anaconda3/envs/ee559/lib/python3.11/site-packages/eodhd/APIs/BaseAPI.py\" target=\"_blank\"><span style=\"color: #7f7f7f; text-decoration-color: #7f7f7f\">BaseAPI.py</span></a><span style=\"color: #7f7f7f; text-decoration-color: #7f7f7f\">:</span><a href=\"file:///Users/altmanmarx/anaconda3/envs/ee559/lib/python3.11/site-packages/eodhd/APIs/BaseAPI.py#39\" target=\"_blank\"><span style=\"color: #7f7f7f; text-decoration-color: #7f7f7f\">39</span></a>\n",
       "</pre>\n"
      ],
      "text/plain": [
       "\u001b[2;36m[12:03:34]\u001b[0m\u001b[2;36m \u001b[0mExpecting value: line \u001b[1;36m1\u001b[0m column \u001b[1;36m1\u001b[0m \u001b[1m(\u001b[0mchar \u001b[1;36m0\u001b[0m\u001b[1m)\u001b[0m                                                  \u001b]8;id=968692;file:///Users/altmanmarx/anaconda3/envs/ee559/lib/python3.11/site-packages/eodhd/APIs/BaseAPI.py\u001b\\\u001b[2mBaseAPI.py\u001b[0m\u001b]8;;\u001b\\\u001b[2m:\u001b[0m\u001b]8;id=173197;file:///Users/altmanmarx/anaconda3/envs/ee559/lib/python3.11/site-packages/eodhd/APIs/BaseAPI.py#39\u001b\\\u001b[2m39\u001b[0m\u001b]8;;\u001b\\\n"
      ]
     },
     "metadata": {},
     "output_type": "display_data"
    },
    {
     "data": {
      "text/html": [
       "<pre style=\"white-space:pre;overflow-x:auto;line-height:normal;font-family:Menlo,'DejaVu Sans Mono',consolas,'Courier New',monospace\"><span style=\"color: #7fbfbf; text-decoration-color: #7fbfbf\">           </span><span style=\"color: #008080; text-decoration-color: #008080; font-weight: bold\">404</span> Client Error: Not Found for url:                                                       <a href=\"file:///Users/altmanmarx/anaconda3/envs/ee559/lib/python3.11/site-packages/eodhd/APIs/BaseAPI.py\" target=\"_blank\"><span style=\"color: #7f7f7f; text-decoration-color: #7f7f7f\">BaseAPI.py</span></a><span style=\"color: #7f7f7f; text-decoration-color: #7f7f7f\">:</span><a href=\"file:///Users/altmanmarx/anaconda3/envs/ee559/lib/python3.11/site-packages/eodhd/APIs/BaseAPI.py#52\" target=\"_blank\"><span style=\"color: #7f7f7f; text-decoration-color: #7f7f7f\">52</span></a>\n",
       "<span style=\"color: #7fbfbf; text-decoration-color: #7fbfbf\">           </span><span style=\"color: #0000ff; text-decoration-color: #0000ff; text-decoration: underline\">https://eodhd.com/api/fundamentals/D1Y?api_token=5cb671b0b4a790.35526238&amp;fmt=json</span>          <span style=\"color: #7f7f7f; text-decoration-color: #7f7f7f\">             </span>\n",
       "</pre>\n"
      ],
      "text/plain": [
       "\u001b[2;36m          \u001b[0m\u001b[2;36m \u001b[0m\u001b[1;36m404\u001b[0m Client Error: Not Found for url:                                                       \u001b]8;id=389112;file:///Users/altmanmarx/anaconda3/envs/ee559/lib/python3.11/site-packages/eodhd/APIs/BaseAPI.py\u001b\\\u001b[2mBaseAPI.py\u001b[0m\u001b]8;;\u001b\\\u001b[2m:\u001b[0m\u001b]8;id=323182;file:///Users/altmanmarx/anaconda3/envs/ee559/lib/python3.11/site-packages/eodhd/APIs/BaseAPI.py#52\u001b\\\u001b[2m52\u001b[0m\u001b]8;;\u001b\\\n",
       "\u001b[2;36m           \u001b[0m\u001b[4;94mhttps://eodhd.com/api/fundamentals/D1Y?\u001b[0m\u001b[4;94mapi_token\u001b[0m\u001b[4;94m=\u001b[0m\u001b[4;94m5cb671b0b4a790\u001b[0m\u001b[4;94m.35526238&\u001b[0m\u001b[4;94mfmt\u001b[0m\u001b[4;94m=\u001b[0m\u001b[4;94mjson\u001b[0m          \u001b[2m             \u001b[0m\n"
      ]
     },
     "metadata": {},
     "output_type": "display_data"
    },
    {
     "name": "stdout",
     "output_type": "stream",
     "text": [
      "D1Y\n"
     ]
    },
    {
     "data": {
      "text/html": [
       "<pre style=\"white-space:pre;overflow-x:auto;line-height:normal;font-family:Menlo,'DejaVu Sans Mono',consolas,'Courier New',monospace\"><span style=\"color: #7fbfbf; text-decoration-color: #7fbfbf\">[12:03:34] </span>Expecting value: line <span style=\"color: #008080; text-decoration-color: #008080; font-weight: bold\">1</span> column <span style=\"color: #008080; text-decoration-color: #008080; font-weight: bold\">1</span> <span style=\"font-weight: bold\">(</span>char <span style=\"color: #008080; text-decoration-color: #008080; font-weight: bold\">0</span><span style=\"font-weight: bold\">)</span>                                                  <a href=\"file:///Users/altmanmarx/anaconda3/envs/ee559/lib/python3.11/site-packages/eodhd/APIs/BaseAPI.py\" target=\"_blank\"><span style=\"color: #7f7f7f; text-decoration-color: #7f7f7f\">BaseAPI.py</span></a><span style=\"color: #7f7f7f; text-decoration-color: #7f7f7f\">:</span><a href=\"file:///Users/altmanmarx/anaconda3/envs/ee559/lib/python3.11/site-packages/eodhd/APIs/BaseAPI.py#39\" target=\"_blank\"><span style=\"color: #7f7f7f; text-decoration-color: #7f7f7f\">39</span></a>\n",
       "</pre>\n"
      ],
      "text/plain": [
       "\u001b[2;36m[12:03:34]\u001b[0m\u001b[2;36m \u001b[0mExpecting value: line \u001b[1;36m1\u001b[0m column \u001b[1;36m1\u001b[0m \u001b[1m(\u001b[0mchar \u001b[1;36m0\u001b[0m\u001b[1m)\u001b[0m                                                  \u001b]8;id=66869;file:///Users/altmanmarx/anaconda3/envs/ee559/lib/python3.11/site-packages/eodhd/APIs/BaseAPI.py\u001b\\\u001b[2mBaseAPI.py\u001b[0m\u001b]8;;\u001b\\\u001b[2m:\u001b[0m\u001b]8;id=283953;file:///Users/altmanmarx/anaconda3/envs/ee559/lib/python3.11/site-packages/eodhd/APIs/BaseAPI.py#39\u001b\\\u001b[2m39\u001b[0m\u001b]8;;\u001b\\\n"
      ]
     },
     "metadata": {},
     "output_type": "display_data"
    },
    {
     "data": {
      "text/html": [
       "<pre style=\"white-space:pre;overflow-x:auto;line-height:normal;font-family:Menlo,'DejaVu Sans Mono',consolas,'Courier New',monospace\"><span style=\"color: #7fbfbf; text-decoration-color: #7fbfbf\">           </span><span style=\"color: #008080; text-decoration-color: #008080; font-weight: bold\">404</span> Client Error: Not Found for url:                                                       <a href=\"file:///Users/altmanmarx/anaconda3/envs/ee559/lib/python3.11/site-packages/eodhd/APIs/BaseAPI.py\" target=\"_blank\"><span style=\"color: #7f7f7f; text-decoration-color: #7f7f7f\">BaseAPI.py</span></a><span style=\"color: #7f7f7f; text-decoration-color: #7f7f7f\">:</span><a href=\"file:///Users/altmanmarx/anaconda3/envs/ee559/lib/python3.11/site-packages/eodhd/APIs/BaseAPI.py#52\" target=\"_blank\"><span style=\"color: #7f7f7f; text-decoration-color: #7f7f7f\">52</span></a>\n",
       "<span style=\"color: #7fbfbf; text-decoration-color: #7fbfbf\">           </span><span style=\"color: #0000ff; text-decoration-color: #0000ff; text-decoration: underline\">https://eodhd.com/api/fundamentals/002596?api_token=5cb671b0b4a790.35526238&amp;fmt=json</span>       <span style=\"color: #7f7f7f; text-decoration-color: #7f7f7f\">             </span>\n",
       "</pre>\n"
      ],
      "text/plain": [
       "\u001b[2;36m          \u001b[0m\u001b[2;36m \u001b[0m\u001b[1;36m404\u001b[0m Client Error: Not Found for url:                                                       \u001b]8;id=48981;file:///Users/altmanmarx/anaconda3/envs/ee559/lib/python3.11/site-packages/eodhd/APIs/BaseAPI.py\u001b\\\u001b[2mBaseAPI.py\u001b[0m\u001b]8;;\u001b\\\u001b[2m:\u001b[0m\u001b]8;id=564055;file:///Users/altmanmarx/anaconda3/envs/ee559/lib/python3.11/site-packages/eodhd/APIs/BaseAPI.py#52\u001b\\\u001b[2m52\u001b[0m\u001b]8;;\u001b\\\n",
       "\u001b[2;36m           \u001b[0m\u001b[4;94mhttps://eodhd.com/api/fundamentals/002596?\u001b[0m\u001b[4;94mapi_token\u001b[0m\u001b[4;94m=\u001b[0m\u001b[4;94m5cb671b0b4a790\u001b[0m\u001b[4;94m.35526238&\u001b[0m\u001b[4;94mfmt\u001b[0m\u001b[4;94m=\u001b[0m\u001b[4;94mjson\u001b[0m       \u001b[2m             \u001b[0m\n"
      ]
     },
     "metadata": {},
     "output_type": "display_data"
    },
    {
     "name": "stdout",
     "output_type": "stream",
     "text": [
      "002596\n"
     ]
    },
    {
     "data": {
      "text/html": [
       "<pre style=\"white-space:pre;overflow-x:auto;line-height:normal;font-family:Menlo,'DejaVu Sans Mono',consolas,'Courier New',monospace\"><span style=\"color: #7fbfbf; text-decoration-color: #7fbfbf\">[12:03:34] </span>Expecting value: line <span style=\"color: #008080; text-decoration-color: #008080; font-weight: bold\">1</span> column <span style=\"color: #008080; text-decoration-color: #008080; font-weight: bold\">1</span> <span style=\"font-weight: bold\">(</span>char <span style=\"color: #008080; text-decoration-color: #008080; font-weight: bold\">0</span><span style=\"font-weight: bold\">)</span>                                                  <a href=\"file:///Users/altmanmarx/anaconda3/envs/ee559/lib/python3.11/site-packages/eodhd/APIs/BaseAPI.py\" target=\"_blank\"><span style=\"color: #7f7f7f; text-decoration-color: #7f7f7f\">BaseAPI.py</span></a><span style=\"color: #7f7f7f; text-decoration-color: #7f7f7f\">:</span><a href=\"file:///Users/altmanmarx/anaconda3/envs/ee559/lib/python3.11/site-packages/eodhd/APIs/BaseAPI.py#39\" target=\"_blank\"><span style=\"color: #7f7f7f; text-decoration-color: #7f7f7f\">39</span></a>\n",
       "</pre>\n"
      ],
      "text/plain": [
       "\u001b[2;36m[12:03:34]\u001b[0m\u001b[2;36m \u001b[0mExpecting value: line \u001b[1;36m1\u001b[0m column \u001b[1;36m1\u001b[0m \u001b[1m(\u001b[0mchar \u001b[1;36m0\u001b[0m\u001b[1m)\u001b[0m                                                  \u001b]8;id=443033;file:///Users/altmanmarx/anaconda3/envs/ee559/lib/python3.11/site-packages/eodhd/APIs/BaseAPI.py\u001b\\\u001b[2mBaseAPI.py\u001b[0m\u001b]8;;\u001b\\\u001b[2m:\u001b[0m\u001b]8;id=21352;file:///Users/altmanmarx/anaconda3/envs/ee559/lib/python3.11/site-packages/eodhd/APIs/BaseAPI.py#39\u001b\\\u001b[2m39\u001b[0m\u001b]8;;\u001b\\\n"
      ]
     },
     "metadata": {},
     "output_type": "display_data"
    },
    {
     "data": {
      "text/html": [
       "<pre style=\"white-space:pre;overflow-x:auto;line-height:normal;font-family:Menlo,'DejaVu Sans Mono',consolas,'Courier New',monospace\"><span style=\"color: #7fbfbf; text-decoration-color: #7fbfbf\">           </span><span style=\"color: #008080; text-decoration-color: #008080; font-weight: bold\">404</span> Client Error: Not Found for url:                                                       <a href=\"file:///Users/altmanmarx/anaconda3/envs/ee559/lib/python3.11/site-packages/eodhd/APIs/BaseAPI.py\" target=\"_blank\"><span style=\"color: #7f7f7f; text-decoration-color: #7f7f7f\">BaseAPI.py</span></a><span style=\"color: #7f7f7f; text-decoration-color: #7f7f7f\">:</span><a href=\"file:///Users/altmanmarx/anaconda3/envs/ee559/lib/python3.11/site-packages/eodhd/APIs/BaseAPI.py#52\" target=\"_blank\"><span style=\"color: #7f7f7f; text-decoration-color: #7f7f7f\">52</span></a>\n",
       "<span style=\"color: #7fbfbf; text-decoration-color: #7fbfbf\">           </span><span style=\"color: #0000ff; text-decoration-color: #0000ff; text-decoration: underline\">https://eodhd.com/api/fundamentals/600449?api_token=5cb671b0b4a790.35526238&amp;fmt=json</span>       <span style=\"color: #7f7f7f; text-decoration-color: #7f7f7f\">             </span>\n",
       "</pre>\n"
      ],
      "text/plain": [
       "\u001b[2;36m          \u001b[0m\u001b[2;36m \u001b[0m\u001b[1;36m404\u001b[0m Client Error: Not Found for url:                                                       \u001b]8;id=666596;file:///Users/altmanmarx/anaconda3/envs/ee559/lib/python3.11/site-packages/eodhd/APIs/BaseAPI.py\u001b\\\u001b[2mBaseAPI.py\u001b[0m\u001b]8;;\u001b\\\u001b[2m:\u001b[0m\u001b]8;id=376901;file:///Users/altmanmarx/anaconda3/envs/ee559/lib/python3.11/site-packages/eodhd/APIs/BaseAPI.py#52\u001b\\\u001b[2m52\u001b[0m\u001b]8;;\u001b\\\n",
       "\u001b[2;36m           \u001b[0m\u001b[4;94mhttps://eodhd.com/api/fundamentals/600449?\u001b[0m\u001b[4;94mapi_token\u001b[0m\u001b[4;94m=\u001b[0m\u001b[4;94m5cb671b0b4a790\u001b[0m\u001b[4;94m.35526238&\u001b[0m\u001b[4;94mfmt\u001b[0m\u001b[4;94m=\u001b[0m\u001b[4;94mjson\u001b[0m       \u001b[2m             \u001b[0m\n"
      ]
     },
     "metadata": {},
     "output_type": "display_data"
    },
    {
     "name": "stdout",
     "output_type": "stream",
     "text": [
      "600449\n"
     ]
    },
    {
     "data": {
      "text/html": [
       "<pre style=\"white-space:pre;overflow-x:auto;line-height:normal;font-family:Menlo,'DejaVu Sans Mono',consolas,'Courier New',monospace\"><span style=\"color: #7fbfbf; text-decoration-color: #7fbfbf\">[12:03:34] </span>Expecting value: line <span style=\"color: #008080; text-decoration-color: #008080; font-weight: bold\">1</span> column <span style=\"color: #008080; text-decoration-color: #008080; font-weight: bold\">1</span> <span style=\"font-weight: bold\">(</span>char <span style=\"color: #008080; text-decoration-color: #008080; font-weight: bold\">0</span><span style=\"font-weight: bold\">)</span>                                                  <a href=\"file:///Users/altmanmarx/anaconda3/envs/ee559/lib/python3.11/site-packages/eodhd/APIs/BaseAPI.py\" target=\"_blank\"><span style=\"color: #7f7f7f; text-decoration-color: #7f7f7f\">BaseAPI.py</span></a><span style=\"color: #7f7f7f; text-decoration-color: #7f7f7f\">:</span><a href=\"file:///Users/altmanmarx/anaconda3/envs/ee559/lib/python3.11/site-packages/eodhd/APIs/BaseAPI.py#39\" target=\"_blank\"><span style=\"color: #7f7f7f; text-decoration-color: #7f7f7f\">39</span></a>\n",
       "</pre>\n"
      ],
      "text/plain": [
       "\u001b[2;36m[12:03:34]\u001b[0m\u001b[2;36m \u001b[0mExpecting value: line \u001b[1;36m1\u001b[0m column \u001b[1;36m1\u001b[0m \u001b[1m(\u001b[0mchar \u001b[1;36m0\u001b[0m\u001b[1m)\u001b[0m                                                  \u001b]8;id=485620;file:///Users/altmanmarx/anaconda3/envs/ee559/lib/python3.11/site-packages/eodhd/APIs/BaseAPI.py\u001b\\\u001b[2mBaseAPI.py\u001b[0m\u001b]8;;\u001b\\\u001b[2m:\u001b[0m\u001b]8;id=333307;file:///Users/altmanmarx/anaconda3/envs/ee559/lib/python3.11/site-packages/eodhd/APIs/BaseAPI.py#39\u001b\\\u001b[2m39\u001b[0m\u001b]8;;\u001b\\\n"
      ]
     },
     "metadata": {},
     "output_type": "display_data"
    },
    {
     "data": {
      "text/html": [
       "<pre style=\"white-space:pre;overflow-x:auto;line-height:normal;font-family:Menlo,'DejaVu Sans Mono',consolas,'Courier New',monospace\"><span style=\"color: #7fbfbf; text-decoration-color: #7fbfbf\">           </span><span style=\"color: #008080; text-decoration-color: #008080; font-weight: bold\">404</span> Client Error: Not Found for url:                                                       <a href=\"file:///Users/altmanmarx/anaconda3/envs/ee559/lib/python3.11/site-packages/eodhd/APIs/BaseAPI.py\" target=\"_blank\"><span style=\"color: #7f7f7f; text-decoration-color: #7f7f7f\">BaseAPI.py</span></a><span style=\"color: #7f7f7f; text-decoration-color: #7f7f7f\">:</span><a href=\"file:///Users/altmanmarx/anaconda3/envs/ee559/lib/python3.11/site-packages/eodhd/APIs/BaseAPI.py#52\" target=\"_blank\"><span style=\"color: #7f7f7f; text-decoration-color: #7f7f7f\">52</span></a>\n",
       "<span style=\"color: #7fbfbf; text-decoration-color: #7fbfbf\">           </span><span style=\"color: #0000ff; text-decoration-color: #0000ff; text-decoration: underline\">https://eodhd.com/api/fundamentals/2504?api_token=5cb671b0b4a790.35526238&amp;fmt=json</span>         <span style=\"color: #7f7f7f; text-decoration-color: #7f7f7f\">             </span>\n",
       "</pre>\n"
      ],
      "text/plain": [
       "\u001b[2;36m          \u001b[0m\u001b[2;36m \u001b[0m\u001b[1;36m404\u001b[0m Client Error: Not Found for url:                                                       \u001b]8;id=489899;file:///Users/altmanmarx/anaconda3/envs/ee559/lib/python3.11/site-packages/eodhd/APIs/BaseAPI.py\u001b\\\u001b[2mBaseAPI.py\u001b[0m\u001b]8;;\u001b\\\u001b[2m:\u001b[0m\u001b]8;id=448138;file:///Users/altmanmarx/anaconda3/envs/ee559/lib/python3.11/site-packages/eodhd/APIs/BaseAPI.py#52\u001b\\\u001b[2m52\u001b[0m\u001b]8;;\u001b\\\n",
       "\u001b[2;36m           \u001b[0m\u001b[4;94mhttps://eodhd.com/api/fundamentals/2504?\u001b[0m\u001b[4;94mapi_token\u001b[0m\u001b[4;94m=\u001b[0m\u001b[4;94m5cb671b0b4a790\u001b[0m\u001b[4;94m.35526238&\u001b[0m\u001b[4;94mfmt\u001b[0m\u001b[4;94m=\u001b[0m\u001b[4;94mjson\u001b[0m         \u001b[2m             \u001b[0m\n"
      ]
     },
     "metadata": {},
     "output_type": "display_data"
    },
    {
     "name": "stdout",
     "output_type": "stream",
     "text": [
      "2504\n"
     ]
    },
    {
     "data": {
      "text/html": [
       "<pre style=\"white-space:pre;overflow-x:auto;line-height:normal;font-family:Menlo,'DejaVu Sans Mono',consolas,'Courier New',monospace\"><span style=\"color: #7fbfbf; text-decoration-color: #7fbfbf\">[12:03:35] </span>Expecting value: line <span style=\"color: #008080; text-decoration-color: #008080; font-weight: bold\">1</span> column <span style=\"color: #008080; text-decoration-color: #008080; font-weight: bold\">1</span> <span style=\"font-weight: bold\">(</span>char <span style=\"color: #008080; text-decoration-color: #008080; font-weight: bold\">0</span><span style=\"font-weight: bold\">)</span>                                                  <a href=\"file:///Users/altmanmarx/anaconda3/envs/ee559/lib/python3.11/site-packages/eodhd/APIs/BaseAPI.py\" target=\"_blank\"><span style=\"color: #7f7f7f; text-decoration-color: #7f7f7f\">BaseAPI.py</span></a><span style=\"color: #7f7f7f; text-decoration-color: #7f7f7f\">:</span><a href=\"file:///Users/altmanmarx/anaconda3/envs/ee559/lib/python3.11/site-packages/eodhd/APIs/BaseAPI.py#39\" target=\"_blank\"><span style=\"color: #7f7f7f; text-decoration-color: #7f7f7f\">39</span></a>\n",
       "</pre>\n"
      ],
      "text/plain": [
       "\u001b[2;36m[12:03:35]\u001b[0m\u001b[2;36m \u001b[0mExpecting value: line \u001b[1;36m1\u001b[0m column \u001b[1;36m1\u001b[0m \u001b[1m(\u001b[0mchar \u001b[1;36m0\u001b[0m\u001b[1m)\u001b[0m                                                  \u001b]8;id=788934;file:///Users/altmanmarx/anaconda3/envs/ee559/lib/python3.11/site-packages/eodhd/APIs/BaseAPI.py\u001b\\\u001b[2mBaseAPI.py\u001b[0m\u001b]8;;\u001b\\\u001b[2m:\u001b[0m\u001b]8;id=605592;file:///Users/altmanmarx/anaconda3/envs/ee559/lib/python3.11/site-packages/eodhd/APIs/BaseAPI.py#39\u001b\\\u001b[2m39\u001b[0m\u001b]8;;\u001b\\\n"
      ]
     },
     "metadata": {},
     "output_type": "display_data"
    },
    {
     "data": {
      "text/html": [
       "<pre style=\"white-space:pre;overflow-x:auto;line-height:normal;font-family:Menlo,'DejaVu Sans Mono',consolas,'Courier New',monospace\"><span style=\"color: #7fbfbf; text-decoration-color: #7fbfbf\">           </span><span style=\"color: #008080; text-decoration-color: #008080; font-weight: bold\">404</span> Client Error: Not Found for url:                                                       <a href=\"file:///Users/altmanmarx/anaconda3/envs/ee559/lib/python3.11/site-packages/eodhd/APIs/BaseAPI.py\" target=\"_blank\"><span style=\"color: #7f7f7f; text-decoration-color: #7f7f7f\">BaseAPI.py</span></a><span style=\"color: #7f7f7f; text-decoration-color: #7f7f7f\">:</span><a href=\"file:///Users/altmanmarx/anaconda3/envs/ee559/lib/python3.11/site-packages/eodhd/APIs/BaseAPI.py#52\" target=\"_blank\"><span style=\"color: #7f7f7f; text-decoration-color: #7f7f7f\">52</span></a>\n",
       "<span style=\"color: #7fbfbf; text-decoration-color: #7fbfbf\">           </span><span style=\"color: #0000ff; text-decoration-color: #0000ff; text-decoration: underline\">https://eodhd.com/api/fundamentals/600425?api_token=5cb671b0b4a790.35526238&amp;fmt=json</span>       <span style=\"color: #7f7f7f; text-decoration-color: #7f7f7f\">             </span>\n",
       "</pre>\n"
      ],
      "text/plain": [
       "\u001b[2;36m          \u001b[0m\u001b[2;36m \u001b[0m\u001b[1;36m404\u001b[0m Client Error: Not Found for url:                                                       \u001b]8;id=380840;file:///Users/altmanmarx/anaconda3/envs/ee559/lib/python3.11/site-packages/eodhd/APIs/BaseAPI.py\u001b\\\u001b[2mBaseAPI.py\u001b[0m\u001b]8;;\u001b\\\u001b[2m:\u001b[0m\u001b]8;id=410444;file:///Users/altmanmarx/anaconda3/envs/ee559/lib/python3.11/site-packages/eodhd/APIs/BaseAPI.py#52\u001b\\\u001b[2m52\u001b[0m\u001b]8;;\u001b\\\n",
       "\u001b[2;36m           \u001b[0m\u001b[4;94mhttps://eodhd.com/api/fundamentals/600425?\u001b[0m\u001b[4;94mapi_token\u001b[0m\u001b[4;94m=\u001b[0m\u001b[4;94m5cb671b0b4a790\u001b[0m\u001b[4;94m.35526238&\u001b[0m\u001b[4;94mfmt\u001b[0m\u001b[4;94m=\u001b[0m\u001b[4;94mjson\u001b[0m       \u001b[2m             \u001b[0m\n"
      ]
     },
     "metadata": {},
     "output_type": "display_data"
    },
    {
     "name": "stdout",
     "output_type": "stream",
     "text": [
      "600425\n",
      "SUM\n",
      "CBUMY\n",
      "MLM\n"
     ]
    },
    {
     "data": {
      "text/html": [
       "<pre style=\"white-space:pre;overflow-x:auto;line-height:normal;font-family:Menlo,'DejaVu Sans Mono',consolas,'Courier New',monospace\"><span style=\"color: #7fbfbf; text-decoration-color: #7fbfbf\">[12:03:36] </span>Expecting value: line <span style=\"color: #008080; text-decoration-color: #008080; font-weight: bold\">1</span> column <span style=\"color: #008080; text-decoration-color: #008080; font-weight: bold\">1</span> <span style=\"font-weight: bold\">(</span>char <span style=\"color: #008080; text-decoration-color: #008080; font-weight: bold\">0</span><span style=\"font-weight: bold\">)</span>                                                  <a href=\"file:///Users/altmanmarx/anaconda3/envs/ee559/lib/python3.11/site-packages/eodhd/APIs/BaseAPI.py\" target=\"_blank\"><span style=\"color: #7f7f7f; text-decoration-color: #7f7f7f\">BaseAPI.py</span></a><span style=\"color: #7f7f7f; text-decoration-color: #7f7f7f\">:</span><a href=\"file:///Users/altmanmarx/anaconda3/envs/ee559/lib/python3.11/site-packages/eodhd/APIs/BaseAPI.py#39\" target=\"_blank\"><span style=\"color: #7f7f7f; text-decoration-color: #7f7f7f\">39</span></a>\n",
       "</pre>\n"
      ],
      "text/plain": [
       "\u001b[2;36m[12:03:36]\u001b[0m\u001b[2;36m \u001b[0mExpecting value: line \u001b[1;36m1\u001b[0m column \u001b[1;36m1\u001b[0m \u001b[1m(\u001b[0mchar \u001b[1;36m0\u001b[0m\u001b[1m)\u001b[0m                                                  \u001b]8;id=410948;file:///Users/altmanmarx/anaconda3/envs/ee559/lib/python3.11/site-packages/eodhd/APIs/BaseAPI.py\u001b\\\u001b[2mBaseAPI.py\u001b[0m\u001b]8;;\u001b\\\u001b[2m:\u001b[0m\u001b]8;id=504291;file:///Users/altmanmarx/anaconda3/envs/ee559/lib/python3.11/site-packages/eodhd/APIs/BaseAPI.py#39\u001b\\\u001b[2m39\u001b[0m\u001b]8;;\u001b\\\n"
      ]
     },
     "metadata": {},
     "output_type": "display_data"
    },
    {
     "data": {
      "text/html": [
       "<pre style=\"white-space:pre;overflow-x:auto;line-height:normal;font-family:Menlo,'DejaVu Sans Mono',consolas,'Courier New',monospace\"><span style=\"color: #7fbfbf; text-decoration-color: #7fbfbf\">           </span><span style=\"color: #008080; text-decoration-color: #008080; font-weight: bold\">404</span> Client Error: Not Found for url:                                                       <a href=\"file:///Users/altmanmarx/anaconda3/envs/ee559/lib/python3.11/site-packages/eodhd/APIs/BaseAPI.py\" target=\"_blank\"><span style=\"color: #7f7f7f; text-decoration-color: #7f7f7f\">BaseAPI.py</span></a><span style=\"color: #7f7f7f; text-decoration-color: #7f7f7f\">:</span><a href=\"file:///Users/altmanmarx/anaconda3/envs/ee559/lib/python3.11/site-packages/eodhd/APIs/BaseAPI.py#52\" target=\"_blank\"><span style=\"color: #7f7f7f; text-decoration-color: #7f7f7f\">52</span></a>\n",
       "<span style=\"color: #7fbfbf; text-decoration-color: #7fbfbf\">           </span><span style=\"color: #0000ff; text-decoration-color: #0000ff; text-decoration: underline\">https://eodhd.com/api/fundamentals/002742?api_token=5cb671b0b4a790.35526238&amp;fmt=json</span>       <span style=\"color: #7f7f7f; text-decoration-color: #7f7f7f\">             </span>\n",
       "</pre>\n"
      ],
      "text/plain": [
       "\u001b[2;36m          \u001b[0m\u001b[2;36m \u001b[0m\u001b[1;36m404\u001b[0m Client Error: Not Found for url:                                                       \u001b]8;id=921582;file:///Users/altmanmarx/anaconda3/envs/ee559/lib/python3.11/site-packages/eodhd/APIs/BaseAPI.py\u001b\\\u001b[2mBaseAPI.py\u001b[0m\u001b]8;;\u001b\\\u001b[2m:\u001b[0m\u001b]8;id=764447;file:///Users/altmanmarx/anaconda3/envs/ee559/lib/python3.11/site-packages/eodhd/APIs/BaseAPI.py#52\u001b\\\u001b[2m52\u001b[0m\u001b]8;;\u001b\\\n",
       "\u001b[2;36m           \u001b[0m\u001b[4;94mhttps://eodhd.com/api/fundamentals/002742?\u001b[0m\u001b[4;94mapi_token\u001b[0m\u001b[4;94m=\u001b[0m\u001b[4;94m5cb671b0b4a790\u001b[0m\u001b[4;94m.35526238&\u001b[0m\u001b[4;94mfmt\u001b[0m\u001b[4;94m=\u001b[0m\u001b[4;94mjson\u001b[0m       \u001b[2m             \u001b[0m\n"
      ]
     },
     "metadata": {},
     "output_type": "display_data"
    },
    {
     "name": "stdout",
     "output_type": "stream",
     "text": [
      "002742\n"
     ]
    },
    {
     "data": {
      "text/html": [
       "<pre style=\"white-space:pre;overflow-x:auto;line-height:normal;font-family:Menlo,'DejaVu Sans Mono',consolas,'Courier New',monospace\"><span style=\"color: #7fbfbf; text-decoration-color: #7fbfbf\">[12:03:36] </span>Expecting value: line <span style=\"color: #008080; text-decoration-color: #008080; font-weight: bold\">1</span> column <span style=\"color: #008080; text-decoration-color: #008080; font-weight: bold\">1</span> <span style=\"font-weight: bold\">(</span>char <span style=\"color: #008080; text-decoration-color: #008080; font-weight: bold\">0</span><span style=\"font-weight: bold\">)</span>                                                  <a href=\"file:///Users/altmanmarx/anaconda3/envs/ee559/lib/python3.11/site-packages/eodhd/APIs/BaseAPI.py\" target=\"_blank\"><span style=\"color: #7f7f7f; text-decoration-color: #7f7f7f\">BaseAPI.py</span></a><span style=\"color: #7f7f7f; text-decoration-color: #7f7f7f\">:</span><a href=\"file:///Users/altmanmarx/anaconda3/envs/ee559/lib/python3.11/site-packages/eodhd/APIs/BaseAPI.py#39\" target=\"_blank\"><span style=\"color: #7f7f7f; text-decoration-color: #7f7f7f\">39</span></a>\n",
       "</pre>\n"
      ],
      "text/plain": [
       "\u001b[2;36m[12:03:36]\u001b[0m\u001b[2;36m \u001b[0mExpecting value: line \u001b[1;36m1\u001b[0m column \u001b[1;36m1\u001b[0m \u001b[1m(\u001b[0mchar \u001b[1;36m0\u001b[0m\u001b[1m)\u001b[0m                                                  \u001b]8;id=800848;file:///Users/altmanmarx/anaconda3/envs/ee559/lib/python3.11/site-packages/eodhd/APIs/BaseAPI.py\u001b\\\u001b[2mBaseAPI.py\u001b[0m\u001b]8;;\u001b\\\u001b[2m:\u001b[0m\u001b]8;id=169639;file:///Users/altmanmarx/anaconda3/envs/ee559/lib/python3.11/site-packages/eodhd/APIs/BaseAPI.py#39\u001b\\\u001b[2m39\u001b[0m\u001b]8;;\u001b\\\n"
      ]
     },
     "metadata": {},
     "output_type": "display_data"
    },
    {
     "data": {
      "text/html": [
       "<pre style=\"white-space:pre;overflow-x:auto;line-height:normal;font-family:Menlo,'DejaVu Sans Mono',consolas,'Courier New',monospace\"><span style=\"color: #7fbfbf; text-decoration-color: #7fbfbf\">           </span><span style=\"color: #008080; text-decoration-color: #008080; font-weight: bold\">404</span> Client Error: Not Found for url:                                                       <a href=\"file:///Users/altmanmarx/anaconda3/envs/ee559/lib/python3.11/site-packages/eodhd/APIs/BaseAPI.py\" target=\"_blank\"><span style=\"color: #7f7f7f; text-decoration-color: #7f7f7f\">BaseAPI.py</span></a><span style=\"color: #7f7f7f; text-decoration-color: #7f7f7f\">:</span><a href=\"file:///Users/altmanmarx/anaconda3/envs/ee559/lib/python3.11/site-packages/eodhd/APIs/BaseAPI.py#52\" target=\"_blank\"><span style=\"color: #7f7f7f; text-decoration-color: #7f7f7f\">52</span></a>\n",
       "<span style=\"color: #7fbfbf; text-decoration-color: #7fbfbf\">           </span><span style=\"color: #0000ff; text-decoration-color: #0000ff; text-decoration: underline\">https://eodhd.com/api/fundamentals/603916?api_token=5cb671b0b4a790.35526238&amp;fmt=json</span>       <span style=\"color: #7f7f7f; text-decoration-color: #7f7f7f\">             </span>\n",
       "</pre>\n"
      ],
      "text/plain": [
       "\u001b[2;36m          \u001b[0m\u001b[2;36m \u001b[0m\u001b[1;36m404\u001b[0m Client Error: Not Found for url:                                                       \u001b]8;id=355229;file:///Users/altmanmarx/anaconda3/envs/ee559/lib/python3.11/site-packages/eodhd/APIs/BaseAPI.py\u001b\\\u001b[2mBaseAPI.py\u001b[0m\u001b]8;;\u001b\\\u001b[2m:\u001b[0m\u001b]8;id=625544;file:///Users/altmanmarx/anaconda3/envs/ee559/lib/python3.11/site-packages/eodhd/APIs/BaseAPI.py#52\u001b\\\u001b[2m52\u001b[0m\u001b]8;;\u001b\\\n",
       "\u001b[2;36m           \u001b[0m\u001b[4;94mhttps://eodhd.com/api/fundamentals/603916?\u001b[0m\u001b[4;94mapi_token\u001b[0m\u001b[4;94m=\u001b[0m\u001b[4;94m5cb671b0b4a790\u001b[0m\u001b[4;94m.35526238&\u001b[0m\u001b[4;94mfmt\u001b[0m\u001b[4;94m=\u001b[0m\u001b[4;94mjson\u001b[0m       \u001b[2m             \u001b[0m\n"
      ]
     },
     "metadata": {},
     "output_type": "display_data"
    },
    {
     "name": "stdout",
     "output_type": "stream",
     "text": [
      "603916\n"
     ]
    },
    {
     "data": {
      "text/html": [
       "<pre style=\"white-space:pre;overflow-x:auto;line-height:normal;font-family:Menlo,'DejaVu Sans Mono',consolas,'Courier New',monospace\"><span style=\"color: #7fbfbf; text-decoration-color: #7fbfbf\">[12:03:37] </span>Expecting value: line <span style=\"color: #008080; text-decoration-color: #008080; font-weight: bold\">1</span> column <span style=\"color: #008080; text-decoration-color: #008080; font-weight: bold\">1</span> <span style=\"font-weight: bold\">(</span>char <span style=\"color: #008080; text-decoration-color: #008080; font-weight: bold\">0</span><span style=\"font-weight: bold\">)</span>                                                  <a href=\"file:///Users/altmanmarx/anaconda3/envs/ee559/lib/python3.11/site-packages/eodhd/APIs/BaseAPI.py\" target=\"_blank\"><span style=\"color: #7f7f7f; text-decoration-color: #7f7f7f\">BaseAPI.py</span></a><span style=\"color: #7f7f7f; text-decoration-color: #7f7f7f\">:</span><a href=\"file:///Users/altmanmarx/anaconda3/envs/ee559/lib/python3.11/site-packages/eodhd/APIs/BaseAPI.py#39\" target=\"_blank\"><span style=\"color: #7f7f7f; text-decoration-color: #7f7f7f\">39</span></a>\n",
       "</pre>\n"
      ],
      "text/plain": [
       "\u001b[2;36m[12:03:37]\u001b[0m\u001b[2;36m \u001b[0mExpecting value: line \u001b[1;36m1\u001b[0m column \u001b[1;36m1\u001b[0m \u001b[1m(\u001b[0mchar \u001b[1;36m0\u001b[0m\u001b[1m)\u001b[0m                                                  \u001b]8;id=841313;file:///Users/altmanmarx/anaconda3/envs/ee559/lib/python3.11/site-packages/eodhd/APIs/BaseAPI.py\u001b\\\u001b[2mBaseAPI.py\u001b[0m\u001b]8;;\u001b\\\u001b[2m:\u001b[0m\u001b]8;id=913532;file:///Users/altmanmarx/anaconda3/envs/ee559/lib/python3.11/site-packages/eodhd/APIs/BaseAPI.py#39\u001b\\\u001b[2m39\u001b[0m\u001b]8;;\u001b\\\n"
      ]
     },
     "metadata": {},
     "output_type": "display_data"
    },
    {
     "data": {
      "text/html": [
       "<pre style=\"white-space:pre;overflow-x:auto;line-height:normal;font-family:Menlo,'DejaVu Sans Mono',consolas,'Courier New',monospace\"><span style=\"color: #7fbfbf; text-decoration-color: #7fbfbf\">           </span><span style=\"color: #008080; text-decoration-color: #008080; font-weight: bold\">404</span> Client Error: Not Found for url:                                                       <a href=\"file:///Users/altmanmarx/anaconda3/envs/ee559/lib/python3.11/site-packages/eodhd/APIs/BaseAPI.py\" target=\"_blank\"><span style=\"color: #7f7f7f; text-decoration-color: #7f7f7f\">BaseAPI.py</span></a><span style=\"color: #7f7f7f; text-decoration-color: #7f7f7f\">:</span><a href=\"file:///Users/altmanmarx/anaconda3/envs/ee559/lib/python3.11/site-packages/eodhd/APIs/BaseAPI.py#52\" target=\"_blank\"><span style=\"color: #7f7f7f; text-decoration-color: #7f7f7f\">52</span></a>\n",
       "<span style=\"color: #7fbfbf; text-decoration-color: #7fbfbf\">           </span><span style=\"color: #0000ff; text-decoration-color: #0000ff; text-decoration: underline\">https://eodhd.com/api/fundamentals/DXV?api_token=5cb671b0b4a790.35526238&amp;fmt=json</span>          <span style=\"color: #7f7f7f; text-decoration-color: #7f7f7f\">             </span>\n",
       "</pre>\n"
      ],
      "text/plain": [
       "\u001b[2;36m          \u001b[0m\u001b[2;36m \u001b[0m\u001b[1;36m404\u001b[0m Client Error: Not Found for url:                                                       \u001b]8;id=457894;file:///Users/altmanmarx/anaconda3/envs/ee559/lib/python3.11/site-packages/eodhd/APIs/BaseAPI.py\u001b\\\u001b[2mBaseAPI.py\u001b[0m\u001b]8;;\u001b\\\u001b[2m:\u001b[0m\u001b]8;id=925500;file:///Users/altmanmarx/anaconda3/envs/ee559/lib/python3.11/site-packages/eodhd/APIs/BaseAPI.py#52\u001b\\\u001b[2m52\u001b[0m\u001b]8;;\u001b\\\n",
       "\u001b[2;36m           \u001b[0m\u001b[4;94mhttps://eodhd.com/api/fundamentals/DXV?\u001b[0m\u001b[4;94mapi_token\u001b[0m\u001b[4;94m=\u001b[0m\u001b[4;94m5cb671b0b4a790\u001b[0m\u001b[4;94m.35526238&\u001b[0m\u001b[4;94mfmt\u001b[0m\u001b[4;94m=\u001b[0m\u001b[4;94mjson\u001b[0m          \u001b[2m             \u001b[0m\n"
      ]
     },
     "metadata": {},
     "output_type": "display_data"
    },
    {
     "name": "stdout",
     "output_type": "stream",
     "text": [
      "DXV\n",
      "LBM\n"
     ]
    },
    {
     "data": {
      "text/html": [
       "<pre style=\"white-space:pre;overflow-x:auto;line-height:normal;font-family:Menlo,'DejaVu Sans Mono',consolas,'Courier New',monospace\"><span style=\"color: #7fbfbf; text-decoration-color: #7fbfbf\">[12:03:37] </span>Expecting value: line <span style=\"color: #008080; text-decoration-color: #008080; font-weight: bold\">1</span> column <span style=\"color: #008080; text-decoration-color: #008080; font-weight: bold\">1</span> <span style=\"font-weight: bold\">(</span>char <span style=\"color: #008080; text-decoration-color: #008080; font-weight: bold\">0</span><span style=\"font-weight: bold\">)</span>                                                  <a href=\"file:///Users/altmanmarx/anaconda3/envs/ee559/lib/python3.11/site-packages/eodhd/APIs/BaseAPI.py\" target=\"_blank\"><span style=\"color: #7f7f7f; text-decoration-color: #7f7f7f\">BaseAPI.py</span></a><span style=\"color: #7f7f7f; text-decoration-color: #7f7f7f\">:</span><a href=\"file:///Users/altmanmarx/anaconda3/envs/ee559/lib/python3.11/site-packages/eodhd/APIs/BaseAPI.py#39\" target=\"_blank\"><span style=\"color: #7f7f7f; text-decoration-color: #7f7f7f\">39</span></a>\n",
       "</pre>\n"
      ],
      "text/plain": [
       "\u001b[2;36m[12:03:37]\u001b[0m\u001b[2;36m \u001b[0mExpecting value: line \u001b[1;36m1\u001b[0m column \u001b[1;36m1\u001b[0m \u001b[1m(\u001b[0mchar \u001b[1;36m0\u001b[0m\u001b[1m)\u001b[0m                                                  \u001b]8;id=305004;file:///Users/altmanmarx/anaconda3/envs/ee559/lib/python3.11/site-packages/eodhd/APIs/BaseAPI.py\u001b\\\u001b[2mBaseAPI.py\u001b[0m\u001b]8;;\u001b\\\u001b[2m:\u001b[0m\u001b]8;id=402457;file:///Users/altmanmarx/anaconda3/envs/ee559/lib/python3.11/site-packages/eodhd/APIs/BaseAPI.py#39\u001b\\\u001b[2m39\u001b[0m\u001b]8;;\u001b\\\n"
      ]
     },
     "metadata": {},
     "output_type": "display_data"
    },
    {
     "data": {
      "text/html": [
       "<pre style=\"white-space:pre;overflow-x:auto;line-height:normal;font-family:Menlo,'DejaVu Sans Mono',consolas,'Courier New',monospace\"><span style=\"color: #7fbfbf; text-decoration-color: #7fbfbf\">           </span><span style=\"color: #008080; text-decoration-color: #008080; font-weight: bold\">404</span> Client Error: Not Found for url:                                                       <a href=\"file:///Users/altmanmarx/anaconda3/envs/ee559/lib/python3.11/site-packages/eodhd/APIs/BaseAPI.py\" target=\"_blank\"><span style=\"color: #7f7f7f; text-decoration-color: #7f7f7f\">BaseAPI.py</span></a><span style=\"color: #7f7f7f; text-decoration-color: #7f7f7f\">:</span><a href=\"file:///Users/altmanmarx/anaconda3/envs/ee559/lib/python3.11/site-packages/eodhd/APIs/BaseAPI.py#52\" target=\"_blank\"><span style=\"color: #7f7f7f; text-decoration-color: #7f7f7f\">52</span></a>\n",
       "<span style=\"color: #7fbfbf; text-decoration-color: #7fbfbf\">           </span><span style=\"color: #0000ff; text-decoration-color: #0000ff; text-decoration: underline\">https://eodhd.com/api/fundamentals/7SU?api_token=5cb671b0b4a790.35526238&amp;fmt=json</span>          <span style=\"color: #7f7f7f; text-decoration-color: #7f7f7f\">             </span>\n",
       "</pre>\n"
      ],
      "text/plain": [
       "\u001b[2;36m          \u001b[0m\u001b[2;36m \u001b[0m\u001b[1;36m404\u001b[0m Client Error: Not Found for url:                                                       \u001b]8;id=332592;file:///Users/altmanmarx/anaconda3/envs/ee559/lib/python3.11/site-packages/eodhd/APIs/BaseAPI.py\u001b\\\u001b[2mBaseAPI.py\u001b[0m\u001b]8;;\u001b\\\u001b[2m:\u001b[0m\u001b]8;id=939445;file:///Users/altmanmarx/anaconda3/envs/ee559/lib/python3.11/site-packages/eodhd/APIs/BaseAPI.py#52\u001b\\\u001b[2m52\u001b[0m\u001b]8;;\u001b\\\n",
       "\u001b[2;36m           \u001b[0m\u001b[4;94mhttps://eodhd.com/api/fundamentals/7SU?\u001b[0m\u001b[4;94mapi_token\u001b[0m\u001b[4;94m=\u001b[0m\u001b[4;94m5cb671b0b4a790\u001b[0m\u001b[4;94m.35526238&\u001b[0m\u001b[4;94mfmt\u001b[0m\u001b[4;94m=\u001b[0m\u001b[4;94mjson\u001b[0m          \u001b[2m             \u001b[0m\n"
      ]
     },
     "metadata": {},
     "output_type": "display_data"
    },
    {
     "name": "stdout",
     "output_type": "stream",
     "text": [
      "7SU\n"
     ]
    },
    {
     "data": {
      "text/html": [
       "<pre style=\"white-space:pre;overflow-x:auto;line-height:normal;font-family:Menlo,'DejaVu Sans Mono',consolas,'Courier New',monospace\"><span style=\"color: #7fbfbf; text-decoration-color: #7fbfbf\">[12:03:37] </span>Expecting value: line <span style=\"color: #008080; text-decoration-color: #008080; font-weight: bold\">1</span> column <span style=\"color: #008080; text-decoration-color: #008080; font-weight: bold\">1</span> <span style=\"font-weight: bold\">(</span>char <span style=\"color: #008080; text-decoration-color: #008080; font-weight: bold\">0</span><span style=\"font-weight: bold\">)</span>                                                  <a href=\"file:///Users/altmanmarx/anaconda3/envs/ee559/lib/python3.11/site-packages/eodhd/APIs/BaseAPI.py\" target=\"_blank\"><span style=\"color: #7f7f7f; text-decoration-color: #7f7f7f\">BaseAPI.py</span></a><span style=\"color: #7f7f7f; text-decoration-color: #7f7f7f\">:</span><a href=\"file:///Users/altmanmarx/anaconda3/envs/ee559/lib/python3.11/site-packages/eodhd/APIs/BaseAPI.py#39\" target=\"_blank\"><span style=\"color: #7f7f7f; text-decoration-color: #7f7f7f\">39</span></a>\n",
       "</pre>\n"
      ],
      "text/plain": [
       "\u001b[2;36m[12:03:37]\u001b[0m\u001b[2;36m \u001b[0mExpecting value: line \u001b[1;36m1\u001b[0m column \u001b[1;36m1\u001b[0m \u001b[1m(\u001b[0mchar \u001b[1;36m0\u001b[0m\u001b[1m)\u001b[0m                                                  \u001b]8;id=615732;file:///Users/altmanmarx/anaconda3/envs/ee559/lib/python3.11/site-packages/eodhd/APIs/BaseAPI.py\u001b\\\u001b[2mBaseAPI.py\u001b[0m\u001b]8;;\u001b\\\u001b[2m:\u001b[0m\u001b]8;id=66379;file:///Users/altmanmarx/anaconda3/envs/ee559/lib/python3.11/site-packages/eodhd/APIs/BaseAPI.py#39\u001b\\\u001b[2m39\u001b[0m\u001b]8;;\u001b\\\n"
      ]
     },
     "metadata": {},
     "output_type": "display_data"
    },
    {
     "data": {
      "text/html": [
       "<pre style=\"white-space:pre;overflow-x:auto;line-height:normal;font-family:Menlo,'DejaVu Sans Mono',consolas,'Courier New',monospace\"><span style=\"color: #7fbfbf; text-decoration-color: #7fbfbf\">           </span><span style=\"color: #008080; text-decoration-color: #008080; font-weight: bold\">404</span> Client Error: Not Found for url:                                                       <a href=\"file:///Users/altmanmarx/anaconda3/envs/ee559/lib/python3.11/site-packages/eodhd/APIs/BaseAPI.py\" target=\"_blank\"><span style=\"color: #7f7f7f; text-decoration-color: #7f7f7f\">BaseAPI.py</span></a><span style=\"color: #7f7f7f; text-decoration-color: #7f7f7f\">:</span><a href=\"file:///Users/altmanmarx/anaconda3/envs/ee559/lib/python3.11/site-packages/eodhd/APIs/BaseAPI.py#52\" target=\"_blank\"><span style=\"color: #7f7f7f; text-decoration-color: #7f7f7f\">52</span></a>\n",
       "<span style=\"color: #7fbfbf; text-decoration-color: #7fbfbf\">           </span><span style=\"color: #0000ff; text-decoration-color: #0000ff; text-decoration: underline\">https://eodhd.com/api/fundamentals/8463?api_token=5cb671b0b4a790.35526238&amp;fmt=json</span>         <span style=\"color: #7f7f7f; text-decoration-color: #7f7f7f\">             </span>\n",
       "</pre>\n"
      ],
      "text/plain": [
       "\u001b[2;36m          \u001b[0m\u001b[2;36m \u001b[0m\u001b[1;36m404\u001b[0m Client Error: Not Found for url:                                                       \u001b]8;id=575630;file:///Users/altmanmarx/anaconda3/envs/ee559/lib/python3.11/site-packages/eodhd/APIs/BaseAPI.py\u001b\\\u001b[2mBaseAPI.py\u001b[0m\u001b]8;;\u001b\\\u001b[2m:\u001b[0m\u001b]8;id=549437;file:///Users/altmanmarx/anaconda3/envs/ee559/lib/python3.11/site-packages/eodhd/APIs/BaseAPI.py#52\u001b\\\u001b[2m52\u001b[0m\u001b]8;;\u001b\\\n",
       "\u001b[2;36m           \u001b[0m\u001b[4;94mhttps://eodhd.com/api/fundamentals/8463?\u001b[0m\u001b[4;94mapi_token\u001b[0m\u001b[4;94m=\u001b[0m\u001b[4;94m5cb671b0b4a790\u001b[0m\u001b[4;94m.35526238&\u001b[0m\u001b[4;94mfmt\u001b[0m\u001b[4;94m=\u001b[0m\u001b[4;94mjson\u001b[0m         \u001b[2m             \u001b[0m\n"
      ]
     },
     "metadata": {},
     "output_type": "display_data"
    },
    {
     "name": "stdout",
     "output_type": "stream",
     "text": [
      "8463\n"
     ]
    },
    {
     "data": {
      "text/html": [
       "<pre style=\"white-space:pre;overflow-x:auto;line-height:normal;font-family:Menlo,'DejaVu Sans Mono',consolas,'Courier New',monospace\"><span style=\"color: #7fbfbf; text-decoration-color: #7fbfbf\">[12:03:38] </span>Expecting value: line <span style=\"color: #008080; text-decoration-color: #008080; font-weight: bold\">1</span> column <span style=\"color: #008080; text-decoration-color: #008080; font-weight: bold\">1</span> <span style=\"font-weight: bold\">(</span>char <span style=\"color: #008080; text-decoration-color: #008080; font-weight: bold\">0</span><span style=\"font-weight: bold\">)</span>                                                  <a href=\"file:///Users/altmanmarx/anaconda3/envs/ee559/lib/python3.11/site-packages/eodhd/APIs/BaseAPI.py\" target=\"_blank\"><span style=\"color: #7f7f7f; text-decoration-color: #7f7f7f\">BaseAPI.py</span></a><span style=\"color: #7f7f7f; text-decoration-color: #7f7f7f\">:</span><a href=\"file:///Users/altmanmarx/anaconda3/envs/ee559/lib/python3.11/site-packages/eodhd/APIs/BaseAPI.py#39\" target=\"_blank\"><span style=\"color: #7f7f7f; text-decoration-color: #7f7f7f\">39</span></a>\n",
       "</pre>\n"
      ],
      "text/plain": [
       "\u001b[2;36m[12:03:38]\u001b[0m\u001b[2;36m \u001b[0mExpecting value: line \u001b[1;36m1\u001b[0m column \u001b[1;36m1\u001b[0m \u001b[1m(\u001b[0mchar \u001b[1;36m0\u001b[0m\u001b[1m)\u001b[0m                                                  \u001b]8;id=222175;file:///Users/altmanmarx/anaconda3/envs/ee559/lib/python3.11/site-packages/eodhd/APIs/BaseAPI.py\u001b\\\u001b[2mBaseAPI.py\u001b[0m\u001b]8;;\u001b\\\u001b[2m:\u001b[0m\u001b]8;id=856878;file:///Users/altmanmarx/anaconda3/envs/ee559/lib/python3.11/site-packages/eodhd/APIs/BaseAPI.py#39\u001b\\\u001b[2m39\u001b[0m\u001b]8;;\u001b\\\n"
      ]
     },
     "metadata": {},
     "output_type": "display_data"
    },
    {
     "data": {
      "text/html": [
       "<pre style=\"white-space:pre;overflow-x:auto;line-height:normal;font-family:Menlo,'DejaVu Sans Mono',consolas,'Courier New',monospace\"><span style=\"color: #7fbfbf; text-decoration-color: #7fbfbf\">           </span><span style=\"color: #008080; text-decoration-color: #008080; font-weight: bold\">404</span> Client Error: Not Found for url:                                                       <a href=\"file:///Users/altmanmarx/anaconda3/envs/ee559/lib/python3.11/site-packages/eodhd/APIs/BaseAPI.py\" target=\"_blank\"><span style=\"color: #7f7f7f; text-decoration-color: #7f7f7f\">BaseAPI.py</span></a><span style=\"color: #7f7f7f; text-decoration-color: #7f7f7f\">:</span><a href=\"file:///Users/altmanmarx/anaconda3/envs/ee559/lib/python3.11/site-packages/eodhd/APIs/BaseAPI.py#52\" target=\"_blank\"><span style=\"color: #7f7f7f; text-decoration-color: #7f7f7f\">52</span></a>\n",
       "<span style=\"color: #7fbfbf; text-decoration-color: #7fbfbf\">           </span><span style=\"color: #0000ff; text-decoration-color: #0000ff; text-decoration: underline\">https://eodhd.com/api/fundamentals/E5M?api_token=5cb671b0b4a790.35526238&amp;fmt=json</span>          <span style=\"color: #7f7f7f; text-decoration-color: #7f7f7f\">             </span>\n",
       "</pre>\n"
      ],
      "text/plain": [
       "\u001b[2;36m          \u001b[0m\u001b[2;36m \u001b[0m\u001b[1;36m404\u001b[0m Client Error: Not Found for url:                                                       \u001b]8;id=572442;file:///Users/altmanmarx/anaconda3/envs/ee559/lib/python3.11/site-packages/eodhd/APIs/BaseAPI.py\u001b\\\u001b[2mBaseAPI.py\u001b[0m\u001b]8;;\u001b\\\u001b[2m:\u001b[0m\u001b]8;id=142703;file:///Users/altmanmarx/anaconda3/envs/ee559/lib/python3.11/site-packages/eodhd/APIs/BaseAPI.py#52\u001b\\\u001b[2m52\u001b[0m\u001b]8;;\u001b\\\n",
       "\u001b[2;36m           \u001b[0m\u001b[4;94mhttps://eodhd.com/api/fundamentals/E5M?\u001b[0m\u001b[4;94mapi_token\u001b[0m\u001b[4;94m=\u001b[0m\u001b[4;94m5cb671b0b4a790\u001b[0m\u001b[4;94m.35526238&\u001b[0m\u001b[4;94mfmt\u001b[0m\u001b[4;94m=\u001b[0m\u001b[4;94mjson\u001b[0m          \u001b[2m             \u001b[0m\n"
      ]
     },
     "metadata": {},
     "output_type": "display_data"
    },
    {
     "name": "stdout",
     "output_type": "stream",
     "text": [
      "E5M\n"
     ]
    },
    {
     "data": {
      "text/html": [
       "<pre style=\"white-space:pre;overflow-x:auto;line-height:normal;font-family:Menlo,'DejaVu Sans Mono',consolas,'Courier New',monospace\"><span style=\"color: #7fbfbf; text-decoration-color: #7fbfbf\">[12:03:38] </span>Expecting value: line <span style=\"color: #008080; text-decoration-color: #008080; font-weight: bold\">1</span> column <span style=\"color: #008080; text-decoration-color: #008080; font-weight: bold\">1</span> <span style=\"font-weight: bold\">(</span>char <span style=\"color: #008080; text-decoration-color: #008080; font-weight: bold\">0</span><span style=\"font-weight: bold\">)</span>                                                  <a href=\"file:///Users/altmanmarx/anaconda3/envs/ee559/lib/python3.11/site-packages/eodhd/APIs/BaseAPI.py\" target=\"_blank\"><span style=\"color: #7f7f7f; text-decoration-color: #7f7f7f\">BaseAPI.py</span></a><span style=\"color: #7f7f7f; text-decoration-color: #7f7f7f\">:</span><a href=\"file:///Users/altmanmarx/anaconda3/envs/ee559/lib/python3.11/site-packages/eodhd/APIs/BaseAPI.py#39\" target=\"_blank\"><span style=\"color: #7f7f7f; text-decoration-color: #7f7f7f\">39</span></a>\n",
       "</pre>\n"
      ],
      "text/plain": [
       "\u001b[2;36m[12:03:38]\u001b[0m\u001b[2;36m \u001b[0mExpecting value: line \u001b[1;36m1\u001b[0m column \u001b[1;36m1\u001b[0m \u001b[1m(\u001b[0mchar \u001b[1;36m0\u001b[0m\u001b[1m)\u001b[0m                                                  \u001b]8;id=567216;file:///Users/altmanmarx/anaconda3/envs/ee559/lib/python3.11/site-packages/eodhd/APIs/BaseAPI.py\u001b\\\u001b[2mBaseAPI.py\u001b[0m\u001b]8;;\u001b\\\u001b[2m:\u001b[0m\u001b]8;id=997524;file:///Users/altmanmarx/anaconda3/envs/ee559/lib/python3.11/site-packages/eodhd/APIs/BaseAPI.py#39\u001b\\\u001b[2m39\u001b[0m\u001b]8;;\u001b\\\n"
      ]
     },
     "metadata": {},
     "output_type": "display_data"
    },
    {
     "data": {
      "text/html": [
       "<pre style=\"white-space:pre;overflow-x:auto;line-height:normal;font-family:Menlo,'DejaVu Sans Mono',consolas,'Courier New',monospace\"><span style=\"color: #7fbfbf; text-decoration-color: #7fbfbf\">           </span><span style=\"color: #008080; text-decoration-color: #008080; font-weight: bold\">404</span> Client Error: Not Found for url:                                                       <a href=\"file:///Users/altmanmarx/anaconda3/envs/ee559/lib/python3.11/site-packages/eodhd/APIs/BaseAPI.py\" target=\"_blank\"><span style=\"color: #7f7f7f; text-decoration-color: #7f7f7f\">BaseAPI.py</span></a><span style=\"color: #7f7f7f; text-decoration-color: #7f7f7f\">:</span><a href=\"file:///Users/altmanmarx/anaconda3/envs/ee559/lib/python3.11/site-packages/eodhd/APIs/BaseAPI.py#52\" target=\"_blank\"><span style=\"color: #7f7f7f; text-decoration-color: #7f7f7f\">52</span></a>\n",
       "<span style=\"color: #7fbfbf; text-decoration-color: #7fbfbf\">           </span><span style=\"color: #0000ff; text-decoration-color: #0000ff; text-decoration: underline\">https://eodhd.com/api/fundamentals/605122?api_token=5cb671b0b4a790.35526238&amp;fmt=json</span>       <span style=\"color: #7f7f7f; text-decoration-color: #7f7f7f\">             </span>\n",
       "</pre>\n"
      ],
      "text/plain": [
       "\u001b[2;36m          \u001b[0m\u001b[2;36m \u001b[0m\u001b[1;36m404\u001b[0m Client Error: Not Found for url:                                                       \u001b]8;id=836560;file:///Users/altmanmarx/anaconda3/envs/ee559/lib/python3.11/site-packages/eodhd/APIs/BaseAPI.py\u001b\\\u001b[2mBaseAPI.py\u001b[0m\u001b]8;;\u001b\\\u001b[2m:\u001b[0m\u001b]8;id=759854;file:///Users/altmanmarx/anaconda3/envs/ee559/lib/python3.11/site-packages/eodhd/APIs/BaseAPI.py#52\u001b\\\u001b[2m52\u001b[0m\u001b]8;;\u001b\\\n",
       "\u001b[2;36m           \u001b[0m\u001b[4;94mhttps://eodhd.com/api/fundamentals/605122?\u001b[0m\u001b[4;94mapi_token\u001b[0m\u001b[4;94m=\u001b[0m\u001b[4;94m5cb671b0b4a790\u001b[0m\u001b[4;94m.35526238&\u001b[0m\u001b[4;94mfmt\u001b[0m\u001b[4;94m=\u001b[0m\u001b[4;94mjson\u001b[0m       \u001b[2m             \u001b[0m\n"
      ]
     },
     "metadata": {},
     "output_type": "display_data"
    },
    {
     "name": "stdout",
     "output_type": "stream",
     "text": [
      "605122\n"
     ]
    },
    {
     "data": {
      "text/html": [
       "<pre style=\"white-space:pre;overflow-x:auto;line-height:normal;font-family:Menlo,'DejaVu Sans Mono',consolas,'Courier New',monospace\"><span style=\"color: #7fbfbf; text-decoration-color: #7fbfbf\">[12:03:38] </span>Expecting value: line <span style=\"color: #008080; text-decoration-color: #008080; font-weight: bold\">1</span> column <span style=\"color: #008080; text-decoration-color: #008080; font-weight: bold\">1</span> <span style=\"font-weight: bold\">(</span>char <span style=\"color: #008080; text-decoration-color: #008080; font-weight: bold\">0</span><span style=\"font-weight: bold\">)</span>                                                  <a href=\"file:///Users/altmanmarx/anaconda3/envs/ee559/lib/python3.11/site-packages/eodhd/APIs/BaseAPI.py\" target=\"_blank\"><span style=\"color: #7f7f7f; text-decoration-color: #7f7f7f\">BaseAPI.py</span></a><span style=\"color: #7f7f7f; text-decoration-color: #7f7f7f\">:</span><a href=\"file:///Users/altmanmarx/anaconda3/envs/ee559/lib/python3.11/site-packages/eodhd/APIs/BaseAPI.py#39\" target=\"_blank\"><span style=\"color: #7f7f7f; text-decoration-color: #7f7f7f\">39</span></a>\n",
       "</pre>\n"
      ],
      "text/plain": [
       "\u001b[2;36m[12:03:38]\u001b[0m\u001b[2;36m \u001b[0mExpecting value: line \u001b[1;36m1\u001b[0m column \u001b[1;36m1\u001b[0m \u001b[1m(\u001b[0mchar \u001b[1;36m0\u001b[0m\u001b[1m)\u001b[0m                                                  \u001b]8;id=109816;file:///Users/altmanmarx/anaconda3/envs/ee559/lib/python3.11/site-packages/eodhd/APIs/BaseAPI.py\u001b\\\u001b[2mBaseAPI.py\u001b[0m\u001b]8;;\u001b\\\u001b[2m:\u001b[0m\u001b]8;id=628695;file:///Users/altmanmarx/anaconda3/envs/ee559/lib/python3.11/site-packages/eodhd/APIs/BaseAPI.py#39\u001b\\\u001b[2m39\u001b[0m\u001b]8;;\u001b\\\n"
      ]
     },
     "metadata": {},
     "output_type": "display_data"
    },
    {
     "data": {
      "text/html": [
       "<pre style=\"white-space:pre;overflow-x:auto;line-height:normal;font-family:Menlo,'DejaVu Sans Mono',consolas,'Courier New',monospace\"><span style=\"color: #7fbfbf; text-decoration-color: #7fbfbf\">           </span><span style=\"color: #008080; text-decoration-color: #008080; font-weight: bold\">404</span> Client Error: Not Found for url:                                                       <a href=\"file:///Users/altmanmarx/anaconda3/envs/ee559/lib/python3.11/site-packages/eodhd/APIs/BaseAPI.py\" target=\"_blank\"><span style=\"color: #7f7f7f; text-decoration-color: #7f7f7f\">BaseAPI.py</span></a><span style=\"color: #7f7f7f; text-decoration-color: #7f7f7f\">:</span><a href=\"file:///Users/altmanmarx/anaconda3/envs/ee559/lib/python3.11/site-packages/eodhd/APIs/BaseAPI.py#52\" target=\"_blank\"><span style=\"color: #7f7f7f; text-decoration-color: #7f7f7f\">52</span></a>\n",
       "<span style=\"color: #7fbfbf; text-decoration-color: #7fbfbf\">           </span><span style=\"color: #0000ff; text-decoration-color: #0000ff; text-decoration: underline\">https://eodhd.com/api/fundamentals/688119?api_token=5cb671b0b4a790.35526238&amp;fmt=json</span>       <span style=\"color: #7f7f7f; text-decoration-color: #7f7f7f\">             </span>\n",
       "</pre>\n"
      ],
      "text/plain": [
       "\u001b[2;36m          \u001b[0m\u001b[2;36m \u001b[0m\u001b[1;36m404\u001b[0m Client Error: Not Found for url:                                                       \u001b]8;id=966777;file:///Users/altmanmarx/anaconda3/envs/ee559/lib/python3.11/site-packages/eodhd/APIs/BaseAPI.py\u001b\\\u001b[2mBaseAPI.py\u001b[0m\u001b]8;;\u001b\\\u001b[2m:\u001b[0m\u001b]8;id=732369;file:///Users/altmanmarx/anaconda3/envs/ee559/lib/python3.11/site-packages/eodhd/APIs/BaseAPI.py#52\u001b\\\u001b[2m52\u001b[0m\u001b]8;;\u001b\\\n",
       "\u001b[2;36m           \u001b[0m\u001b[4;94mhttps://eodhd.com/api/fundamentals/688119?\u001b[0m\u001b[4;94mapi_token\u001b[0m\u001b[4;94m=\u001b[0m\u001b[4;94m5cb671b0b4a790\u001b[0m\u001b[4;94m.35526238&\u001b[0m\u001b[4;94mfmt\u001b[0m\u001b[4;94m=\u001b[0m\u001b[4;94mjson\u001b[0m       \u001b[2m             \u001b[0m\n"
      ]
     },
     "metadata": {},
     "output_type": "display_data"
    },
    {
     "name": "stdout",
     "output_type": "stream",
     "text": [
      "688119\n"
     ]
    },
    {
     "data": {
      "text/html": [
       "<pre style=\"white-space:pre;overflow-x:auto;line-height:normal;font-family:Menlo,'DejaVu Sans Mono',consolas,'Courier New',monospace\"><span style=\"color: #7fbfbf; text-decoration-color: #7fbfbf\">[12:03:38] </span>Expecting value: line <span style=\"color: #008080; text-decoration-color: #008080; font-weight: bold\">1</span> column <span style=\"color: #008080; text-decoration-color: #008080; font-weight: bold\">1</span> <span style=\"font-weight: bold\">(</span>char <span style=\"color: #008080; text-decoration-color: #008080; font-weight: bold\">0</span><span style=\"font-weight: bold\">)</span>                                                  <a href=\"file:///Users/altmanmarx/anaconda3/envs/ee559/lib/python3.11/site-packages/eodhd/APIs/BaseAPI.py\" target=\"_blank\"><span style=\"color: #7f7f7f; text-decoration-color: #7f7f7f\">BaseAPI.py</span></a><span style=\"color: #7f7f7f; text-decoration-color: #7f7f7f\">:</span><a href=\"file:///Users/altmanmarx/anaconda3/envs/ee559/lib/python3.11/site-packages/eodhd/APIs/BaseAPI.py#39\" target=\"_blank\"><span style=\"color: #7f7f7f; text-decoration-color: #7f7f7f\">39</span></a>\n",
       "</pre>\n"
      ],
      "text/plain": [
       "\u001b[2;36m[12:03:38]\u001b[0m\u001b[2;36m \u001b[0mExpecting value: line \u001b[1;36m1\u001b[0m column \u001b[1;36m1\u001b[0m \u001b[1m(\u001b[0mchar \u001b[1;36m0\u001b[0m\u001b[1m)\u001b[0m                                                  \u001b]8;id=992799;file:///Users/altmanmarx/anaconda3/envs/ee559/lib/python3.11/site-packages/eodhd/APIs/BaseAPI.py\u001b\\\u001b[2mBaseAPI.py\u001b[0m\u001b]8;;\u001b\\\u001b[2m:\u001b[0m\u001b]8;id=720987;file:///Users/altmanmarx/anaconda3/envs/ee559/lib/python3.11/site-packages/eodhd/APIs/BaseAPI.py#39\u001b\\\u001b[2m39\u001b[0m\u001b]8;;\u001b\\\n"
      ]
     },
     "metadata": {},
     "output_type": "display_data"
    },
    {
     "data": {
      "text/html": [
       "<pre style=\"white-space:pre;overflow-x:auto;line-height:normal;font-family:Menlo,'DejaVu Sans Mono',consolas,'Courier New',monospace\"><span style=\"color: #7fbfbf; text-decoration-color: #7fbfbf\">           </span><span style=\"color: #008080; text-decoration-color: #008080; font-weight: bold\">404</span> Client Error: Not Found for url:                                                       <a href=\"file:///Users/altmanmarx/anaconda3/envs/ee559/lib/python3.11/site-packages/eodhd/APIs/BaseAPI.py\" target=\"_blank\"><span style=\"color: #7f7f7f; text-decoration-color: #7f7f7f\">BaseAPI.py</span></a><span style=\"color: #7f7f7f; text-decoration-color: #7f7f7f\">:</span><a href=\"file:///Users/altmanmarx/anaconda3/envs/ee559/lib/python3.11/site-packages/eodhd/APIs/BaseAPI.py#52\" target=\"_blank\"><span style=\"color: #7f7f7f; text-decoration-color: #7f7f7f\">52</span></a>\n",
       "<span style=\"color: #7fbfbf; text-decoration-color: #7fbfbf\">           </span><span style=\"color: #0000ff; text-decoration-color: #0000ff; text-decoration: underline\">https://eodhd.com/api/fundamentals/SMS2?api_token=5cb671b0b4a790.35526238&amp;fmt=json</span>         <span style=\"color: #7f7f7f; text-decoration-color: #7f7f7f\">             </span>\n",
       "</pre>\n"
      ],
      "text/plain": [
       "\u001b[2;36m          \u001b[0m\u001b[2;36m \u001b[0m\u001b[1;36m404\u001b[0m Client Error: Not Found for url:                                                       \u001b]8;id=682194;file:///Users/altmanmarx/anaconda3/envs/ee559/lib/python3.11/site-packages/eodhd/APIs/BaseAPI.py\u001b\\\u001b[2mBaseAPI.py\u001b[0m\u001b]8;;\u001b\\\u001b[2m:\u001b[0m\u001b]8;id=977556;file:///Users/altmanmarx/anaconda3/envs/ee559/lib/python3.11/site-packages/eodhd/APIs/BaseAPI.py#52\u001b\\\u001b[2m52\u001b[0m\u001b]8;;\u001b\\\n",
       "\u001b[2;36m           \u001b[0m\u001b[4;94mhttps://eodhd.com/api/fundamentals/SMS2?\u001b[0m\u001b[4;94mapi_token\u001b[0m\u001b[4;94m=\u001b[0m\u001b[4;94m5cb671b0b4a790\u001b[0m\u001b[4;94m.35526238&\u001b[0m\u001b[4;94mfmt\u001b[0m\u001b[4;94m=\u001b[0m\u001b[4;94mjson\u001b[0m         \u001b[2m             \u001b[0m\n"
      ]
     },
     "metadata": {},
     "output_type": "display_data"
    },
    {
     "name": "stdout",
     "output_type": "stream",
     "text": [
      "SMS2\n"
     ]
    },
    {
     "data": {
      "text/html": [
       "<pre style=\"white-space:pre;overflow-x:auto;line-height:normal;font-family:Menlo,'DejaVu Sans Mono',consolas,'Courier New',monospace\"><span style=\"color: #7fbfbf; text-decoration-color: #7fbfbf\">[12:03:39] </span>Expecting value: line <span style=\"color: #008080; text-decoration-color: #008080; font-weight: bold\">1</span> column <span style=\"color: #008080; text-decoration-color: #008080; font-weight: bold\">1</span> <span style=\"font-weight: bold\">(</span>char <span style=\"color: #008080; text-decoration-color: #008080; font-weight: bold\">0</span><span style=\"font-weight: bold\">)</span>                                                  <a href=\"file:///Users/altmanmarx/anaconda3/envs/ee559/lib/python3.11/site-packages/eodhd/APIs/BaseAPI.py\" target=\"_blank\"><span style=\"color: #7f7f7f; text-decoration-color: #7f7f7f\">BaseAPI.py</span></a><span style=\"color: #7f7f7f; text-decoration-color: #7f7f7f\">:</span><a href=\"file:///Users/altmanmarx/anaconda3/envs/ee559/lib/python3.11/site-packages/eodhd/APIs/BaseAPI.py#39\" target=\"_blank\"><span style=\"color: #7f7f7f; text-decoration-color: #7f7f7f\">39</span></a>\n",
       "</pre>\n"
      ],
      "text/plain": [
       "\u001b[2;36m[12:03:39]\u001b[0m\u001b[2;36m \u001b[0mExpecting value: line \u001b[1;36m1\u001b[0m column \u001b[1;36m1\u001b[0m \u001b[1m(\u001b[0mchar \u001b[1;36m0\u001b[0m\u001b[1m)\u001b[0m                                                  \u001b]8;id=612366;file:///Users/altmanmarx/anaconda3/envs/ee559/lib/python3.11/site-packages/eodhd/APIs/BaseAPI.py\u001b\\\u001b[2mBaseAPI.py\u001b[0m\u001b]8;;\u001b\\\u001b[2m:\u001b[0m\u001b]8;id=925612;file:///Users/altmanmarx/anaconda3/envs/ee559/lib/python3.11/site-packages/eodhd/APIs/BaseAPI.py#39\u001b\\\u001b[2m39\u001b[0m\u001b]8;;\u001b\\\n"
      ]
     },
     "metadata": {},
     "output_type": "display_data"
    },
    {
     "data": {
      "text/html": [
       "<pre style=\"white-space:pre;overflow-x:auto;line-height:normal;font-family:Menlo,'DejaVu Sans Mono',consolas,'Courier New',monospace\"><span style=\"color: #7fbfbf; text-decoration-color: #7fbfbf\">           </span><span style=\"color: #008080; text-decoration-color: #008080; font-weight: bold\">404</span> Client Error: Not Found for url:                                                       <a href=\"file:///Users/altmanmarx/anaconda3/envs/ee559/lib/python3.11/site-packages/eodhd/APIs/BaseAPI.py\" target=\"_blank\"><span style=\"color: #7f7f7f; text-decoration-color: #7f7f7f\">BaseAPI.py</span></a><span style=\"color: #7f7f7f; text-decoration-color: #7f7f7f\">:</span><a href=\"file:///Users/altmanmarx/anaconda3/envs/ee559/lib/python3.11/site-packages/eodhd/APIs/BaseAPI.py#52\" target=\"_blank\"><span style=\"color: #7f7f7f; text-decoration-color: #7f7f7f\">52</span></a>\n",
       "<span style=\"color: #7fbfbf; text-decoration-color: #7fbfbf\">           </span><span style=\"color: #0000ff; text-decoration-color: #0000ff; text-decoration: underline\">https://eodhd.com/api/fundamentals/600720?api_token=5cb671b0b4a790.35526238&amp;fmt=json</span>       <span style=\"color: #7f7f7f; text-decoration-color: #7f7f7f\">             </span>\n",
       "</pre>\n"
      ],
      "text/plain": [
       "\u001b[2;36m          \u001b[0m\u001b[2;36m \u001b[0m\u001b[1;36m404\u001b[0m Client Error: Not Found for url:                                                       \u001b]8;id=989859;file:///Users/altmanmarx/anaconda3/envs/ee559/lib/python3.11/site-packages/eodhd/APIs/BaseAPI.py\u001b\\\u001b[2mBaseAPI.py\u001b[0m\u001b]8;;\u001b\\\u001b[2m:\u001b[0m\u001b]8;id=435661;file:///Users/altmanmarx/anaconda3/envs/ee559/lib/python3.11/site-packages/eodhd/APIs/BaseAPI.py#52\u001b\\\u001b[2m52\u001b[0m\u001b]8;;\u001b\\\n",
       "\u001b[2;36m           \u001b[0m\u001b[4;94mhttps://eodhd.com/api/fundamentals/600720?\u001b[0m\u001b[4;94mapi_token\u001b[0m\u001b[4;94m=\u001b[0m\u001b[4;94m5cb671b0b4a790\u001b[0m\u001b[4;94m.35526238&\u001b[0m\u001b[4;94mfmt\u001b[0m\u001b[4;94m=\u001b[0m\u001b[4;94mjson\u001b[0m       \u001b[2m             \u001b[0m\n"
      ]
     },
     "metadata": {},
     "output_type": "display_data"
    },
    {
     "name": "stdout",
     "output_type": "stream",
     "text": [
      "600720\n"
     ]
    },
    {
     "data": {
      "text/html": [
       "<pre style=\"white-space:pre;overflow-x:auto;line-height:normal;font-family:Menlo,'DejaVu Sans Mono',consolas,'Courier New',monospace\"><span style=\"color: #7fbfbf; text-decoration-color: #7fbfbf\">[12:03:39] </span>Expecting value: line <span style=\"color: #008080; text-decoration-color: #008080; font-weight: bold\">1</span> column <span style=\"color: #008080; text-decoration-color: #008080; font-weight: bold\">1</span> <span style=\"font-weight: bold\">(</span>char <span style=\"color: #008080; text-decoration-color: #008080; font-weight: bold\">0</span><span style=\"font-weight: bold\">)</span>                                                  <a href=\"file:///Users/altmanmarx/anaconda3/envs/ee559/lib/python3.11/site-packages/eodhd/APIs/BaseAPI.py\" target=\"_blank\"><span style=\"color: #7f7f7f; text-decoration-color: #7f7f7f\">BaseAPI.py</span></a><span style=\"color: #7f7f7f; text-decoration-color: #7f7f7f\">:</span><a href=\"file:///Users/altmanmarx/anaconda3/envs/ee559/lib/python3.11/site-packages/eodhd/APIs/BaseAPI.py#39\" target=\"_blank\"><span style=\"color: #7f7f7f; text-decoration-color: #7f7f7f\">39</span></a>\n",
       "</pre>\n"
      ],
      "text/plain": [
       "\u001b[2;36m[12:03:39]\u001b[0m\u001b[2;36m \u001b[0mExpecting value: line \u001b[1;36m1\u001b[0m column \u001b[1;36m1\u001b[0m \u001b[1m(\u001b[0mchar \u001b[1;36m0\u001b[0m\u001b[1m)\u001b[0m                                                  \u001b]8;id=523332;file:///Users/altmanmarx/anaconda3/envs/ee559/lib/python3.11/site-packages/eodhd/APIs/BaseAPI.py\u001b\\\u001b[2mBaseAPI.py\u001b[0m\u001b]8;;\u001b\\\u001b[2m:\u001b[0m\u001b]8;id=12639;file:///Users/altmanmarx/anaconda3/envs/ee559/lib/python3.11/site-packages/eodhd/APIs/BaseAPI.py#39\u001b\\\u001b[2m39\u001b[0m\u001b]8;;\u001b\\\n"
      ]
     },
     "metadata": {},
     "output_type": "display_data"
    },
    {
     "data": {
      "text/html": [
       "<pre style=\"white-space:pre;overflow-x:auto;line-height:normal;font-family:Menlo,'DejaVu Sans Mono',consolas,'Courier New',monospace\"><span style=\"color: #7fbfbf; text-decoration-color: #7fbfbf\">           </span><span style=\"color: #008080; text-decoration-color: #008080; font-weight: bold\">404</span> Client Error: Not Found for url:                                                       <a href=\"file:///Users/altmanmarx/anaconda3/envs/ee559/lib/python3.11/site-packages/eodhd/APIs/BaseAPI.py\" target=\"_blank\"><span style=\"color: #7f7f7f; text-decoration-color: #7f7f7f\">BaseAPI.py</span></a><span style=\"color: #7f7f7f; text-decoration-color: #7f7f7f\">:</span><a href=\"file:///Users/altmanmarx/anaconda3/envs/ee559/lib/python3.11/site-packages/eodhd/APIs/BaseAPI.py#52\" target=\"_blank\"><span style=\"color: #7f7f7f; text-decoration-color: #7f7f7f\">52</span></a>\n",
       "<span style=\"color: #7fbfbf; text-decoration-color: #7fbfbf\">           </span><span style=\"color: #0000ff; text-decoration-color: #0000ff; text-decoration: underline\">https://eodhd.com/api/fundamentals/000672?api_token=5cb671b0b4a790.35526238&amp;fmt=json</span>       <span style=\"color: #7f7f7f; text-decoration-color: #7f7f7f\">             </span>\n",
       "</pre>\n"
      ],
      "text/plain": [
       "\u001b[2;36m          \u001b[0m\u001b[2;36m \u001b[0m\u001b[1;36m404\u001b[0m Client Error: Not Found for url:                                                       \u001b]8;id=887041;file:///Users/altmanmarx/anaconda3/envs/ee559/lib/python3.11/site-packages/eodhd/APIs/BaseAPI.py\u001b\\\u001b[2mBaseAPI.py\u001b[0m\u001b]8;;\u001b\\\u001b[2m:\u001b[0m\u001b]8;id=8085;file:///Users/altmanmarx/anaconda3/envs/ee559/lib/python3.11/site-packages/eodhd/APIs/BaseAPI.py#52\u001b\\\u001b[2m52\u001b[0m\u001b]8;;\u001b\\\n",
       "\u001b[2;36m           \u001b[0m\u001b[4;94mhttps://eodhd.com/api/fundamentals/000672?\u001b[0m\u001b[4;94mapi_token\u001b[0m\u001b[4;94m=\u001b[0m\u001b[4;94m5cb671b0b4a790\u001b[0m\u001b[4;94m.35526238&\u001b[0m\u001b[4;94mfmt\u001b[0m\u001b[4;94m=\u001b[0m\u001b[4;94mjson\u001b[0m       \u001b[2m             \u001b[0m\n"
      ]
     },
     "metadata": {},
     "output_type": "display_data"
    },
    {
     "name": "stdout",
     "output_type": "stream",
     "text": [
      "000672\n"
     ]
    },
    {
     "data": {
      "text/html": [
       "<pre style=\"white-space:pre;overflow-x:auto;line-height:normal;font-family:Menlo,'DejaVu Sans Mono',consolas,'Courier New',monospace\"><span style=\"color: #7fbfbf; text-decoration-color: #7fbfbf\">[12:03:39] </span>Expecting value: line <span style=\"color: #008080; text-decoration-color: #008080; font-weight: bold\">1</span> column <span style=\"color: #008080; text-decoration-color: #008080; font-weight: bold\">1</span> <span style=\"font-weight: bold\">(</span>char <span style=\"color: #008080; text-decoration-color: #008080; font-weight: bold\">0</span><span style=\"font-weight: bold\">)</span>                                                  <a href=\"file:///Users/altmanmarx/anaconda3/envs/ee559/lib/python3.11/site-packages/eodhd/APIs/BaseAPI.py\" target=\"_blank\"><span style=\"color: #7f7f7f; text-decoration-color: #7f7f7f\">BaseAPI.py</span></a><span style=\"color: #7f7f7f; text-decoration-color: #7f7f7f\">:</span><a href=\"file:///Users/altmanmarx/anaconda3/envs/ee559/lib/python3.11/site-packages/eodhd/APIs/BaseAPI.py#39\" target=\"_blank\"><span style=\"color: #7f7f7f; text-decoration-color: #7f7f7f\">39</span></a>\n",
       "</pre>\n"
      ],
      "text/plain": [
       "\u001b[2;36m[12:03:39]\u001b[0m\u001b[2;36m \u001b[0mExpecting value: line \u001b[1;36m1\u001b[0m column \u001b[1;36m1\u001b[0m \u001b[1m(\u001b[0mchar \u001b[1;36m0\u001b[0m\u001b[1m)\u001b[0m                                                  \u001b]8;id=57998;file:///Users/altmanmarx/anaconda3/envs/ee559/lib/python3.11/site-packages/eodhd/APIs/BaseAPI.py\u001b\\\u001b[2mBaseAPI.py\u001b[0m\u001b]8;;\u001b\\\u001b[2m:\u001b[0m\u001b]8;id=268898;file:///Users/altmanmarx/anaconda3/envs/ee559/lib/python3.11/site-packages/eodhd/APIs/BaseAPI.py#39\u001b\\\u001b[2m39\u001b[0m\u001b]8;;\u001b\\\n"
      ]
     },
     "metadata": {},
     "output_type": "display_data"
    },
    {
     "data": {
      "text/html": [
       "<pre style=\"white-space:pre;overflow-x:auto;line-height:normal;font-family:Menlo,'DejaVu Sans Mono',consolas,'Courier New',monospace\"><span style=\"color: #7fbfbf; text-decoration-color: #7fbfbf\">           </span><span style=\"color: #008080; text-decoration-color: #008080; font-weight: bold\">404</span> Client Error: Not Found for url:                                                       <a href=\"file:///Users/altmanmarx/anaconda3/envs/ee559/lib/python3.11/site-packages/eodhd/APIs/BaseAPI.py\" target=\"_blank\"><span style=\"color: #7f7f7f; text-decoration-color: #7f7f7f\">BaseAPI.py</span></a><span style=\"color: #7f7f7f; text-decoration-color: #7f7f7f\">:</span><a href=\"file:///Users/altmanmarx/anaconda3/envs/ee559/lib/python3.11/site-packages/eodhd/APIs/BaseAPI.py#52\" target=\"_blank\"><span style=\"color: #7f7f7f; text-decoration-color: #7f7f7f\">52</span></a>\n",
       "<span style=\"color: #7fbfbf; text-decoration-color: #7fbfbf\">           </span><span style=\"color: #0000ff; text-decoration-color: #0000ff; text-decoration: underline\">https://eodhd.com/api/fundamentals/600255?api_token=5cb671b0b4a790.35526238&amp;fmt=json</span>       <span style=\"color: #7f7f7f; text-decoration-color: #7f7f7f\">             </span>\n",
       "</pre>\n"
      ],
      "text/plain": [
       "\u001b[2;36m          \u001b[0m\u001b[2;36m \u001b[0m\u001b[1;36m404\u001b[0m Client Error: Not Found for url:                                                       \u001b]8;id=483375;file:///Users/altmanmarx/anaconda3/envs/ee559/lib/python3.11/site-packages/eodhd/APIs/BaseAPI.py\u001b\\\u001b[2mBaseAPI.py\u001b[0m\u001b]8;;\u001b\\\u001b[2m:\u001b[0m\u001b]8;id=105146;file:///Users/altmanmarx/anaconda3/envs/ee559/lib/python3.11/site-packages/eodhd/APIs/BaseAPI.py#52\u001b\\\u001b[2m52\u001b[0m\u001b]8;;\u001b\\\n",
       "\u001b[2;36m           \u001b[0m\u001b[4;94mhttps://eodhd.com/api/fundamentals/600255?\u001b[0m\u001b[4;94mapi_token\u001b[0m\u001b[4;94m=\u001b[0m\u001b[4;94m5cb671b0b4a790\u001b[0m\u001b[4;94m.35526238&\u001b[0m\u001b[4;94mfmt\u001b[0m\u001b[4;94m=\u001b[0m\u001b[4;94mjson\u001b[0m       \u001b[2m             \u001b[0m\n"
      ]
     },
     "metadata": {},
     "output_type": "display_data"
    },
    {
     "name": "stdout",
     "output_type": "stream",
     "text": [
      "600255\n",
      "HLBZF\n",
      "SCHD\n"
     ]
    },
    {
     "data": {
      "text/html": [
       "<pre style=\"white-space:pre;overflow-x:auto;line-height:normal;font-family:Menlo,'DejaVu Sans Mono',consolas,'Courier New',monospace\"><span style=\"color: #7fbfbf; text-decoration-color: #7fbfbf\">[12:03:40] </span>Expecting value: line <span style=\"color: #008080; text-decoration-color: #008080; font-weight: bold\">1</span> column <span style=\"color: #008080; text-decoration-color: #008080; font-weight: bold\">1</span> <span style=\"font-weight: bold\">(</span>char <span style=\"color: #008080; text-decoration-color: #008080; font-weight: bold\">0</span><span style=\"font-weight: bold\">)</span>                                                  <a href=\"file:///Users/altmanmarx/anaconda3/envs/ee559/lib/python3.11/site-packages/eodhd/APIs/BaseAPI.py\" target=\"_blank\"><span style=\"color: #7f7f7f; text-decoration-color: #7f7f7f\">BaseAPI.py</span></a><span style=\"color: #7f7f7f; text-decoration-color: #7f7f7f\">:</span><a href=\"file:///Users/altmanmarx/anaconda3/envs/ee559/lib/python3.11/site-packages/eodhd/APIs/BaseAPI.py#39\" target=\"_blank\"><span style=\"color: #7f7f7f; text-decoration-color: #7f7f7f\">39</span></a>\n",
       "</pre>\n"
      ],
      "text/plain": [
       "\u001b[2;36m[12:03:40]\u001b[0m\u001b[2;36m \u001b[0mExpecting value: line \u001b[1;36m1\u001b[0m column \u001b[1;36m1\u001b[0m \u001b[1m(\u001b[0mchar \u001b[1;36m0\u001b[0m\u001b[1m)\u001b[0m                                                  \u001b]8;id=284724;file:///Users/altmanmarx/anaconda3/envs/ee559/lib/python3.11/site-packages/eodhd/APIs/BaseAPI.py\u001b\\\u001b[2mBaseAPI.py\u001b[0m\u001b]8;;\u001b\\\u001b[2m:\u001b[0m\u001b]8;id=338893;file:///Users/altmanmarx/anaconda3/envs/ee559/lib/python3.11/site-packages/eodhd/APIs/BaseAPI.py#39\u001b\\\u001b[2m39\u001b[0m\u001b]8;;\u001b\\\n"
      ]
     },
     "metadata": {},
     "output_type": "display_data"
    },
    {
     "data": {
      "text/html": [
       "<pre style=\"white-space:pre;overflow-x:auto;line-height:normal;font-family:Menlo,'DejaVu Sans Mono',consolas,'Courier New',monospace\"><span style=\"color: #7fbfbf; text-decoration-color: #7fbfbf\">           </span><span style=\"color: #008080; text-decoration-color: #008080; font-weight: bold\">404</span> Client Error: Not Found for url:                                                       <a href=\"file:///Users/altmanmarx/anaconda3/envs/ee559/lib/python3.11/site-packages/eodhd/APIs/BaseAPI.py\" target=\"_blank\"><span style=\"color: #7f7f7f; text-decoration-color: #7f7f7f\">BaseAPI.py</span></a><span style=\"color: #7f7f7f; text-decoration-color: #7f7f7f\">:</span><a href=\"file:///Users/altmanmarx/anaconda3/envs/ee559/lib/python3.11/site-packages/eodhd/APIs/BaseAPI.py#52\" target=\"_blank\"><span style=\"color: #7f7f7f; text-decoration-color: #7f7f7f\">52</span></a>\n",
       "<span style=\"color: #7fbfbf; text-decoration-color: #7fbfbf\">           </span><span style=\"color: #0000ff; text-decoration-color: #0000ff; text-decoration: underline\">https://eodhd.com/api/fundamentals/900918?api_token=5cb671b0b4a790.35526238&amp;fmt=json</span>       <span style=\"color: #7f7f7f; text-decoration-color: #7f7f7f\">             </span>\n",
       "</pre>\n"
      ],
      "text/plain": [
       "\u001b[2;36m          \u001b[0m\u001b[2;36m \u001b[0m\u001b[1;36m404\u001b[0m Client Error: Not Found for url:                                                       \u001b]8;id=610579;file:///Users/altmanmarx/anaconda3/envs/ee559/lib/python3.11/site-packages/eodhd/APIs/BaseAPI.py\u001b\\\u001b[2mBaseAPI.py\u001b[0m\u001b]8;;\u001b\\\u001b[2m:\u001b[0m\u001b]8;id=660127;file:///Users/altmanmarx/anaconda3/envs/ee559/lib/python3.11/site-packages/eodhd/APIs/BaseAPI.py#52\u001b\\\u001b[2m52\u001b[0m\u001b]8;;\u001b\\\n",
       "\u001b[2;36m           \u001b[0m\u001b[4;94mhttps://eodhd.com/api/fundamentals/900918?\u001b[0m\u001b[4;94mapi_token\u001b[0m\u001b[4;94m=\u001b[0m\u001b[4;94m5cb671b0b4a790\u001b[0m\u001b[4;94m.35526238&\u001b[0m\u001b[4;94mfmt\u001b[0m\u001b[4;94m=\u001b[0m\u001b[4;94mjson\u001b[0m       \u001b[2m             \u001b[0m\n"
      ]
     },
     "metadata": {},
     "output_type": "display_data"
    },
    {
     "name": "stdout",
     "output_type": "stream",
     "text": [
      "900918\n"
     ]
    },
    {
     "data": {
      "text/html": [
       "<pre style=\"white-space:pre;overflow-x:auto;line-height:normal;font-family:Menlo,'DejaVu Sans Mono',consolas,'Courier New',monospace\"><span style=\"color: #7fbfbf; text-decoration-color: #7fbfbf\">[12:03:40] </span>Expecting value: line <span style=\"color: #008080; text-decoration-color: #008080; font-weight: bold\">1</span> column <span style=\"color: #008080; text-decoration-color: #008080; font-weight: bold\">1</span> <span style=\"font-weight: bold\">(</span>char <span style=\"color: #008080; text-decoration-color: #008080; font-weight: bold\">0</span><span style=\"font-weight: bold\">)</span>                                                  <a href=\"file:///Users/altmanmarx/anaconda3/envs/ee559/lib/python3.11/site-packages/eodhd/APIs/BaseAPI.py\" target=\"_blank\"><span style=\"color: #7f7f7f; text-decoration-color: #7f7f7f\">BaseAPI.py</span></a><span style=\"color: #7f7f7f; text-decoration-color: #7f7f7f\">:</span><a href=\"file:///Users/altmanmarx/anaconda3/envs/ee559/lib/python3.11/site-packages/eodhd/APIs/BaseAPI.py#39\" target=\"_blank\"><span style=\"color: #7f7f7f; text-decoration-color: #7f7f7f\">39</span></a>\n",
       "</pre>\n"
      ],
      "text/plain": [
       "\u001b[2;36m[12:03:40]\u001b[0m\u001b[2;36m \u001b[0mExpecting value: line \u001b[1;36m1\u001b[0m column \u001b[1;36m1\u001b[0m \u001b[1m(\u001b[0mchar \u001b[1;36m0\u001b[0m\u001b[1m)\u001b[0m                                                  \u001b]8;id=329376;file:///Users/altmanmarx/anaconda3/envs/ee559/lib/python3.11/site-packages/eodhd/APIs/BaseAPI.py\u001b\\\u001b[2mBaseAPI.py\u001b[0m\u001b]8;;\u001b\\\u001b[2m:\u001b[0m\u001b]8;id=348726;file:///Users/altmanmarx/anaconda3/envs/ee559/lib/python3.11/site-packages/eodhd/APIs/BaseAPI.py#39\u001b\\\u001b[2m39\u001b[0m\u001b]8;;\u001b\\\n"
      ]
     },
     "metadata": {},
     "output_type": "display_data"
    },
    {
     "data": {
      "text/html": [
       "<pre style=\"white-space:pre;overflow-x:auto;line-height:normal;font-family:Menlo,'DejaVu Sans Mono',consolas,'Courier New',monospace\"><span style=\"color: #7fbfbf; text-decoration-color: #7fbfbf\">           </span><span style=\"color: #008080; text-decoration-color: #008080; font-weight: bold\">404</span> Client Error: Not Found for url:                                                       <a href=\"file:///Users/altmanmarx/anaconda3/envs/ee559/lib/python3.11/site-packages/eodhd/APIs/BaseAPI.py\" target=\"_blank\"><span style=\"color: #7f7f7f; text-decoration-color: #7f7f7f\">BaseAPI.py</span></a><span style=\"color: #7f7f7f; text-decoration-color: #7f7f7f\">:</span><a href=\"file:///Users/altmanmarx/anaconda3/envs/ee559/lib/python3.11/site-packages/eodhd/APIs/BaseAPI.py#52\" target=\"_blank\"><span style=\"color: #7f7f7f; text-decoration-color: #7f7f7f\">52</span></a>\n",
       "<span style=\"color: #7fbfbf; text-decoration-color: #7fbfbf\">           </span><span style=\"color: #0000ff; text-decoration-color: #0000ff; text-decoration: underline\">https://eodhd.com/api/fundamentals/002521?api_token=5cb671b0b4a790.35526238&amp;fmt=json</span>       <span style=\"color: #7f7f7f; text-decoration-color: #7f7f7f\">             </span>\n",
       "</pre>\n"
      ],
      "text/plain": [
       "\u001b[2;36m          \u001b[0m\u001b[2;36m \u001b[0m\u001b[1;36m404\u001b[0m Client Error: Not Found for url:                                                       \u001b]8;id=764004;file:///Users/altmanmarx/anaconda3/envs/ee559/lib/python3.11/site-packages/eodhd/APIs/BaseAPI.py\u001b\\\u001b[2mBaseAPI.py\u001b[0m\u001b]8;;\u001b\\\u001b[2m:\u001b[0m\u001b]8;id=643285;file:///Users/altmanmarx/anaconda3/envs/ee559/lib/python3.11/site-packages/eodhd/APIs/BaseAPI.py#52\u001b\\\u001b[2m52\u001b[0m\u001b]8;;\u001b\\\n",
       "\u001b[2;36m           \u001b[0m\u001b[4;94mhttps://eodhd.com/api/fundamentals/002521?\u001b[0m\u001b[4;94mapi_token\u001b[0m\u001b[4;94m=\u001b[0m\u001b[4;94m5cb671b0b4a790\u001b[0m\u001b[4;94m.35526238&\u001b[0m\u001b[4;94mfmt\u001b[0m\u001b[4;94m=\u001b[0m\u001b[4;94mjson\u001b[0m       \u001b[2m             \u001b[0m\n"
      ]
     },
     "metadata": {},
     "output_type": "display_data"
    },
    {
     "name": "stdout",
     "output_type": "stream",
     "text": [
      "002521\n",
      "PSGTF\n"
     ]
    },
    {
     "data": {
      "text/html": [
       "<pre style=\"white-space:pre;overflow-x:auto;line-height:normal;font-family:Menlo,'DejaVu Sans Mono',consolas,'Courier New',monospace\"><span style=\"color: #7fbfbf; text-decoration-color: #7fbfbf\">[12:03:41] </span>Expecting value: line <span style=\"color: #008080; text-decoration-color: #008080; font-weight: bold\">1</span> column <span style=\"color: #008080; text-decoration-color: #008080; font-weight: bold\">1</span> <span style=\"font-weight: bold\">(</span>char <span style=\"color: #008080; text-decoration-color: #008080; font-weight: bold\">0</span><span style=\"font-weight: bold\">)</span>                                                  <a href=\"file:///Users/altmanmarx/anaconda3/envs/ee559/lib/python3.11/site-packages/eodhd/APIs/BaseAPI.py\" target=\"_blank\"><span style=\"color: #7f7f7f; text-decoration-color: #7f7f7f\">BaseAPI.py</span></a><span style=\"color: #7f7f7f; text-decoration-color: #7f7f7f\">:</span><a href=\"file:///Users/altmanmarx/anaconda3/envs/ee559/lib/python3.11/site-packages/eodhd/APIs/BaseAPI.py#39\" target=\"_blank\"><span style=\"color: #7f7f7f; text-decoration-color: #7f7f7f\">39</span></a>\n",
       "</pre>\n"
      ],
      "text/plain": [
       "\u001b[2;36m[12:03:41]\u001b[0m\u001b[2;36m \u001b[0mExpecting value: line \u001b[1;36m1\u001b[0m column \u001b[1;36m1\u001b[0m \u001b[1m(\u001b[0mchar \u001b[1;36m0\u001b[0m\u001b[1m)\u001b[0m                                                  \u001b]8;id=824842;file:///Users/altmanmarx/anaconda3/envs/ee559/lib/python3.11/site-packages/eodhd/APIs/BaseAPI.py\u001b\\\u001b[2mBaseAPI.py\u001b[0m\u001b]8;;\u001b\\\u001b[2m:\u001b[0m\u001b]8;id=809914;file:///Users/altmanmarx/anaconda3/envs/ee559/lib/python3.11/site-packages/eodhd/APIs/BaseAPI.py#39\u001b\\\u001b[2m39\u001b[0m\u001b]8;;\u001b\\\n"
      ]
     },
     "metadata": {},
     "output_type": "display_data"
    },
    {
     "data": {
      "text/html": [
       "<pre style=\"white-space:pre;overflow-x:auto;line-height:normal;font-family:Menlo,'DejaVu Sans Mono',consolas,'Courier New',monospace\"><span style=\"color: #7fbfbf; text-decoration-color: #7fbfbf\">           </span><span style=\"color: #008080; text-decoration-color: #008080; font-weight: bold\">404</span> Client Error: Not Found for url:                                                       <a href=\"file:///Users/altmanmarx/anaconda3/envs/ee559/lib/python3.11/site-packages/eodhd/APIs/BaseAPI.py\" target=\"_blank\"><span style=\"color: #7f7f7f; text-decoration-color: #7f7f7f\">BaseAPI.py</span></a><span style=\"color: #7f7f7f; text-decoration-color: #7f7f7f\">:</span><a href=\"file:///Users/altmanmarx/anaconda3/envs/ee559/lib/python3.11/site-packages/eodhd/APIs/BaseAPI.py#52\" target=\"_blank\"><span style=\"color: #7f7f7f; text-decoration-color: #7f7f7f\">52</span></a>\n",
       "<span style=\"color: #7fbfbf; text-decoration-color: #7fbfbf\">           </span><span style=\"color: #0000ff; text-decoration-color: #0000ff; text-decoration: underline\">https://eodhd.com/api/fundamentals/300196?api_token=5cb671b0b4a790.35526238&amp;fmt=json</span>       <span style=\"color: #7f7f7f; text-decoration-color: #7f7f7f\">             </span>\n",
       "</pre>\n"
      ],
      "text/plain": [
       "\u001b[2;36m          \u001b[0m\u001b[2;36m \u001b[0m\u001b[1;36m404\u001b[0m Client Error: Not Found for url:                                                       \u001b]8;id=877336;file:///Users/altmanmarx/anaconda3/envs/ee559/lib/python3.11/site-packages/eodhd/APIs/BaseAPI.py\u001b\\\u001b[2mBaseAPI.py\u001b[0m\u001b]8;;\u001b\\\u001b[2m:\u001b[0m\u001b]8;id=730766;file:///Users/altmanmarx/anaconda3/envs/ee559/lib/python3.11/site-packages/eodhd/APIs/BaseAPI.py#52\u001b\\\u001b[2m52\u001b[0m\u001b]8;;\u001b\\\n",
       "\u001b[2;36m           \u001b[0m\u001b[4;94mhttps://eodhd.com/api/fundamentals/300196?\u001b[0m\u001b[4;94mapi_token\u001b[0m\u001b[4;94m=\u001b[0m\u001b[4;94m5cb671b0b4a790\u001b[0m\u001b[4;94m.35526238&\u001b[0m\u001b[4;94mfmt\u001b[0m\u001b[4;94m=\u001b[0m\u001b[4;94mjson\u001b[0m       \u001b[2m             \u001b[0m\n"
      ]
     },
     "metadata": {},
     "output_type": "display_data"
    },
    {
     "name": "stdout",
     "output_type": "stream",
     "text": [
      "300196\n"
     ]
    },
    {
     "data": {
      "text/html": [
       "<pre style=\"white-space:pre;overflow-x:auto;line-height:normal;font-family:Menlo,'DejaVu Sans Mono',consolas,'Courier New',monospace\"><span style=\"color: #7fbfbf; text-decoration-color: #7fbfbf\">[12:03:41] </span>Expecting value: line <span style=\"color: #008080; text-decoration-color: #008080; font-weight: bold\">1</span> column <span style=\"color: #008080; text-decoration-color: #008080; font-weight: bold\">1</span> <span style=\"font-weight: bold\">(</span>char <span style=\"color: #008080; text-decoration-color: #008080; font-weight: bold\">0</span><span style=\"font-weight: bold\">)</span>                                                  <a href=\"file:///Users/altmanmarx/anaconda3/envs/ee559/lib/python3.11/site-packages/eodhd/APIs/BaseAPI.py\" target=\"_blank\"><span style=\"color: #7f7f7f; text-decoration-color: #7f7f7f\">BaseAPI.py</span></a><span style=\"color: #7f7f7f; text-decoration-color: #7f7f7f\">:</span><a href=\"file:///Users/altmanmarx/anaconda3/envs/ee559/lib/python3.11/site-packages/eodhd/APIs/BaseAPI.py#39\" target=\"_blank\"><span style=\"color: #7f7f7f; text-decoration-color: #7f7f7f\">39</span></a>\n",
       "</pre>\n"
      ],
      "text/plain": [
       "\u001b[2;36m[12:03:41]\u001b[0m\u001b[2;36m \u001b[0mExpecting value: line \u001b[1;36m1\u001b[0m column \u001b[1;36m1\u001b[0m \u001b[1m(\u001b[0mchar \u001b[1;36m0\u001b[0m\u001b[1m)\u001b[0m                                                  \u001b]8;id=946238;file:///Users/altmanmarx/anaconda3/envs/ee559/lib/python3.11/site-packages/eodhd/APIs/BaseAPI.py\u001b\\\u001b[2mBaseAPI.py\u001b[0m\u001b]8;;\u001b\\\u001b[2m:\u001b[0m\u001b]8;id=688722;file:///Users/altmanmarx/anaconda3/envs/ee559/lib/python3.11/site-packages/eodhd/APIs/BaseAPI.py#39\u001b\\\u001b[2m39\u001b[0m\u001b]8;;\u001b\\\n"
      ]
     },
     "metadata": {},
     "output_type": "display_data"
    },
    {
     "data": {
      "text/html": [
       "<pre style=\"white-space:pre;overflow-x:auto;line-height:normal;font-family:Menlo,'DejaVu Sans Mono',consolas,'Courier New',monospace\"><span style=\"color: #7fbfbf; text-decoration-color: #7fbfbf\">           </span><span style=\"color: #008080; text-decoration-color: #008080; font-weight: bold\">404</span> Client Error: Not Found for url:                                                       <a href=\"file:///Users/altmanmarx/anaconda3/envs/ee559/lib/python3.11/site-packages/eodhd/APIs/BaseAPI.py\" target=\"_blank\"><span style=\"color: #7f7f7f; text-decoration-color: #7f7f7f\">BaseAPI.py</span></a><span style=\"color: #7f7f7f; text-decoration-color: #7f7f7f\">:</span><a href=\"file:///Users/altmanmarx/anaconda3/envs/ee559/lib/python3.11/site-packages/eodhd/APIs/BaseAPI.py#52\" target=\"_blank\"><span style=\"color: #7f7f7f; text-decoration-color: #7f7f7f\">52</span></a>\n",
       "<span style=\"color: #7fbfbf; text-decoration-color: #7fbfbf\">           </span><span style=\"color: #0000ff; text-decoration-color: #0000ff; text-decoration: underline\">https://eodhd.com/api/fundamentals/WFG1?api_token=5cb671b0b4a790.35526238&amp;fmt=json</span>         <span style=\"color: #7f7f7f; text-decoration-color: #7f7f7f\">             </span>\n",
       "</pre>\n"
      ],
      "text/plain": [
       "\u001b[2;36m          \u001b[0m\u001b[2;36m \u001b[0m\u001b[1;36m404\u001b[0m Client Error: Not Found for url:                                                       \u001b]8;id=469501;file:///Users/altmanmarx/anaconda3/envs/ee559/lib/python3.11/site-packages/eodhd/APIs/BaseAPI.py\u001b\\\u001b[2mBaseAPI.py\u001b[0m\u001b]8;;\u001b\\\u001b[2m:\u001b[0m\u001b]8;id=125610;file:///Users/altmanmarx/anaconda3/envs/ee559/lib/python3.11/site-packages/eodhd/APIs/BaseAPI.py#52\u001b\\\u001b[2m52\u001b[0m\u001b]8;;\u001b\\\n",
       "\u001b[2;36m           \u001b[0m\u001b[4;94mhttps://eodhd.com/api/fundamentals/WFG1?\u001b[0m\u001b[4;94mapi_token\u001b[0m\u001b[4;94m=\u001b[0m\u001b[4;94m5cb671b0b4a790\u001b[0m\u001b[4;94m.35526238&\u001b[0m\u001b[4;94mfmt\u001b[0m\u001b[4;94m=\u001b[0m\u001b[4;94mjson\u001b[0m         \u001b[2m             \u001b[0m\n"
      ]
     },
     "metadata": {},
     "output_type": "display_data"
    },
    {
     "name": "stdout",
     "output_type": "stream",
     "text": [
      "WFG1\n",
      "MPO\n",
      "ADBCF\n"
     ]
    },
    {
     "data": {
      "text/html": [
       "<pre style=\"white-space:pre;overflow-x:auto;line-height:normal;font-family:Menlo,'DejaVu Sans Mono',consolas,'Courier New',monospace\"><span style=\"color: #7fbfbf; text-decoration-color: #7fbfbf\">[12:03:42] </span>Expecting value: line <span style=\"color: #008080; text-decoration-color: #008080; font-weight: bold\">1</span> column <span style=\"color: #008080; text-decoration-color: #008080; font-weight: bold\">1</span> <span style=\"font-weight: bold\">(</span>char <span style=\"color: #008080; text-decoration-color: #008080; font-weight: bold\">0</span><span style=\"font-weight: bold\">)</span>                                                  <a href=\"file:///Users/altmanmarx/anaconda3/envs/ee559/lib/python3.11/site-packages/eodhd/APIs/BaseAPI.py\" target=\"_blank\"><span style=\"color: #7f7f7f; text-decoration-color: #7f7f7f\">BaseAPI.py</span></a><span style=\"color: #7f7f7f; text-decoration-color: #7f7f7f\">:</span><a href=\"file:///Users/altmanmarx/anaconda3/envs/ee559/lib/python3.11/site-packages/eodhd/APIs/BaseAPI.py#39\" target=\"_blank\"><span style=\"color: #7f7f7f; text-decoration-color: #7f7f7f\">39</span></a>\n",
       "</pre>\n"
      ],
      "text/plain": [
       "\u001b[2;36m[12:03:42]\u001b[0m\u001b[2;36m \u001b[0mExpecting value: line \u001b[1;36m1\u001b[0m column \u001b[1;36m1\u001b[0m \u001b[1m(\u001b[0mchar \u001b[1;36m0\u001b[0m\u001b[1m)\u001b[0m                                                  \u001b]8;id=953535;file:///Users/altmanmarx/anaconda3/envs/ee559/lib/python3.11/site-packages/eodhd/APIs/BaseAPI.py\u001b\\\u001b[2mBaseAPI.py\u001b[0m\u001b]8;;\u001b\\\u001b[2m:\u001b[0m\u001b]8;id=482096;file:///Users/altmanmarx/anaconda3/envs/ee559/lib/python3.11/site-packages/eodhd/APIs/BaseAPI.py#39\u001b\\\u001b[2m39\u001b[0m\u001b]8;;\u001b\\\n"
      ]
     },
     "metadata": {},
     "output_type": "display_data"
    },
    {
     "data": {
      "text/html": [
       "<pre style=\"white-space:pre;overflow-x:auto;line-height:normal;font-family:Menlo,'DejaVu Sans Mono',consolas,'Courier New',monospace\"><span style=\"color: #7fbfbf; text-decoration-color: #7fbfbf\">           </span><span style=\"color: #008080; text-decoration-color: #008080; font-weight: bold\">404</span> Client Error: Not Found for url:                                                       <a href=\"file:///Users/altmanmarx/anaconda3/envs/ee559/lib/python3.11/site-packages/eodhd/APIs/BaseAPI.py\" target=\"_blank\"><span style=\"color: #7f7f7f; text-decoration-color: #7f7f7f\">BaseAPI.py</span></a><span style=\"color: #7f7f7f; text-decoration-color: #7f7f7f\">:</span><a href=\"file:///Users/altmanmarx/anaconda3/envs/ee559/lib/python3.11/site-packages/eodhd/APIs/BaseAPI.py#52\" target=\"_blank\"><span style=\"color: #7f7f7f; text-decoration-color: #7f7f7f\">52</span></a>\n",
       "<span style=\"color: #7fbfbf; text-decoration-color: #7fbfbf\">           </span><span style=\"color: #0000ff; text-decoration-color: #0000ff; text-decoration: underline\">https://eodhd.com/api/fundamentals/1717?api_token=5cb671b0b4a790.35526238&amp;fmt=json</span>         <span style=\"color: #7f7f7f; text-decoration-color: #7f7f7f\">             </span>\n",
       "</pre>\n"
      ],
      "text/plain": [
       "\u001b[2;36m          \u001b[0m\u001b[2;36m \u001b[0m\u001b[1;36m404\u001b[0m Client Error: Not Found for url:                                                       \u001b]8;id=269822;file:///Users/altmanmarx/anaconda3/envs/ee559/lib/python3.11/site-packages/eodhd/APIs/BaseAPI.py\u001b\\\u001b[2mBaseAPI.py\u001b[0m\u001b]8;;\u001b\\\u001b[2m:\u001b[0m\u001b]8;id=934056;file:///Users/altmanmarx/anaconda3/envs/ee559/lib/python3.11/site-packages/eodhd/APIs/BaseAPI.py#52\u001b\\\u001b[2m52\u001b[0m\u001b]8;;\u001b\\\n",
       "\u001b[2;36m           \u001b[0m\u001b[4;94mhttps://eodhd.com/api/fundamentals/1717?\u001b[0m\u001b[4;94mapi_token\u001b[0m\u001b[4;94m=\u001b[0m\u001b[4;94m5cb671b0b4a790\u001b[0m\u001b[4;94m.35526238&\u001b[0m\u001b[4;94mfmt\u001b[0m\u001b[4;94m=\u001b[0m\u001b[4;94mjson\u001b[0m         \u001b[2m             \u001b[0m\n"
      ]
     },
     "metadata": {},
     "output_type": "display_data"
    },
    {
     "name": "stdout",
     "output_type": "stream",
     "text": [
      "1717\n"
     ]
    },
    {
     "data": {
      "text/html": [
       "<pre style=\"white-space:pre;overflow-x:auto;line-height:normal;font-family:Menlo,'DejaVu Sans Mono',consolas,'Courier New',monospace\"><span style=\"color: #7fbfbf; text-decoration-color: #7fbfbf\">[12:03:42] </span>Expecting value: line <span style=\"color: #008080; text-decoration-color: #008080; font-weight: bold\">1</span> column <span style=\"color: #008080; text-decoration-color: #008080; font-weight: bold\">1</span> <span style=\"font-weight: bold\">(</span>char <span style=\"color: #008080; text-decoration-color: #008080; font-weight: bold\">0</span><span style=\"font-weight: bold\">)</span>                                                  <a href=\"file:///Users/altmanmarx/anaconda3/envs/ee559/lib/python3.11/site-packages/eodhd/APIs/BaseAPI.py\" target=\"_blank\"><span style=\"color: #7f7f7f; text-decoration-color: #7f7f7f\">BaseAPI.py</span></a><span style=\"color: #7f7f7f; text-decoration-color: #7f7f7f\">:</span><a href=\"file:///Users/altmanmarx/anaconda3/envs/ee559/lib/python3.11/site-packages/eodhd/APIs/BaseAPI.py#39\" target=\"_blank\"><span style=\"color: #7f7f7f; text-decoration-color: #7f7f7f\">39</span></a>\n",
       "</pre>\n"
      ],
      "text/plain": [
       "\u001b[2;36m[12:03:42]\u001b[0m\u001b[2;36m \u001b[0mExpecting value: line \u001b[1;36m1\u001b[0m column \u001b[1;36m1\u001b[0m \u001b[1m(\u001b[0mchar \u001b[1;36m0\u001b[0m\u001b[1m)\u001b[0m                                                  \u001b]8;id=245157;file:///Users/altmanmarx/anaconda3/envs/ee559/lib/python3.11/site-packages/eodhd/APIs/BaseAPI.py\u001b\\\u001b[2mBaseAPI.py\u001b[0m\u001b]8;;\u001b\\\u001b[2m:\u001b[0m\u001b]8;id=553319;file:///Users/altmanmarx/anaconda3/envs/ee559/lib/python3.11/site-packages/eodhd/APIs/BaseAPI.py#39\u001b\\\u001b[2m39\u001b[0m\u001b]8;;\u001b\\\n"
      ]
     },
     "metadata": {},
     "output_type": "display_data"
    },
    {
     "data": {
      "text/html": [
       "<pre style=\"white-space:pre;overflow-x:auto;line-height:normal;font-family:Menlo,'DejaVu Sans Mono',consolas,'Courier New',monospace\"><span style=\"color: #7fbfbf; text-decoration-color: #7fbfbf\">           </span><span style=\"color: #008080; text-decoration-color: #008080; font-weight: bold\">404</span> Client Error: Not Found for url:                                                       <a href=\"file:///Users/altmanmarx/anaconda3/envs/ee559/lib/python3.11/site-packages/eodhd/APIs/BaseAPI.py\" target=\"_blank\"><span style=\"color: #7f7f7f; text-decoration-color: #7f7f7f\">BaseAPI.py</span></a><span style=\"color: #7f7f7f; text-decoration-color: #7f7f7f\">:</span><a href=\"file:///Users/altmanmarx/anaconda3/envs/ee559/lib/python3.11/site-packages/eodhd/APIs/BaseAPI.py#52\" target=\"_blank\"><span style=\"color: #7f7f7f; text-decoration-color: #7f7f7f\">52</span></a>\n",
       "<span style=\"color: #7fbfbf; text-decoration-color: #7fbfbf\">           </span><span style=\"color: #0000ff; text-decoration-color: #0000ff; text-decoration: underline\">https://eodhd.com/api/fundamentals/601011?api_token=5cb671b0b4a790.35526238&amp;fmt=json</span>       <span style=\"color: #7f7f7f; text-decoration-color: #7f7f7f\">             </span>\n",
       "</pre>\n"
      ],
      "text/plain": [
       "\u001b[2;36m          \u001b[0m\u001b[2;36m \u001b[0m\u001b[1;36m404\u001b[0m Client Error: Not Found for url:                                                       \u001b]8;id=449069;file:///Users/altmanmarx/anaconda3/envs/ee559/lib/python3.11/site-packages/eodhd/APIs/BaseAPI.py\u001b\\\u001b[2mBaseAPI.py\u001b[0m\u001b]8;;\u001b\\\u001b[2m:\u001b[0m\u001b]8;id=380746;file:///Users/altmanmarx/anaconda3/envs/ee559/lib/python3.11/site-packages/eodhd/APIs/BaseAPI.py#52\u001b\\\u001b[2m52\u001b[0m\u001b]8;;\u001b\\\n",
       "\u001b[2;36m           \u001b[0m\u001b[4;94mhttps://eodhd.com/api/fundamentals/601011?\u001b[0m\u001b[4;94mapi_token\u001b[0m\u001b[4;94m=\u001b[0m\u001b[4;94m5cb671b0b4a790\u001b[0m\u001b[4;94m.35526238&\u001b[0m\u001b[4;94mfmt\u001b[0m\u001b[4;94m=\u001b[0m\u001b[4;94mjson\u001b[0m       \u001b[2m             \u001b[0m\n"
      ]
     },
     "metadata": {},
     "output_type": "display_data"
    },
    {
     "name": "stdout",
     "output_type": "stream",
     "text": [
      "601011\n"
     ]
    },
    {
     "data": {
      "text/html": [
       "<pre style=\"white-space:pre;overflow-x:auto;line-height:normal;font-family:Menlo,'DejaVu Sans Mono',consolas,'Courier New',monospace\"><span style=\"color: #7fbfbf; text-decoration-color: #7fbfbf\">[12:03:42] </span>Expecting value: line <span style=\"color: #008080; text-decoration-color: #008080; font-weight: bold\">1</span> column <span style=\"color: #008080; text-decoration-color: #008080; font-weight: bold\">1</span> <span style=\"font-weight: bold\">(</span>char <span style=\"color: #008080; text-decoration-color: #008080; font-weight: bold\">0</span><span style=\"font-weight: bold\">)</span>                                                  <a href=\"file:///Users/altmanmarx/anaconda3/envs/ee559/lib/python3.11/site-packages/eodhd/APIs/BaseAPI.py\" target=\"_blank\"><span style=\"color: #7f7f7f; text-decoration-color: #7f7f7f\">BaseAPI.py</span></a><span style=\"color: #7f7f7f; text-decoration-color: #7f7f7f\">:</span><a href=\"file:///Users/altmanmarx/anaconda3/envs/ee559/lib/python3.11/site-packages/eodhd/APIs/BaseAPI.py#39\" target=\"_blank\"><span style=\"color: #7f7f7f; text-decoration-color: #7f7f7f\">39</span></a>\n",
       "</pre>\n"
      ],
      "text/plain": [
       "\u001b[2;36m[12:03:42]\u001b[0m\u001b[2;36m \u001b[0mExpecting value: line \u001b[1;36m1\u001b[0m column \u001b[1;36m1\u001b[0m \u001b[1m(\u001b[0mchar \u001b[1;36m0\u001b[0m\u001b[1m)\u001b[0m                                                  \u001b]8;id=197921;file:///Users/altmanmarx/anaconda3/envs/ee559/lib/python3.11/site-packages/eodhd/APIs/BaseAPI.py\u001b\\\u001b[2mBaseAPI.py\u001b[0m\u001b]8;;\u001b\\\u001b[2m:\u001b[0m\u001b]8;id=848166;file:///Users/altmanmarx/anaconda3/envs/ee559/lib/python3.11/site-packages/eodhd/APIs/BaseAPI.py#39\u001b\\\u001b[2m39\u001b[0m\u001b]8;;\u001b\\\n"
      ]
     },
     "metadata": {},
     "output_type": "display_data"
    },
    {
     "data": {
      "text/html": [
       "<pre style=\"white-space:pre;overflow-x:auto;line-height:normal;font-family:Menlo,'DejaVu Sans Mono',consolas,'Courier New',monospace\"><span style=\"color: #7fbfbf; text-decoration-color: #7fbfbf\">           </span><span style=\"color: #008080; text-decoration-color: #008080; font-weight: bold\">404</span> Client Error: Not Found for url:                                                       <a href=\"file:///Users/altmanmarx/anaconda3/envs/ee559/lib/python3.11/site-packages/eodhd/APIs/BaseAPI.py\" target=\"_blank\"><span style=\"color: #7f7f7f; text-decoration-color: #7f7f7f\">BaseAPI.py</span></a><span style=\"color: #7f7f7f; text-decoration-color: #7f7f7f\">:</span><a href=\"file:///Users/altmanmarx/anaconda3/envs/ee559/lib/python3.11/site-packages/eodhd/APIs/BaseAPI.py#52\" target=\"_blank\"><span style=\"color: #7f7f7f; text-decoration-color: #7f7f7f\">52</span></a>\n",
       "<span style=\"color: #7fbfbf; text-decoration-color: #7fbfbf\">           </span><span style=\"color: #0000ff; text-decoration-color: #0000ff; text-decoration: underline\">https://eodhd.com/api/fundamentals/ST9?api_token=5cb671b0b4a790.35526238&amp;fmt=json</span>          <span style=\"color: #7f7f7f; text-decoration-color: #7f7f7f\">             </span>\n",
       "</pre>\n"
      ],
      "text/plain": [
       "\u001b[2;36m          \u001b[0m\u001b[2;36m \u001b[0m\u001b[1;36m404\u001b[0m Client Error: Not Found for url:                                                       \u001b]8;id=379848;file:///Users/altmanmarx/anaconda3/envs/ee559/lib/python3.11/site-packages/eodhd/APIs/BaseAPI.py\u001b\\\u001b[2mBaseAPI.py\u001b[0m\u001b]8;;\u001b\\\u001b[2m:\u001b[0m\u001b]8;id=824674;file:///Users/altmanmarx/anaconda3/envs/ee559/lib/python3.11/site-packages/eodhd/APIs/BaseAPI.py#52\u001b\\\u001b[2m52\u001b[0m\u001b]8;;\u001b\\\n",
       "\u001b[2;36m           \u001b[0m\u001b[4;94mhttps://eodhd.com/api/fundamentals/ST9?\u001b[0m\u001b[4;94mapi_token\u001b[0m\u001b[4;94m=\u001b[0m\u001b[4;94m5cb671b0b4a790\u001b[0m\u001b[4;94m.35526238&\u001b[0m\u001b[4;94mfmt\u001b[0m\u001b[4;94m=\u001b[0m\u001b[4;94mjson\u001b[0m          \u001b[2m             \u001b[0m\n"
      ]
     },
     "metadata": {},
     "output_type": "display_data"
    },
    {
     "name": "stdout",
     "output_type": "stream",
     "text": [
      "ST9\n"
     ]
    },
    {
     "data": {
      "text/html": [
       "<pre style=\"white-space:pre;overflow-x:auto;line-height:normal;font-family:Menlo,'DejaVu Sans Mono',consolas,'Courier New',monospace\"><span style=\"color: #7fbfbf; text-decoration-color: #7fbfbf\">[12:03:43] </span>Expecting value: line <span style=\"color: #008080; text-decoration-color: #008080; font-weight: bold\">1</span> column <span style=\"color: #008080; text-decoration-color: #008080; font-weight: bold\">1</span> <span style=\"font-weight: bold\">(</span>char <span style=\"color: #008080; text-decoration-color: #008080; font-weight: bold\">0</span><span style=\"font-weight: bold\">)</span>                                                  <a href=\"file:///Users/altmanmarx/anaconda3/envs/ee559/lib/python3.11/site-packages/eodhd/APIs/BaseAPI.py\" target=\"_blank\"><span style=\"color: #7f7f7f; text-decoration-color: #7f7f7f\">BaseAPI.py</span></a><span style=\"color: #7f7f7f; text-decoration-color: #7f7f7f\">:</span><a href=\"file:///Users/altmanmarx/anaconda3/envs/ee559/lib/python3.11/site-packages/eodhd/APIs/BaseAPI.py#39\" target=\"_blank\"><span style=\"color: #7f7f7f; text-decoration-color: #7f7f7f\">39</span></a>\n",
       "</pre>\n"
      ],
      "text/plain": [
       "\u001b[2;36m[12:03:43]\u001b[0m\u001b[2;36m \u001b[0mExpecting value: line \u001b[1;36m1\u001b[0m column \u001b[1;36m1\u001b[0m \u001b[1m(\u001b[0mchar \u001b[1;36m0\u001b[0m\u001b[1m)\u001b[0m                                                  \u001b]8;id=145025;file:///Users/altmanmarx/anaconda3/envs/ee559/lib/python3.11/site-packages/eodhd/APIs/BaseAPI.py\u001b\\\u001b[2mBaseAPI.py\u001b[0m\u001b]8;;\u001b\\\u001b[2m:\u001b[0m\u001b]8;id=426704;file:///Users/altmanmarx/anaconda3/envs/ee559/lib/python3.11/site-packages/eodhd/APIs/BaseAPI.py#39\u001b\\\u001b[2m39\u001b[0m\u001b]8;;\u001b\\\n"
      ]
     },
     "metadata": {},
     "output_type": "display_data"
    },
    {
     "data": {
      "text/html": [
       "<pre style=\"white-space:pre;overflow-x:auto;line-height:normal;font-family:Menlo,'DejaVu Sans Mono',consolas,'Courier New',monospace\"><span style=\"color: #7fbfbf; text-decoration-color: #7fbfbf\">           </span><span style=\"color: #008080; text-decoration-color: #008080; font-weight: bold\">404</span> Client Error: Not Found for url:                                                       <a href=\"file:///Users/altmanmarx/anaconda3/envs/ee559/lib/python3.11/site-packages/eodhd/APIs/BaseAPI.py\" target=\"_blank\"><span style=\"color: #7f7f7f; text-decoration-color: #7f7f7f\">BaseAPI.py</span></a><span style=\"color: #7f7f7f; text-decoration-color: #7f7f7f\">:</span><a href=\"file:///Users/altmanmarx/anaconda3/envs/ee559/lib/python3.11/site-packages/eodhd/APIs/BaseAPI.py#52\" target=\"_blank\"><span style=\"color: #7f7f7f; text-decoration-color: #7f7f7f\">52</span></a>\n",
       "<span style=\"color: #7fbfbf; text-decoration-color: #7fbfbf\">           </span><span style=\"color: #0000ff; text-decoration-color: #0000ff; text-decoration: underline\">https://eodhd.com/api/fundamentals/003410?api_token=5cb671b0b4a790.35526238&amp;fmt=json</span>       <span style=\"color: #7f7f7f; text-decoration-color: #7f7f7f\">             </span>\n",
       "</pre>\n"
      ],
      "text/plain": [
       "\u001b[2;36m          \u001b[0m\u001b[2;36m \u001b[0m\u001b[1;36m404\u001b[0m Client Error: Not Found for url:                                                       \u001b]8;id=847267;file:///Users/altmanmarx/anaconda3/envs/ee559/lib/python3.11/site-packages/eodhd/APIs/BaseAPI.py\u001b\\\u001b[2mBaseAPI.py\u001b[0m\u001b]8;;\u001b\\\u001b[2m:\u001b[0m\u001b]8;id=331106;file:///Users/altmanmarx/anaconda3/envs/ee559/lib/python3.11/site-packages/eodhd/APIs/BaseAPI.py#52\u001b\\\u001b[2m52\u001b[0m\u001b]8;;\u001b\\\n",
       "\u001b[2;36m           \u001b[0m\u001b[4;94mhttps://eodhd.com/api/fundamentals/003410?\u001b[0m\u001b[4;94mapi_token\u001b[0m\u001b[4;94m=\u001b[0m\u001b[4;94m5cb671b0b4a790\u001b[0m\u001b[4;94m.35526238&\u001b[0m\u001b[4;94mfmt\u001b[0m\u001b[4;94m=\u001b[0m\u001b[4;94mjson\u001b[0m       \u001b[2m             \u001b[0m\n"
      ]
     },
     "metadata": {},
     "output_type": "display_data"
    },
    {
     "name": "stdout",
     "output_type": "stream",
     "text": [
      "003410\n"
     ]
    },
    {
     "data": {
      "text/html": [
       "<pre style=\"white-space:pre;overflow-x:auto;line-height:normal;font-family:Menlo,'DejaVu Sans Mono',consolas,'Courier New',monospace\"><span style=\"color: #7fbfbf; text-decoration-color: #7fbfbf\">[12:03:43] </span>Expecting value: line <span style=\"color: #008080; text-decoration-color: #008080; font-weight: bold\">1</span> column <span style=\"color: #008080; text-decoration-color: #008080; font-weight: bold\">1</span> <span style=\"font-weight: bold\">(</span>char <span style=\"color: #008080; text-decoration-color: #008080; font-weight: bold\">0</span><span style=\"font-weight: bold\">)</span>                                                  <a href=\"file:///Users/altmanmarx/anaconda3/envs/ee559/lib/python3.11/site-packages/eodhd/APIs/BaseAPI.py\" target=\"_blank\"><span style=\"color: #7f7f7f; text-decoration-color: #7f7f7f\">BaseAPI.py</span></a><span style=\"color: #7f7f7f; text-decoration-color: #7f7f7f\">:</span><a href=\"file:///Users/altmanmarx/anaconda3/envs/ee559/lib/python3.11/site-packages/eodhd/APIs/BaseAPI.py#39\" target=\"_blank\"><span style=\"color: #7f7f7f; text-decoration-color: #7f7f7f\">39</span></a>\n",
       "</pre>\n"
      ],
      "text/plain": [
       "\u001b[2;36m[12:03:43]\u001b[0m\u001b[2;36m \u001b[0mExpecting value: line \u001b[1;36m1\u001b[0m column \u001b[1;36m1\u001b[0m \u001b[1m(\u001b[0mchar \u001b[1;36m0\u001b[0m\u001b[1m)\u001b[0m                                                  \u001b]8;id=793965;file:///Users/altmanmarx/anaconda3/envs/ee559/lib/python3.11/site-packages/eodhd/APIs/BaseAPI.py\u001b\\\u001b[2mBaseAPI.py\u001b[0m\u001b]8;;\u001b\\\u001b[2m:\u001b[0m\u001b]8;id=714161;file:///Users/altmanmarx/anaconda3/envs/ee559/lib/python3.11/site-packages/eodhd/APIs/BaseAPI.py#39\u001b\\\u001b[2m39\u001b[0m\u001b]8;;\u001b\\\n"
      ]
     },
     "metadata": {},
     "output_type": "display_data"
    },
    {
     "data": {
      "text/html": [
       "<pre style=\"white-space:pre;overflow-x:auto;line-height:normal;font-family:Menlo,'DejaVu Sans Mono',consolas,'Courier New',monospace\"><span style=\"color: #7fbfbf; text-decoration-color: #7fbfbf\">           </span><span style=\"color: #008080; text-decoration-color: #008080; font-weight: bold\">404</span> Client Error: Not Found for url:                                                       <a href=\"file:///Users/altmanmarx/anaconda3/envs/ee559/lib/python3.11/site-packages/eodhd/APIs/BaseAPI.py\" target=\"_blank\"><span style=\"color: #7f7f7f; text-decoration-color: #7f7f7f\">BaseAPI.py</span></a><span style=\"color: #7f7f7f; text-decoration-color: #7f7f7f\">:</span><a href=\"file:///Users/altmanmarx/anaconda3/envs/ee559/lib/python3.11/site-packages/eodhd/APIs/BaseAPI.py#52\" target=\"_blank\"><span style=\"color: #7f7f7f; text-decoration-color: #7f7f7f\">52</span></a>\n",
       "<span style=\"color: #7fbfbf; text-decoration-color: #7fbfbf\">           </span><span style=\"color: #0000ff; text-decoration-color: #0000ff; text-decoration: underline\">https://eodhd.com/api/fundamentals/002398?api_token=5cb671b0b4a790.35526238&amp;fmt=json</span>       <span style=\"color: #7f7f7f; text-decoration-color: #7f7f7f\">             </span>\n",
       "</pre>\n"
      ],
      "text/plain": [
       "\u001b[2;36m          \u001b[0m\u001b[2;36m \u001b[0m\u001b[1;36m404\u001b[0m Client Error: Not Found for url:                                                       \u001b]8;id=287953;file:///Users/altmanmarx/anaconda3/envs/ee559/lib/python3.11/site-packages/eodhd/APIs/BaseAPI.py\u001b\\\u001b[2mBaseAPI.py\u001b[0m\u001b]8;;\u001b\\\u001b[2m:\u001b[0m\u001b]8;id=783208;file:///Users/altmanmarx/anaconda3/envs/ee559/lib/python3.11/site-packages/eodhd/APIs/BaseAPI.py#52\u001b\\\u001b[2m52\u001b[0m\u001b]8;;\u001b\\\n",
       "\u001b[2;36m           \u001b[0m\u001b[4;94mhttps://eodhd.com/api/fundamentals/002398?\u001b[0m\u001b[4;94mapi_token\u001b[0m\u001b[4;94m=\u001b[0m\u001b[4;94m5cb671b0b4a790\u001b[0m\u001b[4;94m.35526238&\u001b[0m\u001b[4;94mfmt\u001b[0m\u001b[4;94m=\u001b[0m\u001b[4;94mjson\u001b[0m       \u001b[2m             \u001b[0m\n"
      ]
     },
     "metadata": {},
     "output_type": "display_data"
    },
    {
     "name": "stdout",
     "output_type": "stream",
     "text": [
      "002398\n"
     ]
    },
    {
     "data": {
      "text/html": [
       "<pre style=\"white-space:pre;overflow-x:auto;line-height:normal;font-family:Menlo,'DejaVu Sans Mono',consolas,'Courier New',monospace\"><span style=\"color: #7fbfbf; text-decoration-color: #7fbfbf\">[12:03:43] </span>Expecting value: line <span style=\"color: #008080; text-decoration-color: #008080; font-weight: bold\">1</span> column <span style=\"color: #008080; text-decoration-color: #008080; font-weight: bold\">1</span> <span style=\"font-weight: bold\">(</span>char <span style=\"color: #008080; text-decoration-color: #008080; font-weight: bold\">0</span><span style=\"font-weight: bold\">)</span>                                                  <a href=\"file:///Users/altmanmarx/anaconda3/envs/ee559/lib/python3.11/site-packages/eodhd/APIs/BaseAPI.py\" target=\"_blank\"><span style=\"color: #7f7f7f; text-decoration-color: #7f7f7f\">BaseAPI.py</span></a><span style=\"color: #7f7f7f; text-decoration-color: #7f7f7f\">:</span><a href=\"file:///Users/altmanmarx/anaconda3/envs/ee559/lib/python3.11/site-packages/eodhd/APIs/BaseAPI.py#39\" target=\"_blank\"><span style=\"color: #7f7f7f; text-decoration-color: #7f7f7f\">39</span></a>\n",
       "</pre>\n"
      ],
      "text/plain": [
       "\u001b[2;36m[12:03:43]\u001b[0m\u001b[2;36m \u001b[0mExpecting value: line \u001b[1;36m1\u001b[0m column \u001b[1;36m1\u001b[0m \u001b[1m(\u001b[0mchar \u001b[1;36m0\u001b[0m\u001b[1m)\u001b[0m                                                  \u001b]8;id=1513;file:///Users/altmanmarx/anaconda3/envs/ee559/lib/python3.11/site-packages/eodhd/APIs/BaseAPI.py\u001b\\\u001b[2mBaseAPI.py\u001b[0m\u001b]8;;\u001b\\\u001b[2m:\u001b[0m\u001b]8;id=420300;file:///Users/altmanmarx/anaconda3/envs/ee559/lib/python3.11/site-packages/eodhd/APIs/BaseAPI.py#39\u001b\\\u001b[2m39\u001b[0m\u001b]8;;\u001b\\\n"
      ]
     },
     "metadata": {},
     "output_type": "display_data"
    },
    {
     "data": {
      "text/html": [
       "<pre style=\"white-space:pre;overflow-x:auto;line-height:normal;font-family:Menlo,'DejaVu Sans Mono',consolas,'Courier New',monospace\"><span style=\"color: #7fbfbf; text-decoration-color: #7fbfbf\">           </span><span style=\"color: #008080; text-decoration-color: #008080; font-weight: bold\">404</span> Client Error: Not Found for url:                                                       <a href=\"file:///Users/altmanmarx/anaconda3/envs/ee559/lib/python3.11/site-packages/eodhd/APIs/BaseAPI.py\" target=\"_blank\"><span style=\"color: #7f7f7f; text-decoration-color: #7f7f7f\">BaseAPI.py</span></a><span style=\"color: #7f7f7f; text-decoration-color: #7f7f7f\">:</span><a href=\"file:///Users/altmanmarx/anaconda3/envs/ee559/lib/python3.11/site-packages/eodhd/APIs/BaseAPI.py#52\" target=\"_blank\"><span style=\"color: #7f7f7f; text-decoration-color: #7f7f7f\">52</span></a>\n",
       "<span style=\"color: #7fbfbf; text-decoration-color: #7fbfbf\">           </span><span style=\"color: #0000ff; text-decoration-color: #0000ff; text-decoration: underline\">https://eodhd.com/api/fundamentals/RU6?api_token=5cb671b0b4a790.35526238&amp;fmt=json</span>          <span style=\"color: #7f7f7f; text-decoration-color: #7f7f7f\">             </span>\n",
       "</pre>\n"
      ],
      "text/plain": [
       "\u001b[2;36m          \u001b[0m\u001b[2;36m \u001b[0m\u001b[1;36m404\u001b[0m Client Error: Not Found for url:                                                       \u001b]8;id=542926;file:///Users/altmanmarx/anaconda3/envs/ee559/lib/python3.11/site-packages/eodhd/APIs/BaseAPI.py\u001b\\\u001b[2mBaseAPI.py\u001b[0m\u001b]8;;\u001b\\\u001b[2m:\u001b[0m\u001b]8;id=280967;file:///Users/altmanmarx/anaconda3/envs/ee559/lib/python3.11/site-packages/eodhd/APIs/BaseAPI.py#52\u001b\\\u001b[2m52\u001b[0m\u001b]8;;\u001b\\\n",
       "\u001b[2;36m           \u001b[0m\u001b[4;94mhttps://eodhd.com/api/fundamentals/RU6?\u001b[0m\u001b[4;94mapi_token\u001b[0m\u001b[4;94m=\u001b[0m\u001b[4;94m5cb671b0b4a790\u001b[0m\u001b[4;94m.35526238&\u001b[0m\u001b[4;94mfmt\u001b[0m\u001b[4;94m=\u001b[0m\u001b[4;94mjson\u001b[0m          \u001b[2m             \u001b[0m\n"
      ]
     },
     "metadata": {},
     "output_type": "display_data"
    },
    {
     "name": "stdout",
     "output_type": "stream",
     "text": [
      "RU6\n"
     ]
    },
    {
     "data": {
      "text/html": [
       "<pre style=\"white-space:pre;overflow-x:auto;line-height:normal;font-family:Menlo,'DejaVu Sans Mono',consolas,'Courier New',monospace\"><span style=\"color: #7fbfbf; text-decoration-color: #7fbfbf\">[12:03:43] </span>Expecting value: line <span style=\"color: #008080; text-decoration-color: #008080; font-weight: bold\">1</span> column <span style=\"color: #008080; text-decoration-color: #008080; font-weight: bold\">1</span> <span style=\"font-weight: bold\">(</span>char <span style=\"color: #008080; text-decoration-color: #008080; font-weight: bold\">0</span><span style=\"font-weight: bold\">)</span>                                                  <a href=\"file:///Users/altmanmarx/anaconda3/envs/ee559/lib/python3.11/site-packages/eodhd/APIs/BaseAPI.py\" target=\"_blank\"><span style=\"color: #7f7f7f; text-decoration-color: #7f7f7f\">BaseAPI.py</span></a><span style=\"color: #7f7f7f; text-decoration-color: #7f7f7f\">:</span><a href=\"file:///Users/altmanmarx/anaconda3/envs/ee559/lib/python3.11/site-packages/eodhd/APIs/BaseAPI.py#39\" target=\"_blank\"><span style=\"color: #7f7f7f; text-decoration-color: #7f7f7f\">39</span></a>\n",
       "</pre>\n"
      ],
      "text/plain": [
       "\u001b[2;36m[12:03:43]\u001b[0m\u001b[2;36m \u001b[0mExpecting value: line \u001b[1;36m1\u001b[0m column \u001b[1;36m1\u001b[0m \u001b[1m(\u001b[0mchar \u001b[1;36m0\u001b[0m\u001b[1m)\u001b[0m                                                  \u001b]8;id=746317;file:///Users/altmanmarx/anaconda3/envs/ee559/lib/python3.11/site-packages/eodhd/APIs/BaseAPI.py\u001b\\\u001b[2mBaseAPI.py\u001b[0m\u001b]8;;\u001b\\\u001b[2m:\u001b[0m\u001b]8;id=496451;file:///Users/altmanmarx/anaconda3/envs/ee559/lib/python3.11/site-packages/eodhd/APIs/BaseAPI.py#39\u001b\\\u001b[2m39\u001b[0m\u001b]8;;\u001b\\\n"
      ]
     },
     "metadata": {},
     "output_type": "display_data"
    },
    {
     "data": {
      "text/html": [
       "<pre style=\"white-space:pre;overflow-x:auto;line-height:normal;font-family:Menlo,'DejaVu Sans Mono',consolas,'Courier New',monospace\"><span style=\"color: #7fbfbf; text-decoration-color: #7fbfbf\">           </span><span style=\"color: #008080; text-decoration-color: #008080; font-weight: bold\">404</span> Client Error: Not Found for url:                                                       <a href=\"file:///Users/altmanmarx/anaconda3/envs/ee559/lib/python3.11/site-packages/eodhd/APIs/BaseAPI.py\" target=\"_blank\"><span style=\"color: #7f7f7f; text-decoration-color: #7f7f7f\">BaseAPI.py</span></a><span style=\"color: #7f7f7f; text-decoration-color: #7f7f7f\">:</span><a href=\"file:///Users/altmanmarx/anaconda3/envs/ee559/lib/python3.11/site-packages/eodhd/APIs/BaseAPI.py#52\" target=\"_blank\"><span style=\"color: #7f7f7f; text-decoration-color: #7f7f7f\">52</span></a>\n",
       "<span style=\"color: #7fbfbf; text-decoration-color: #7fbfbf\">           </span><span style=\"color: #0000ff; text-decoration-color: #0000ff; text-decoration: underline\">https://eodhd.com/api/fundamentals/OZV2?api_token=5cb671b0b4a790.35526238&amp;fmt=json</span>         <span style=\"color: #7f7f7f; text-decoration-color: #7f7f7f\">             </span>\n",
       "</pre>\n"
      ],
      "text/plain": [
       "\u001b[2;36m          \u001b[0m\u001b[2;36m \u001b[0m\u001b[1;36m404\u001b[0m Client Error: Not Found for url:                                                       \u001b]8;id=546838;file:///Users/altmanmarx/anaconda3/envs/ee559/lib/python3.11/site-packages/eodhd/APIs/BaseAPI.py\u001b\\\u001b[2mBaseAPI.py\u001b[0m\u001b]8;;\u001b\\\u001b[2m:\u001b[0m\u001b]8;id=291833;file:///Users/altmanmarx/anaconda3/envs/ee559/lib/python3.11/site-packages/eodhd/APIs/BaseAPI.py#52\u001b\\\u001b[2m52\u001b[0m\u001b]8;;\u001b\\\n",
       "\u001b[2;36m           \u001b[0m\u001b[4;94mhttps://eodhd.com/api/fundamentals/OZV2?\u001b[0m\u001b[4;94mapi_token\u001b[0m\u001b[4;94m=\u001b[0m\u001b[4;94m5cb671b0b4a790\u001b[0m\u001b[4;94m.35526238&\u001b[0m\u001b[4;94mfmt\u001b[0m\u001b[4;94m=\u001b[0m\u001b[4;94mjson\u001b[0m         \u001b[2m             \u001b[0m\n"
      ]
     },
     "metadata": {},
     "output_type": "display_data"
    },
    {
     "name": "stdout",
     "output_type": "stream",
     "text": [
      "OZV2\n"
     ]
    },
    {
     "data": {
      "text/html": [
       "<pre style=\"white-space:pre;overflow-x:auto;line-height:normal;font-family:Menlo,'DejaVu Sans Mono',consolas,'Courier New',monospace\"><span style=\"color: #7fbfbf; text-decoration-color: #7fbfbf\">[12:03:44] </span>Expecting value: line <span style=\"color: #008080; text-decoration-color: #008080; font-weight: bold\">1</span> column <span style=\"color: #008080; text-decoration-color: #008080; font-weight: bold\">1</span> <span style=\"font-weight: bold\">(</span>char <span style=\"color: #008080; text-decoration-color: #008080; font-weight: bold\">0</span><span style=\"font-weight: bold\">)</span>                                                  <a href=\"file:///Users/altmanmarx/anaconda3/envs/ee559/lib/python3.11/site-packages/eodhd/APIs/BaseAPI.py\" target=\"_blank\"><span style=\"color: #7f7f7f; text-decoration-color: #7f7f7f\">BaseAPI.py</span></a><span style=\"color: #7f7f7f; text-decoration-color: #7f7f7f\">:</span><a href=\"file:///Users/altmanmarx/anaconda3/envs/ee559/lib/python3.11/site-packages/eodhd/APIs/BaseAPI.py#39\" target=\"_blank\"><span style=\"color: #7f7f7f; text-decoration-color: #7f7f7f\">39</span></a>\n",
       "</pre>\n"
      ],
      "text/plain": [
       "\u001b[2;36m[12:03:44]\u001b[0m\u001b[2;36m \u001b[0mExpecting value: line \u001b[1;36m1\u001b[0m column \u001b[1;36m1\u001b[0m \u001b[1m(\u001b[0mchar \u001b[1;36m0\u001b[0m\u001b[1m)\u001b[0m                                                  \u001b]8;id=767228;file:///Users/altmanmarx/anaconda3/envs/ee559/lib/python3.11/site-packages/eodhd/APIs/BaseAPI.py\u001b\\\u001b[2mBaseAPI.py\u001b[0m\u001b]8;;\u001b\\\u001b[2m:\u001b[0m\u001b]8;id=145879;file:///Users/altmanmarx/anaconda3/envs/ee559/lib/python3.11/site-packages/eodhd/APIs/BaseAPI.py#39\u001b\\\u001b[2m39\u001b[0m\u001b]8;;\u001b\\\n"
      ]
     },
     "metadata": {},
     "output_type": "display_data"
    },
    {
     "data": {
      "text/html": [
       "<pre style=\"white-space:pre;overflow-x:auto;line-height:normal;font-family:Menlo,'DejaVu Sans Mono',consolas,'Courier New',monospace\"><span style=\"color: #7fbfbf; text-decoration-color: #7fbfbf\">           </span><span style=\"color: #008080; text-decoration-color: #008080; font-weight: bold\">404</span> Client Error: Not Found for url:                                                       <a href=\"file:///Users/altmanmarx/anaconda3/envs/ee559/lib/python3.11/site-packages/eodhd/APIs/BaseAPI.py\" target=\"_blank\"><span style=\"color: #7f7f7f; text-decoration-color: #7f7f7f\">BaseAPI.py</span></a><span style=\"color: #7f7f7f; text-decoration-color: #7f7f7f\">:</span><a href=\"file:///Users/altmanmarx/anaconda3/envs/ee559/lib/python3.11/site-packages/eodhd/APIs/BaseAPI.py#52\" target=\"_blank\"><span style=\"color: #7f7f7f; text-decoration-color: #7f7f7f\">52</span></a>\n",
       "<span style=\"color: #7fbfbf; text-decoration-color: #7fbfbf\">           </span><span style=\"color: #0000ff; text-decoration-color: #0000ff; text-decoration: underline\">https://eodhd.com/api/fundamentals/4HM?api_token=5cb671b0b4a790.35526238&amp;fmt=json</span>          <span style=\"color: #7f7f7f; text-decoration-color: #7f7f7f\">             </span>\n",
       "</pre>\n"
      ],
      "text/plain": [
       "\u001b[2;36m          \u001b[0m\u001b[2;36m \u001b[0m\u001b[1;36m404\u001b[0m Client Error: Not Found for url:                                                       \u001b]8;id=922208;file:///Users/altmanmarx/anaconda3/envs/ee559/lib/python3.11/site-packages/eodhd/APIs/BaseAPI.py\u001b\\\u001b[2mBaseAPI.py\u001b[0m\u001b]8;;\u001b\\\u001b[2m:\u001b[0m\u001b]8;id=39314;file:///Users/altmanmarx/anaconda3/envs/ee559/lib/python3.11/site-packages/eodhd/APIs/BaseAPI.py#52\u001b\\\u001b[2m52\u001b[0m\u001b]8;;\u001b\\\n",
       "\u001b[2;36m           \u001b[0m\u001b[4;94mhttps://eodhd.com/api/fundamentals/4HM?\u001b[0m\u001b[4;94mapi_token\u001b[0m\u001b[4;94m=\u001b[0m\u001b[4;94m5cb671b0b4a790\u001b[0m\u001b[4;94m.35526238&\u001b[0m\u001b[4;94mfmt\u001b[0m\u001b[4;94m=\u001b[0m\u001b[4;94mjson\u001b[0m          \u001b[2m             \u001b[0m\n"
      ]
     },
     "metadata": {},
     "output_type": "display_data"
    },
    {
     "name": "stdout",
     "output_type": "stream",
     "text": [
      "4HM\n"
     ]
    },
    {
     "data": {
      "text/html": [
       "<pre style=\"white-space:pre;overflow-x:auto;line-height:normal;font-family:Menlo,'DejaVu Sans Mono',consolas,'Courier New',monospace\"><span style=\"color: #7fbfbf; text-decoration-color: #7fbfbf\">[12:03:44] </span>Expecting value: line <span style=\"color: #008080; text-decoration-color: #008080; font-weight: bold\">1</span> column <span style=\"color: #008080; text-decoration-color: #008080; font-weight: bold\">1</span> <span style=\"font-weight: bold\">(</span>char <span style=\"color: #008080; text-decoration-color: #008080; font-weight: bold\">0</span><span style=\"font-weight: bold\">)</span>                                                  <a href=\"file:///Users/altmanmarx/anaconda3/envs/ee559/lib/python3.11/site-packages/eodhd/APIs/BaseAPI.py\" target=\"_blank\"><span style=\"color: #7f7f7f; text-decoration-color: #7f7f7f\">BaseAPI.py</span></a><span style=\"color: #7f7f7f; text-decoration-color: #7f7f7f\">:</span><a href=\"file:///Users/altmanmarx/anaconda3/envs/ee559/lib/python3.11/site-packages/eodhd/APIs/BaseAPI.py#39\" target=\"_blank\"><span style=\"color: #7f7f7f; text-decoration-color: #7f7f7f\">39</span></a>\n",
       "</pre>\n"
      ],
      "text/plain": [
       "\u001b[2;36m[12:03:44]\u001b[0m\u001b[2;36m \u001b[0mExpecting value: line \u001b[1;36m1\u001b[0m column \u001b[1;36m1\u001b[0m \u001b[1m(\u001b[0mchar \u001b[1;36m0\u001b[0m\u001b[1m)\u001b[0m                                                  \u001b]8;id=816383;file:///Users/altmanmarx/anaconda3/envs/ee559/lib/python3.11/site-packages/eodhd/APIs/BaseAPI.py\u001b\\\u001b[2mBaseAPI.py\u001b[0m\u001b]8;;\u001b\\\u001b[2m:\u001b[0m\u001b]8;id=856910;file:///Users/altmanmarx/anaconda3/envs/ee559/lib/python3.11/site-packages/eodhd/APIs/BaseAPI.py#39\u001b\\\u001b[2m39\u001b[0m\u001b]8;;\u001b\\\n"
      ]
     },
     "metadata": {},
     "output_type": "display_data"
    },
    {
     "data": {
      "text/html": [
       "<pre style=\"white-space:pre;overflow-x:auto;line-height:normal;font-family:Menlo,'DejaVu Sans Mono',consolas,'Courier New',monospace\"><span style=\"color: #7fbfbf; text-decoration-color: #7fbfbf\">           </span><span style=\"color: #008080; text-decoration-color: #008080; font-weight: bold\">404</span> Client Error: Not Found for url:                                                       <a href=\"file:///Users/altmanmarx/anaconda3/envs/ee559/lib/python3.11/site-packages/eodhd/APIs/BaseAPI.py\" target=\"_blank\"><span style=\"color: #7f7f7f; text-decoration-color: #7f7f7f\">BaseAPI.py</span></a><span style=\"color: #7f7f7f; text-decoration-color: #7f7f7f\">:</span><a href=\"file:///Users/altmanmarx/anaconda3/envs/ee559/lib/python3.11/site-packages/eodhd/APIs/BaseAPI.py#52\" target=\"_blank\"><span style=\"color: #7f7f7f; text-decoration-color: #7f7f7f\">52</span></a>\n",
       "<span style=\"color: #7fbfbf; text-decoration-color: #7fbfbf\">           </span><span style=\"color: #0000ff; text-decoration-color: #0000ff; text-decoration: underline\">https://eodhd.com/api/fundamentals/000789?api_token=5cb671b0b4a790.35526238&amp;fmt=json</span>       <span style=\"color: #7f7f7f; text-decoration-color: #7f7f7f\">             </span>\n",
       "</pre>\n"
      ],
      "text/plain": [
       "\u001b[2;36m          \u001b[0m\u001b[2;36m \u001b[0m\u001b[1;36m404\u001b[0m Client Error: Not Found for url:                                                       \u001b]8;id=51852;file:///Users/altmanmarx/anaconda3/envs/ee559/lib/python3.11/site-packages/eodhd/APIs/BaseAPI.py\u001b\\\u001b[2mBaseAPI.py\u001b[0m\u001b]8;;\u001b\\\u001b[2m:\u001b[0m\u001b]8;id=853958;file:///Users/altmanmarx/anaconda3/envs/ee559/lib/python3.11/site-packages/eodhd/APIs/BaseAPI.py#52\u001b\\\u001b[2m52\u001b[0m\u001b]8;;\u001b\\\n",
       "\u001b[2;36m           \u001b[0m\u001b[4;94mhttps://eodhd.com/api/fundamentals/000789?\u001b[0m\u001b[4;94mapi_token\u001b[0m\u001b[4;94m=\u001b[0m\u001b[4;94m5cb671b0b4a790\u001b[0m\u001b[4;94m.35526238&\u001b[0m\u001b[4;94mfmt\u001b[0m\u001b[4;94m=\u001b[0m\u001b[4;94mjson\u001b[0m       \u001b[2m             \u001b[0m\n"
      ]
     },
     "metadata": {},
     "output_type": "display_data"
    },
    {
     "name": "stdout",
     "output_type": "stream",
     "text": [
      "000789\n"
     ]
    },
    {
     "data": {
      "text/html": [
       "<pre style=\"white-space:pre;overflow-x:auto;line-height:normal;font-family:Menlo,'DejaVu Sans Mono',consolas,'Courier New',monospace\"><span style=\"color: #7fbfbf; text-decoration-color: #7fbfbf\">[12:03:44] </span>Expecting value: line <span style=\"color: #008080; text-decoration-color: #008080; font-weight: bold\">1</span> column <span style=\"color: #008080; text-decoration-color: #008080; font-weight: bold\">1</span> <span style=\"font-weight: bold\">(</span>char <span style=\"color: #008080; text-decoration-color: #008080; font-weight: bold\">0</span><span style=\"font-weight: bold\">)</span>                                                  <a href=\"file:///Users/altmanmarx/anaconda3/envs/ee559/lib/python3.11/site-packages/eodhd/APIs/BaseAPI.py\" target=\"_blank\"><span style=\"color: #7f7f7f; text-decoration-color: #7f7f7f\">BaseAPI.py</span></a><span style=\"color: #7f7f7f; text-decoration-color: #7f7f7f\">:</span><a href=\"file:///Users/altmanmarx/anaconda3/envs/ee559/lib/python3.11/site-packages/eodhd/APIs/BaseAPI.py#39\" target=\"_blank\"><span style=\"color: #7f7f7f; text-decoration-color: #7f7f7f\">39</span></a>\n",
       "</pre>\n"
      ],
      "text/plain": [
       "\u001b[2;36m[12:03:44]\u001b[0m\u001b[2;36m \u001b[0mExpecting value: line \u001b[1;36m1\u001b[0m column \u001b[1;36m1\u001b[0m \u001b[1m(\u001b[0mchar \u001b[1;36m0\u001b[0m\u001b[1m)\u001b[0m                                                  \u001b]8;id=325585;file:///Users/altmanmarx/anaconda3/envs/ee559/lib/python3.11/site-packages/eodhd/APIs/BaseAPI.py\u001b\\\u001b[2mBaseAPI.py\u001b[0m\u001b]8;;\u001b\\\u001b[2m:\u001b[0m\u001b]8;id=455523;file:///Users/altmanmarx/anaconda3/envs/ee559/lib/python3.11/site-packages/eodhd/APIs/BaseAPI.py#39\u001b\\\u001b[2m39\u001b[0m\u001b]8;;\u001b\\\n"
      ]
     },
     "metadata": {},
     "output_type": "display_data"
    },
    {
     "data": {
      "text/html": [
       "<pre style=\"white-space:pre;overflow-x:auto;line-height:normal;font-family:Menlo,'DejaVu Sans Mono',consolas,'Courier New',monospace\"><span style=\"color: #7fbfbf; text-decoration-color: #7fbfbf\">           </span><span style=\"color: #008080; text-decoration-color: #008080; font-weight: bold\">404</span> Client Error: Not Found for url:                                                       <a href=\"file:///Users/altmanmarx/anaconda3/envs/ee559/lib/python3.11/site-packages/eodhd/APIs/BaseAPI.py\" target=\"_blank\"><span style=\"color: #7f7f7f; text-decoration-color: #7f7f7f\">BaseAPI.py</span></a><span style=\"color: #7f7f7f; text-decoration-color: #7f7f7f\">:</span><a href=\"file:///Users/altmanmarx/anaconda3/envs/ee559/lib/python3.11/site-packages/eodhd/APIs/BaseAPI.py#52\" target=\"_blank\"><span style=\"color: #7f7f7f; text-decoration-color: #7f7f7f\">52</span></a>\n",
       "<span style=\"color: #7fbfbf; text-decoration-color: #7fbfbf\">           </span><span style=\"color: #0000ff; text-decoration-color: #0000ff; text-decoration: underline\">https://eodhd.com/api/fundamentals/600819?api_token=5cb671b0b4a790.35526238&amp;fmt=json</span>       <span style=\"color: #7f7f7f; text-decoration-color: #7f7f7f\">             </span>\n",
       "</pre>\n"
      ],
      "text/plain": [
       "\u001b[2;36m          \u001b[0m\u001b[2;36m \u001b[0m\u001b[1;36m404\u001b[0m Client Error: Not Found for url:                                                       \u001b]8;id=129866;file:///Users/altmanmarx/anaconda3/envs/ee559/lib/python3.11/site-packages/eodhd/APIs/BaseAPI.py\u001b\\\u001b[2mBaseAPI.py\u001b[0m\u001b]8;;\u001b\\\u001b[2m:\u001b[0m\u001b]8;id=487831;file:///Users/altmanmarx/anaconda3/envs/ee559/lib/python3.11/site-packages/eodhd/APIs/BaseAPI.py#52\u001b\\\u001b[2m52\u001b[0m\u001b]8;;\u001b\\\n",
       "\u001b[2;36m           \u001b[0m\u001b[4;94mhttps://eodhd.com/api/fundamentals/600819?\u001b[0m\u001b[4;94mapi_token\u001b[0m\u001b[4;94m=\u001b[0m\u001b[4;94m5cb671b0b4a790\u001b[0m\u001b[4;94m.35526238&\u001b[0m\u001b[4;94mfmt\u001b[0m\u001b[4;94m=\u001b[0m\u001b[4;94mjson\u001b[0m       \u001b[2m             \u001b[0m\n"
      ]
     },
     "metadata": {},
     "output_type": "display_data"
    },
    {
     "name": "stdout",
     "output_type": "stream",
     "text": [
      "600819\n"
     ]
    },
    {
     "data": {
      "text/html": [
       "<pre style=\"white-space:pre;overflow-x:auto;line-height:normal;font-family:Menlo,'DejaVu Sans Mono',consolas,'Courier New',monospace\"><span style=\"color: #7fbfbf; text-decoration-color: #7fbfbf\">[12:03:44] </span>Expecting value: line <span style=\"color: #008080; text-decoration-color: #008080; font-weight: bold\">1</span> column <span style=\"color: #008080; text-decoration-color: #008080; font-weight: bold\">1</span> <span style=\"font-weight: bold\">(</span>char <span style=\"color: #008080; text-decoration-color: #008080; font-weight: bold\">0</span><span style=\"font-weight: bold\">)</span>                                                  <a href=\"file:///Users/altmanmarx/anaconda3/envs/ee559/lib/python3.11/site-packages/eodhd/APIs/BaseAPI.py\" target=\"_blank\"><span style=\"color: #7f7f7f; text-decoration-color: #7f7f7f\">BaseAPI.py</span></a><span style=\"color: #7f7f7f; text-decoration-color: #7f7f7f\">:</span><a href=\"file:///Users/altmanmarx/anaconda3/envs/ee559/lib/python3.11/site-packages/eodhd/APIs/BaseAPI.py#39\" target=\"_blank\"><span style=\"color: #7f7f7f; text-decoration-color: #7f7f7f\">39</span></a>\n",
       "</pre>\n"
      ],
      "text/plain": [
       "\u001b[2;36m[12:03:44]\u001b[0m\u001b[2;36m \u001b[0mExpecting value: line \u001b[1;36m1\u001b[0m column \u001b[1;36m1\u001b[0m \u001b[1m(\u001b[0mchar \u001b[1;36m0\u001b[0m\u001b[1m)\u001b[0m                                                  \u001b]8;id=417156;file:///Users/altmanmarx/anaconda3/envs/ee559/lib/python3.11/site-packages/eodhd/APIs/BaseAPI.py\u001b\\\u001b[2mBaseAPI.py\u001b[0m\u001b]8;;\u001b\\\u001b[2m:\u001b[0m\u001b]8;id=105903;file:///Users/altmanmarx/anaconda3/envs/ee559/lib/python3.11/site-packages/eodhd/APIs/BaseAPI.py#39\u001b\\\u001b[2m39\u001b[0m\u001b]8;;\u001b\\\n"
      ]
     },
     "metadata": {},
     "output_type": "display_data"
    },
    {
     "data": {
      "text/html": [
       "<pre style=\"white-space:pre;overflow-x:auto;line-height:normal;font-family:Menlo,'DejaVu Sans Mono',consolas,'Courier New',monospace\"><span style=\"color: #7fbfbf; text-decoration-color: #7fbfbf\">           </span><span style=\"color: #008080; text-decoration-color: #008080; font-weight: bold\">404</span> Client Error: Not Found for url:                                                       <a href=\"file:///Users/altmanmarx/anaconda3/envs/ee559/lib/python3.11/site-packages/eodhd/APIs/BaseAPI.py\" target=\"_blank\"><span style=\"color: #7f7f7f; text-decoration-color: #7f7f7f\">BaseAPI.py</span></a><span style=\"color: #7f7f7f; text-decoration-color: #7f7f7f\">:</span><a href=\"file:///Users/altmanmarx/anaconda3/envs/ee559/lib/python3.11/site-packages/eodhd/APIs/BaseAPI.py#52\" target=\"_blank\"><span style=\"color: #7f7f7f; text-decoration-color: #7f7f7f\">52</span></a>\n",
       "<span style=\"color: #7fbfbf; text-decoration-color: #7fbfbf\">           </span><span style=\"color: #0000ff; text-decoration-color: #0000ff; text-decoration: underline\">https://eodhd.com/api/fundamentals/002149?api_token=5cb671b0b4a790.35526238&amp;fmt=json</span>       <span style=\"color: #7f7f7f; text-decoration-color: #7f7f7f\">             </span>\n",
       "</pre>\n"
      ],
      "text/plain": [
       "\u001b[2;36m          \u001b[0m\u001b[2;36m \u001b[0m\u001b[1;36m404\u001b[0m Client Error: Not Found for url:                                                       \u001b]8;id=557958;file:///Users/altmanmarx/anaconda3/envs/ee559/lib/python3.11/site-packages/eodhd/APIs/BaseAPI.py\u001b\\\u001b[2mBaseAPI.py\u001b[0m\u001b]8;;\u001b\\\u001b[2m:\u001b[0m\u001b]8;id=490397;file:///Users/altmanmarx/anaconda3/envs/ee559/lib/python3.11/site-packages/eodhd/APIs/BaseAPI.py#52\u001b\\\u001b[2m52\u001b[0m\u001b]8;;\u001b\\\n",
       "\u001b[2;36m           \u001b[0m\u001b[4;94mhttps://eodhd.com/api/fundamentals/002149?\u001b[0m\u001b[4;94mapi_token\u001b[0m\u001b[4;94m=\u001b[0m\u001b[4;94m5cb671b0b4a790\u001b[0m\u001b[4;94m.35526238&\u001b[0m\u001b[4;94mfmt\u001b[0m\u001b[4;94m=\u001b[0m\u001b[4;94mjson\u001b[0m       \u001b[2m             \u001b[0m\n"
      ]
     },
     "metadata": {},
     "output_type": "display_data"
    },
    {
     "name": "stdout",
     "output_type": "stream",
     "text": [
      "002149\n"
     ]
    },
    {
     "data": {
      "text/html": [
       "<pre style=\"white-space:pre;overflow-x:auto;line-height:normal;font-family:Menlo,'DejaVu Sans Mono',consolas,'Courier New',monospace\"><span style=\"color: #7fbfbf; text-decoration-color: #7fbfbf\">[12:03:45] </span>Expecting value: line <span style=\"color: #008080; text-decoration-color: #008080; font-weight: bold\">1</span> column <span style=\"color: #008080; text-decoration-color: #008080; font-weight: bold\">1</span> <span style=\"font-weight: bold\">(</span>char <span style=\"color: #008080; text-decoration-color: #008080; font-weight: bold\">0</span><span style=\"font-weight: bold\">)</span>                                                  <a href=\"file:///Users/altmanmarx/anaconda3/envs/ee559/lib/python3.11/site-packages/eodhd/APIs/BaseAPI.py\" target=\"_blank\"><span style=\"color: #7f7f7f; text-decoration-color: #7f7f7f\">BaseAPI.py</span></a><span style=\"color: #7f7f7f; text-decoration-color: #7f7f7f\">:</span><a href=\"file:///Users/altmanmarx/anaconda3/envs/ee559/lib/python3.11/site-packages/eodhd/APIs/BaseAPI.py#39\" target=\"_blank\"><span style=\"color: #7f7f7f; text-decoration-color: #7f7f7f\">39</span></a>\n",
       "</pre>\n"
      ],
      "text/plain": [
       "\u001b[2;36m[12:03:45]\u001b[0m\u001b[2;36m \u001b[0mExpecting value: line \u001b[1;36m1\u001b[0m column \u001b[1;36m1\u001b[0m \u001b[1m(\u001b[0mchar \u001b[1;36m0\u001b[0m\u001b[1m)\u001b[0m                                                  \u001b]8;id=364624;file:///Users/altmanmarx/anaconda3/envs/ee559/lib/python3.11/site-packages/eodhd/APIs/BaseAPI.py\u001b\\\u001b[2mBaseAPI.py\u001b[0m\u001b]8;;\u001b\\\u001b[2m:\u001b[0m\u001b]8;id=906698;file:///Users/altmanmarx/anaconda3/envs/ee559/lib/python3.11/site-packages/eodhd/APIs/BaseAPI.py#39\u001b\\\u001b[2m39\u001b[0m\u001b]8;;\u001b\\\n"
      ]
     },
     "metadata": {},
     "output_type": "display_data"
    },
    {
     "data": {
      "text/html": [
       "<pre style=\"white-space:pre;overflow-x:auto;line-height:normal;font-family:Menlo,'DejaVu Sans Mono',consolas,'Courier New',monospace\"><span style=\"color: #7fbfbf; text-decoration-color: #7fbfbf\">           </span><span style=\"color: #008080; text-decoration-color: #008080; font-weight: bold\">404</span> Client Error: Not Found for url:                                                       <a href=\"file:///Users/altmanmarx/anaconda3/envs/ee559/lib/python3.11/site-packages/eodhd/APIs/BaseAPI.py\" target=\"_blank\"><span style=\"color: #7f7f7f; text-decoration-color: #7f7f7f\">BaseAPI.py</span></a><span style=\"color: #7f7f7f; text-decoration-color: #7f7f7f\">:</span><a href=\"file:///Users/altmanmarx/anaconda3/envs/ee559/lib/python3.11/site-packages/eodhd/APIs/BaseAPI.py#52\" target=\"_blank\"><span style=\"color: #7f7f7f; text-decoration-color: #7f7f7f\">52</span></a>\n",
       "<span style=\"color: #7fbfbf; text-decoration-color: #7fbfbf\">           </span><span style=\"color: #0000ff; text-decoration-color: #0000ff; text-decoration: underline\">https://eodhd.com/api/fundamentals/LU4?api_token=5cb671b0b4a790.35526238&amp;fmt=json</span>          <span style=\"color: #7f7f7f; text-decoration-color: #7f7f7f\">             </span>\n",
       "</pre>\n"
      ],
      "text/plain": [
       "\u001b[2;36m          \u001b[0m\u001b[2;36m \u001b[0m\u001b[1;36m404\u001b[0m Client Error: Not Found for url:                                                       \u001b]8;id=495906;file:///Users/altmanmarx/anaconda3/envs/ee559/lib/python3.11/site-packages/eodhd/APIs/BaseAPI.py\u001b\\\u001b[2mBaseAPI.py\u001b[0m\u001b]8;;\u001b\\\u001b[2m:\u001b[0m\u001b]8;id=670131;file:///Users/altmanmarx/anaconda3/envs/ee559/lib/python3.11/site-packages/eodhd/APIs/BaseAPI.py#52\u001b\\\u001b[2m52\u001b[0m\u001b]8;;\u001b\\\n",
       "\u001b[2;36m           \u001b[0m\u001b[4;94mhttps://eodhd.com/api/fundamentals/LU4?\u001b[0m\u001b[4;94mapi_token\u001b[0m\u001b[4;94m=\u001b[0m\u001b[4;94m5cb671b0b4a790\u001b[0m\u001b[4;94m.35526238&\u001b[0m\u001b[4;94mfmt\u001b[0m\u001b[4;94m=\u001b[0m\u001b[4;94mjson\u001b[0m          \u001b[2m             \u001b[0m\n"
      ]
     },
     "metadata": {},
     "output_type": "display_data"
    },
    {
     "name": "stdout",
     "output_type": "stream",
     "text": [
      "LU4\n"
     ]
    }
   ],
   "source": [
    "if BM:\n",
    "    bmpb = pd.DataFrame(BM)\n",
    "    financial_data_list = []\n",
    "    for i in range(bmpb.size):\n",
    "        try:\n",
    "            code = bmpb.loc[i]['data']['code']\n",
    "            financials = api.get_fundamentals_data(code)\n",
    "            print(code)\n",
    "            if financials:\n",
    "                financial_data_list.append(financials)\n",
    "        except Exception as e:\n",
    "            print(f'error data for {code} : {e}')"
   ]
  },
  {
   "cell_type": "code",
   "execution_count": 8,
   "metadata": {},
   "outputs": [
    {
     "name": "stdout",
     "output_type": "stream",
     "text": [
      "14\n"
     ]
    }
   ],
   "source": [
    "print(len(financial_data_list))"
   ]
  },
  {
   "cell_type": "code",
   "execution_count": null,
   "metadata": {},
   "outputs": [],
   "source": []
  },
  {
   "cell_type": "code",
   "execution_count": 7,
   "metadata": {},
   "outputs": [],
   "source": [
    "import matplotlib.pyplot as plt"
   ]
  },
  {
   "cell_type": "code",
   "execution_count": 9,
   "metadata": {},
   "outputs": [
    {
     "name": "stdout",
     "output_type": "stream",
     "text": [
      "                                                 data\n",
      "0   {'code': 'MLM', 'name': 'Martin Marietta Mater...\n",
      "1   {'code': 'VMC', 'name': 'Vulcan Materials Comp...\n",
      "2   {'code': 'MMX', 'name': 'Martin Marietta Mater...\n",
      "3   {'code': '002066', 'name': 'Ruitai Materials T...\n",
      "4   {'code': '600293', 'name': 'Hubei Sanxia New B...\n",
      "5   {'code': 'VMC', 'name': 'Vulcan Materials Comp...\n",
      "6   {'code': '002377', 'name': 'Hubei Guochuang Hi...\n",
      "7   {'code': 'EXP', 'name': 'Eagle Materials Inc',...\n",
      "8   {'code': 'D1Y', 'name': 'China National Buildi...\n",
      "9   {'code': '002596', 'name': 'Hainan RuiZe New B...\n",
      "10  {'code': '600449', 'name': 'Ningxia Building M...\n",
      "11  {'code': '2504', 'name': 'Goldsun Building Mat...\n",
      "12  {'code': '600425', 'name': 'Xinjiang Qingsong ...\n",
      "13  {'code': 'SUM', 'name': 'Summit Materials Inc'...\n",
      "14  {'code': 'CBUMY', 'name': 'China National Buil...\n",
      "15  {'code': 'MLM', 'name': 'Martin Marietta Mater...\n",
      "16  {'code': '002742', 'name': 'Chongqing Sansheng...\n",
      "17  {'code': '603916', 'name': 'Sobute New Materia...\n",
      "18  {'code': 'DXV', 'name': 'Da Nang Construction ...\n",
      "19  {'code': 'LBM', 'name': 'Lam Dong Mineral and ...\n",
      "20  {'code': '7SU', 'name': 'Summit Materials Inc'...\n",
      "21  {'code': '8463', 'name': 'Ruentex Materials Co...\n",
      "22  {'code': 'E5M', 'name': 'Eagle Materials Inc',...\n",
      "23  {'code': '605122', 'name': 'Chongqing Sifang N...\n",
      "24  {'code': '688119', 'name': 'Sinosteel Luonai M...\n",
      "25  {'code': 'SMS2', 'name': 'PT Semen Indonesia (...\n",
      "26  {'code': '600720', 'name': 'Gansu Qilianshan C...\n",
      "27  {'code': '000672', 'name': 'Gansu Shangfeng Ce...\n",
      "28  {'code': '600255', 'name': 'Xinke Material', '...\n",
      "29  {'code': 'HLBZF', 'name': 'Heidelbergcement AG...\n",
      "30  {'code': 'SCHD', 'name': 'Scheerders van Kerch...\n",
      "31  {'code': '900918', 'name': 'Shanghai Yaohua Pi...\n",
      "32  {'code': '002521', 'name': 'Qifeng New Materia...\n",
      "33  {'code': 'PSGTF', 'name': 'PT Semen Indonesia ...\n",
      "34  {'code': '300196', 'name': 'Jiangsu Changhai C...\n",
      "35  {'code': 'WFG1', 'name': 'West China Cement Li...\n",
      "36  {'code': 'MPO', 'name': 'Michelmersh Brick Hol...\n",
      "37  {'code': 'ADBCF', 'name': 'Adbri Limited', 'la...\n",
      "38  {'code': '1717', 'name': 'Eternal Materials Co...\n",
      "39  {'code': '601011', 'name': 'Baotailong New Mat...\n",
      "40  {'code': 'ST9', 'name': 'Steppe Cement', 'last...\n",
      "41  {'code': '003410', 'name': 'Ssangyong Cement I...\n",
      "42  {'code': '002398', 'name': 'Lets Holding Group...\n",
      "43  {'code': 'RU6', 'name': 'PT Solusi Bangun Indo...\n",
      "44  {'code': 'OZV2', 'name': 'PPC Ltd', 'last_day_...\n",
      "45  {'code': '4HM', 'name': 'Vicat SA', 'last_day_...\n",
      "46  {'code': '000789', 'name': 'Jiangxi Wannianqin...\n",
      "47  {'code': '600819', 'name': 'Shanghai Yaohua Pi...\n",
      "48  {'code': '002149', 'name': 'Western Metal Mate...\n",
      "49  {'code': 'LU4', 'name': 'Luks Group (Vietnam H...\n"
     ]
    }
   ],
   "source": [
    "print(bmpb)"
   ]
  },
  {
   "cell_type": "code",
   "execution_count": 8,
   "metadata": {},
   "outputs": [
    {
     "ename": "KeyError",
     "evalue": "'TotalDebt'",
     "output_type": "error",
     "traceback": [
      "\u001b[0;31m---------------------------------------------------------------------------\u001b[0m",
      "\u001b[0;31mKeyError\u001b[0m                                  Traceback (most recent call last)",
      "File \u001b[0;32m~/anaconda3/envs/ee559/lib/python3.11/site-packages/pandas/core/indexes/base.py:3805\u001b[0m, in \u001b[0;36mIndex.get_loc\u001b[0;34m(self, key)\u001b[0m\n\u001b[1;32m   3804\u001b[0m \u001b[39mtry\u001b[39;00m:\n\u001b[0;32m-> 3805\u001b[0m     \u001b[39mreturn\u001b[39;00m \u001b[39mself\u001b[39;49m\u001b[39m.\u001b[39;49m_engine\u001b[39m.\u001b[39;49mget_loc(casted_key)\n\u001b[1;32m   3806\u001b[0m \u001b[39mexcept\u001b[39;00m \u001b[39mKeyError\u001b[39;00m \u001b[39mas\u001b[39;00m err:\n",
      "File \u001b[0;32mindex.pyx:167\u001b[0m, in \u001b[0;36mpandas._libs.index.IndexEngine.get_loc\u001b[0;34m()\u001b[0m\n",
      "File \u001b[0;32mindex.pyx:196\u001b[0m, in \u001b[0;36mpandas._libs.index.IndexEngine.get_loc\u001b[0;34m()\u001b[0m\n",
      "File \u001b[0;32mpandas/_libs/hashtable_class_helper.pxi:7081\u001b[0m, in \u001b[0;36mpandas._libs.hashtable.PyObjectHashTable.get_item\u001b[0;34m()\u001b[0m\n",
      "File \u001b[0;32mpandas/_libs/hashtable_class_helper.pxi:7089\u001b[0m, in \u001b[0;36mpandas._libs.hashtable.PyObjectHashTable.get_item\u001b[0;34m()\u001b[0m\n",
      "\u001b[0;31mKeyError\u001b[0m: 'TotalDebt'",
      "\nThe above exception was the direct cause of the following exception:\n",
      "\u001b[0;31mKeyError\u001b[0m                                  Traceback (most recent call last)",
      "Cell \u001b[0;32mIn[8], line 1\u001b[0m\n\u001b[0;32m----> 1\u001b[0m bmpb[\u001b[39m'\u001b[39m\u001b[39mdebt_to_ebitda\u001b[39m\u001b[39m'\u001b[39m] \u001b[39m=\u001b[39m bmpb[\u001b[39m'\u001b[39;49m\u001b[39mTotalDebt\u001b[39;49m\u001b[39m'\u001b[39;49m] \u001b[39m/\u001b[39m bmpb[\u001b[39m'\u001b[39m\u001b[39mEBITDA\u001b[39m\u001b[39m'\u001b[39m]\n\u001b[1;32m      2\u001b[0m bmpb[\u001b[39m'\u001b[39m\u001b[39mdividend_yield\u001b[39m\u001b[39m'\u001b[39m] \u001b[39m=\u001b[39m bmpb[\u001b[39m'\u001b[39m\u001b[39mDividendsPerShare\u001b[39m\u001b[39m'\u001b[39m] \u001b[39m/\u001b[39m bmpb[\u001b[39m'\u001b[39m\u001b[39mSharePrice\u001b[39m\u001b[39m'\u001b[39m]\n\u001b[1;32m      3\u001b[0m bmpb[\u001b[39m'\u001b[39m\u001b[39mearnings_yield\u001b[39m\u001b[39m'\u001b[39m] \u001b[39m=\u001b[39m bmpb[\u001b[39m'\u001b[39m\u001b[39mEPS\u001b[39m\u001b[39m'\u001b[39m] \u001b[39m/\u001b[39m bmpb[\u001b[39m'\u001b[39m\u001b[39mSharePrice\u001b[39m\u001b[39m'\u001b[39m]\n",
      "File \u001b[0;32m~/anaconda3/envs/ee559/lib/python3.11/site-packages/pandas/core/frame.py:4102\u001b[0m, in \u001b[0;36mDataFrame.__getitem__\u001b[0;34m(self, key)\u001b[0m\n\u001b[1;32m   4100\u001b[0m \u001b[39mif\u001b[39;00m \u001b[39mself\u001b[39m\u001b[39m.\u001b[39mcolumns\u001b[39m.\u001b[39mnlevels \u001b[39m>\u001b[39m \u001b[39m1\u001b[39m:\n\u001b[1;32m   4101\u001b[0m     \u001b[39mreturn\u001b[39;00m \u001b[39mself\u001b[39m\u001b[39m.\u001b[39m_getitem_multilevel(key)\n\u001b[0;32m-> 4102\u001b[0m indexer \u001b[39m=\u001b[39m \u001b[39mself\u001b[39;49m\u001b[39m.\u001b[39;49mcolumns\u001b[39m.\u001b[39;49mget_loc(key)\n\u001b[1;32m   4103\u001b[0m \u001b[39mif\u001b[39;00m is_integer(indexer):\n\u001b[1;32m   4104\u001b[0m     indexer \u001b[39m=\u001b[39m [indexer]\n",
      "File \u001b[0;32m~/anaconda3/envs/ee559/lib/python3.11/site-packages/pandas/core/indexes/base.py:3812\u001b[0m, in \u001b[0;36mIndex.get_loc\u001b[0;34m(self, key)\u001b[0m\n\u001b[1;32m   3807\u001b[0m     \u001b[39mif\u001b[39;00m \u001b[39misinstance\u001b[39m(casted_key, \u001b[39mslice\u001b[39m) \u001b[39mor\u001b[39;00m (\n\u001b[1;32m   3808\u001b[0m         \u001b[39misinstance\u001b[39m(casted_key, abc\u001b[39m.\u001b[39mIterable)\n\u001b[1;32m   3809\u001b[0m         \u001b[39mand\u001b[39;00m \u001b[39many\u001b[39m(\u001b[39misinstance\u001b[39m(x, \u001b[39mslice\u001b[39m) \u001b[39mfor\u001b[39;00m x \u001b[39min\u001b[39;00m casted_key)\n\u001b[1;32m   3810\u001b[0m     ):\n\u001b[1;32m   3811\u001b[0m         \u001b[39mraise\u001b[39;00m InvalidIndexError(key)\n\u001b[0;32m-> 3812\u001b[0m     \u001b[39mraise\u001b[39;00m \u001b[39mKeyError\u001b[39;00m(key) \u001b[39mfrom\u001b[39;00m \u001b[39merr\u001b[39;00m\n\u001b[1;32m   3813\u001b[0m \u001b[39mexcept\u001b[39;00m \u001b[39mTypeError\u001b[39;00m:\n\u001b[1;32m   3814\u001b[0m     \u001b[39m# If we have a listlike key, _check_indexing_error will raise\u001b[39;00m\n\u001b[1;32m   3815\u001b[0m     \u001b[39m#  InvalidIndexError. Otherwise we fall through and re-raise\u001b[39;00m\n\u001b[1;32m   3816\u001b[0m     \u001b[39m#  the TypeError.\u001b[39;00m\n\u001b[1;32m   3817\u001b[0m     \u001b[39mself\u001b[39m\u001b[39m.\u001b[39m_check_indexing_error(key)\n",
      "\u001b[0;31mKeyError\u001b[0m: 'TotalDebt'"
     ]
    }
   ],
   "source": [
    "bmpb['debt_to_ebitda'] = bmpb['TotalDebt'] / bmpb['EBITDA']\n",
    "bmpb['dividend_yield'] = bmpb['DividendsPerShare'] / bmpb['SharePrice']\n",
    "bmpb['earnings_yield'] = bmpb['EPS'] / bmpb['SharePrice']\n",
    "bmpb['fcf_yield'] = bmpb['FreeCashFlowPerShare'] / bmpb['SharePrice']\n",
    "\n",
    "    # 过滤出需要的列\n",
    "plot_data = bmpb[['code', 'debt_to_ebitda', 'dividend_yield', 'earnings_yield', 'fcf_yield']]\n",
    "\n",
    "    # 绘制散点图\n",
    "plt.figure(figsize=(10, 6))\n",
    "\n",
    "plt.scatter(plot_data['debt_to_ebitda'], plot_data['dividend_yield'], color='blue', label='Dividend Yield')\n",
    "plt.scatter(plot_data['debt_to_ebitda'], plot_data['earnings_yield'], color='green', label='Earnings Yield')\n",
    "plt.scatter(plot_data['debt_to_ebitda'], plot_data['fcf_yield'], color='red', label='FCF Yield')\n",
    "\n",
    "plt.xlabel('Debt / EBITDA')\n",
    "plt.ylabel('Yield')\n",
    "plt.title('Debt / EBITDA vs Yield for Energy Sector Stocks')\n",
    "plt.legend()\n",
    "plt.grid(True)\n",
    "plt.show()"
   ]
  }
 ],
 "metadata": {
  "kernelspec": {
   "display_name": "ee559",
   "language": "python",
   "name": "python3"
  },
  "language_info": {
   "codemirror_mode": {
    "name": "ipython",
    "version": 3
   },
   "file_extension": ".py",
   "mimetype": "text/x-python",
   "name": "python",
   "nbconvert_exporter": "python",
   "pygments_lexer": "ipython3",
   "version": "3.11.3"
  },
  "vscode": {
   "interpreter": {
    "hash": "ab6e7fd63cfe7c7ccc1577de38240ba1a32fd03de1b002d6532c94e8ce9d2d06"
   }
  }
 },
 "nbformat": 4,
 "nbformat_minor": 2
}
