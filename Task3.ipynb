{
 "cells": [
  {
   "cell_type": "code",
   "execution_count": 1,
   "metadata": {},
   "outputs": [],
   "source": [
    "from eodhd import APIClient\n",
    "import pandas as pd"
   ]
  },
  {
   "cell_type": "code",
   "execution_count": 2,
   "metadata": {},
   "outputs": [],
   "source": [
    "api_key = \"5cb671b0b4a790.35526238\"\n",
    "api = APIClient(api_key)"
   ]
  },
  {
   "cell_type": "code",
   "execution_count": 3,
   "metadata": {},
   "outputs": [],
   "source": [
    "BM = api.stock_market_screener(filters=[['sector', 'match', 'Basic Materials']])\n",
    "bmpb = pd.DataFrame(BM)"
   ]
  },
  {
   "cell_type": "code",
   "execution_count": 5,
   "metadata": {},
   "outputs": [
    {
     "name": "stdout",
     "output_type": "stream",
     "text": [
      "                                                 data\n",
      "0   {'code': 'MLM', 'name': 'Martin Marietta Mater...\n",
      "1   {'code': 'VMC', 'name': 'Vulcan Materials Comp...\n",
      "2   {'code': 'MMX', 'name': 'Martin Marietta Mater...\n",
      "3   {'code': '002066', 'name': 'Ruitai Materials T...\n",
      "4   {'code': '600293', 'name': 'Hubei Sanxia New B...\n",
      "5   {'code': 'VMC', 'name': 'Vulcan Materials Comp...\n",
      "6   {'code': '002377', 'name': 'Hubei Guochuang Hi...\n",
      "7   {'code': 'EXP', 'name': 'Eagle Materials Inc',...\n",
      "8   {'code': 'D1Y', 'name': 'China National Buildi...\n",
      "9   {'code': '002596', 'name': 'Hainan RuiZe New B...\n",
      "10  {'code': '600449', 'name': 'Ningxia Building M...\n",
      "11  {'code': '2504', 'name': 'Goldsun Building Mat...\n",
      "12  {'code': '600425', 'name': 'Xinjiang Qingsong ...\n",
      "13  {'code': 'SUM', 'name': 'Summit Materials Inc'...\n",
      "14  {'code': 'CBUMY', 'name': 'China National Buil...\n",
      "15  {'code': 'MLM', 'name': 'Martin Marietta Mater...\n",
      "16  {'code': '002742', 'name': 'Chongqing Sansheng...\n",
      "17  {'code': '603916', 'name': 'Sobute New Materia...\n",
      "18  {'code': 'DXV', 'name': 'Da Nang Construction ...\n",
      "19  {'code': 'LBM', 'name': 'Lam Dong Mineral and ...\n",
      "20  {'code': '7SU', 'name': 'Summit Materials Inc'...\n",
      "21  {'code': '8463', 'name': 'Ruentex Materials Co...\n",
      "22  {'code': 'E5M', 'name': 'Eagle Materials Inc',...\n",
      "23  {'code': '605122', 'name': 'Chongqing Sifang N...\n",
      "24  {'code': '688119', 'name': 'Sinosteel Luonai M...\n",
      "25  {'code': 'SMS2', 'name': 'PT Semen Indonesia (...\n",
      "26  {'code': '600720', 'name': 'Gansu Qilianshan C...\n",
      "27  {'code': '000672', 'name': 'Gansu Shangfeng Ce...\n",
      "28  {'code': '600255', 'name': 'Xinke Material', '...\n",
      "29  {'code': 'HLBZF', 'name': 'Heidelbergcement AG...\n",
      "30  {'code': 'SCHD', 'name': 'Scheerders van Kerch...\n",
      "31  {'code': '900918', 'name': 'Shanghai Yaohua Pi...\n",
      "32  {'code': '002521', 'name': 'Qifeng New Materia...\n",
      "33  {'code': 'PSGTF', 'name': 'PT Semen Indonesia ...\n",
      "34  {'code': '300196', 'name': 'Jiangsu Changhai C...\n",
      "35  {'code': 'WFG1', 'name': 'West China Cement Li...\n",
      "36  {'code': 'MPO', 'name': 'Michelmersh Brick Hol...\n",
      "37  {'code': 'ADBCF', 'name': 'Adbri Limited', 'la...\n",
      "38  {'code': '1717', 'name': 'Eternal Materials Co...\n",
      "39  {'code': '601011', 'name': 'Baotailong New Mat...\n",
      "40  {'code': 'ST9', 'name': 'Steppe Cement', 'last...\n",
      "41  {'code': '003410', 'name': 'Ssangyong Cement I...\n",
      "42  {'code': '002398', 'name': 'Lets Holding Group...\n",
      "43  {'code': 'RU6', 'name': 'PT Solusi Bangun Indo...\n",
      "44  {'code': 'OZV2', 'name': 'PPC Ltd', 'last_day_...\n",
      "45  {'code': '4HM', 'name': 'Vicat SA', 'last_day_...\n",
      "46  {'code': '000789', 'name': 'Jiangxi Wannianqin...\n",
      "47  {'code': '600819', 'name': 'Shanghai Yaohua Pi...\n",
      "48  {'code': '002149', 'name': 'Western Metal Mate...\n",
      "49  {'code': 'LU4', 'name': 'Luks Group (Vietnam H...\n"
     ]
    }
   ],
   "source": [
    "print(bmpb)\n",
    "file_path = \"Basic_Materials\"\n",
    "bmpb.to_csv(file_path, index = False)"
   ]
  }
 ],
 "metadata": {
  "kernelspec": {
   "display_name": "ee559",
   "language": "python",
   "name": "python3"
  },
  "language_info": {
   "codemirror_mode": {
    "name": "ipython",
    "version": 3
   },
   "file_extension": ".py",
   "mimetype": "text/x-python",
   "name": "python",
   "nbconvert_exporter": "python",
   "pygments_lexer": "ipython3",
   "version": "3.11.3"
  },
  "vscode": {
   "interpreter": {
    "hash": "ab6e7fd63cfe7c7ccc1577de38240ba1a32fd03de1b002d6532c94e8ce9d2d06"
   }
  }
 },
 "nbformat": 4,
 "nbformat_minor": 2
}
